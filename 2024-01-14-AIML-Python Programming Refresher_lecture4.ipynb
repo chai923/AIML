{
 "cells": [
  {
   "cell_type": "markdown",
   "metadata": {},
   "source": [
    "# Classes and OOP Concepts in Python \n",
    "\n",
    "In python, functions and classes are 2 essential constructs used for different purposes \n",
    "\n",
    "Functions: \n",
    "- Blocks of code that are reusable and perform specific tasks \n",
    "- Independent \n",
    "\n",
    "Classes: \n",
    "- blueprints or structures that contain multiple functions (called methods)\n",
    "- functions within classes are methods that can be dependent \n",
    "- these help create instances (objects) that share common attributes \n"
   ]
  },
  {
   "cell_type": "markdown",
   "metadata": {},
   "source": [
    "## Anatomy of a class \n",
    "It's a blueprint that has all of your functions in one\n",
    "\n",
    "```python\n",
    "#define a new class \n",
    "class MyClass: \n",
    "        #initialize objects \n",
    "        def __init__(self,myObj):   #this is the constructor\n",
    "            self.myObj\n",
    "\n",
    "        def myMethod(self): \n",
    "            return x\n",
    "\n",
    "```"
   ]
  },
  {
   "cell_type": "code",
   "execution_count": null,
   "metadata": {},
   "outputs": [],
   "source": [
    "#To create a blank class \n",
    "    # people use this as a placeholder and then comeback to it. Remove the pass once you're ready to update ot \n",
    "class myEmptyClass: \n",
    "    pass "
   ]
  },
  {
   "cell_type": "code",
   "execution_count": null,
   "metadata": {},
   "outputs": [],
   "source": [
    "class_obj = myEmptyClass() "
   ]
  },
  {
   "cell_type": "code",
   "execution_count": null,
   "metadata": {},
   "outputs": [],
   "source": [
    "#getting help/info \n",
    "help(str)"
   ]
  },
  {
   "cell_type": "markdown",
   "metadata": {},
   "source": [
    "### Problem example \n",
    "build an application for a healthcare system that takes the name, age, and location of the person and prints out details . \n"
   ]
  },
  {
   "cell_type": "code",
   "execution_count": 7,
   "metadata": {},
   "outputs": [],
   "source": [
    "class healthSys: \n",
    "    ''' this is a health system class that provides structure for health data'''\n",
    "\n",
    "    #define a method (aka a function inside of a class) \n",
    "    def print_info(self):\n",
    "        print('Patient Information:')\n",
    "        print('Name\\t\\t:',self.name)\n",
    "        print('Age\\t\\t:',self.age)\n",
    "        print('Location\\t:',self.location)\n",
    "\n",
    "\n"
   ]
  },
  {
   "cell_type": "code",
   "execution_count": 8,
   "metadata": {},
   "outputs": [],
   "source": [
    "#To create a new record using my healthSys blueprint aka class, do the following: \n",
    "record1 = healthSys()\n",
    "record1.name = 'mykel'\n",
    "record1.age = 30\n",
    "record1.location = 'CA'\n",
    "\n",
    "#we have to do it this way IF you don't define a constructor. one line per record info,  which is super lengthy. \n"
   ]
  },
  {
   "cell_type": "code",
   "execution_count": 9,
   "metadata": {},
   "outputs": [
    {
     "name": "stdout",
     "output_type": "stream",
     "text": [
      "Patient Information:\n",
      "Name\t\t: mykel\n",
      "Age\t\t: 30\n",
      "Location\t: CA\n"
     ]
    }
   ],
   "source": [
    "record1.print_info()"
   ]
  },
  {
   "cell_type": "markdown",
   "metadata": {},
   "source": [
    "below, we'll use the constructor and see how much easier it is \n",
    "\n"
   ]
  },
  {
   "cell_type": "code",
   "execution_count": 17,
   "metadata": {},
   "outputs": [],
   "source": [
    "class healthSysinit: \n",
    "    ''' this is a health system class that provides structure for health data'''\n",
    "\n",
    "    #define a constructor (initialization)\n",
    "    def __init__(self,name,age,location): #names of all the attributes \n",
    "    #define a method (aka a function inside of a class) \n",
    "        self.name = name\n",
    "        self.age = age\n",
    "        self.location = location \n",
    "        self.email = name.title() + '@gmail.com'   #we can define additional attributes based on previously defined ones and even use functions here too \n",
    "    \n",
    "    #define a method \n",
    "    def print_info(self):\n",
    "        print('Patient Information:')\n",
    "        print('Name\\t\\t:',self.name)\n",
    "        print('Age\\t\\t:',self.age)\n",
    "        print('Location\\t:',self.location)\n",
    "\n",
    "    def introduce_person(self): \n",
    "        print(f'Hi, my name is {self.name}. I am {self.age}. My email is {self.email} ')"
   ]
  },
  {
   "cell_type": "code",
   "execution_count": 18,
   "metadata": {},
   "outputs": [
    {
     "name": "stdout",
     "output_type": "stream",
     "text": [
      "Patient Information:\n",
      "Name\t\t: Chai\n",
      "Age\t\t: 34\n",
      "Location\t: NY\n",
      "Hi, my name is Chai. I am 34. My email is Chai@gmail.com \n"
     ]
    }
   ],
   "source": [
    "rec1 = healthSysinit(\"Chai\",34,'NY')\n",
    "rec1.print_info()\n",
    "rec1.introduce_person()"
   ]
  },
  {
   "cell_type": "code",
   "execution_count": 15,
   "metadata": {},
   "outputs": [
    {
     "data": {
      "text/plain": [
       "'Chai'"
      ]
     },
     "execution_count": 15,
     "metadata": {},
     "output_type": "execute_result"
    }
   ],
   "source": [
    "#to obtain a single record \n",
    "rec1.name"
   ]
  }
 ],
 "metadata": {
  "kernelspec": {
   "display_name": "Python 3",
   "language": "python",
   "name": "python3"
  },
  "language_info": {
   "codemirror_mode": {
    "name": "ipython",
    "version": 3
   },
   "file_extension": ".py",
   "mimetype": "text/x-python",
   "name": "python",
   "nbconvert_exporter": "python",
   "pygments_lexer": "ipython3",
   "version": "3.12.1"
  }
 },
 "nbformat": 4,
 "nbformat_minor": 2
}
