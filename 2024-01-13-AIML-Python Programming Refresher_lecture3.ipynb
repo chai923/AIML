{
 "cells": [
  {
   "cell_type": "markdown",
   "metadata": {},
   "source": [
    "# Functions in Python"
   ]
  },
  {
   "cell_type": "markdown",
   "metadata": {},
   "source": [
    "- a python object which can be reusable\n",
    "- it contains a block of code that can perform specific tasks\n",
    "- Advantages: it can make a process more organized, maintainable, and efficient."
   ]
  },
  {
   "cell_type": "markdown",
   "metadata": {},
   "source": [
    "### Anatomy of a function:\n",
    "```python\n",
    "def my_function(parameter1, parameter2, ....):\n",
    "    #description of the function\n",
    "    ''' this function does x'''\n",
    "\n",
    "    #add the code block (instructions, definitions, etc...)\n",
    "    instruction 1\n",
    "    instruction 2\n",
    "\n",
    "    return results #not mandatory\n",
    "```"
   ]
  },
  {
   "cell_type": "markdown",
   "metadata": {},
   "source": [
    "Difference between functions and methods:\n",
    "- both are the same, a block of code that has instructions\n",
    "- functions are standalone blocks of code\n",
    "- methods are blocks of code that are associated with a `class` object"
   ]
  },
  {
   "cell_type": "code",
   "execution_count": 2,
   "metadata": {},
   "outputs": [],
   "source": [
    "# basic function: create a function that greets a person when name and greeting type is provided\n",
    "def greetings(name, greetingType):\n",
    "    print(f'{greetingType}, {name}. It is nice to meet you')"
   ]
  },
  {
   "cell_type": "code",
   "execution_count": 3,
   "metadata": {},
   "outputs": [],
   "source": [
    "name1 = 'Biplab'\n",
    "greetingType1 = 'Hello'"
   ]
  },
  {
   "cell_type": "code",
   "execution_count": 4,
   "metadata": {},
   "outputs": [
    {
     "name": "stdout",
     "output_type": "stream",
     "text": [
      "Hello, Biplab. It is nice to meet you\n"
     ]
    }
   ],
   "source": [
    "#let's run the function\n",
    "greetings(name1, greetingType1)"
   ]
  },
  {
   "cell_type": "code",
   "execution_count": 19,
   "metadata": {},
   "outputs": [],
   "source": [
    "def greetings(name, greetingType):\n",
    "    name = name.title() # format the name\n",
    "    print(f'{greetingType}, {name}. It is nice to meet you')"
   ]
  },
  {
   "cell_type": "code",
   "execution_count": 6,
   "metadata": {},
   "outputs": [
    {
     "name": "stdout",
     "output_type": "stream",
     "text": [
      "Hello, Alice. It is nice to meet you\n",
      "Hello, Sam. It is nice to meet you\n",
      "Hello, Mark. It is nice to meet you\n",
      "Hello, Jack. It is nice to meet you\n"
     ]
    }
   ],
   "source": [
    "# we can apply the function on a list\n",
    "students = ['alice', 'sAM', 'MarK', 'Jack']\n",
    "\n",
    "for nm in students:\n",
    "    greetings(nm, 'Hello')"
   ]
  },
  {
   "cell_type": "code",
   "execution_count": 10,
   "metadata": {},
   "outputs": [],
   "source": [
    "# build a function that calculates the sum of a list and adds 4 to the total\n",
    "\n",
    "def sum_list(list_input):\n",
    "    total = sum(list_input)\n",
    "    total = total + 4\n",
    "    print(total)\n"
   ]
  },
  {
   "cell_type": "code",
   "execution_count": 11,
   "metadata": {},
   "outputs": [
    {
     "name": "stdout",
     "output_type": "stream",
     "text": [
      "25\n"
     ]
    }
   ],
   "source": [
    "seq_num = [1,2,3,4,5,6]\n",
    "\n",
    "sum_list(seq_num)"
   ]
  },
  {
   "cell_type": "code",
   "execution_count": 12,
   "metadata": {},
   "outputs": [
    {
     "name": "stdout",
     "output_type": "stream",
     "text": [
      "Biplab, Hello. It is nice to meet you\n"
     ]
    }
   ],
   "source": [
    "# order of objects\n",
    "name1 = 'Biplab'\n",
    "greetingType1 = 'Hello'\n",
    "\n",
    "greetings(greetingType1, name1)"
   ]
  },
  {
   "cell_type": "code",
   "execution_count": 13,
   "metadata": {},
   "outputs": [
    {
     "name": "stdout",
     "output_type": "stream",
     "text": [
      "Hello, Biplab. It is nice to meet you\n"
     ]
    }
   ],
   "source": [
    "# specify the attributes if they are ina  different order\n",
    "# attributes are also called arguments\n",
    "greetings(greetingType=greetingType1, name=name1)"
   ]
  },
  {
   "cell_type": "code",
   "execution_count": 20,
   "metadata": {},
   "outputs": [
    {
     "name": "stdout",
     "output_type": "stream",
     "text": [
      "Hi, Mark. It is nice to meet you\n"
     ]
    }
   ],
   "source": [
    "name2 = 'Mark'\n",
    "greetingType2 = 'Hi'\n",
    "\n",
    "greetings(name2,greetingType2)"
   ]
  },
  {
   "cell_type": "code",
   "execution_count": 21,
   "metadata": {},
   "outputs": [
    {
     "ename": "TypeError",
     "evalue": "greetings() missing 1 required positional argument: 'greetingType'",
     "output_type": "error",
     "traceback": [
      "\u001b[0;31m---------------------------------------------------------------------------\u001b[0m",
      "\u001b[0;31mTypeError\u001b[0m                                 Traceback (most recent call last)",
      "Cell \u001b[0;32mIn[21], line 1\u001b[0m\n\u001b[0;32m----> 1\u001b[0m \u001b[43mgreetings\u001b[49m\u001b[43m(\u001b[49m\u001b[43mname2\u001b[49m\u001b[43m)\u001b[49m\n",
      "\u001b[0;31mTypeError\u001b[0m: greetings() missing 1 required positional argument: 'greetingType'"
     ]
    }
   ],
   "source": [
    "greetings(name2)"
   ]
  },
  {
   "cell_type": "markdown",
   "metadata": {},
   "source": [
    "- we got an error because we're missing an argument defined in the function (greeting type)\n",
    "- the workaround is to assign default argument incase they are not mentioned when you run the function"
   ]
  },
  {
   "cell_type": "code",
   "execution_count": 22,
   "metadata": {},
   "outputs": [],
   "source": [
    "# assign a default value\n",
    "def greetings(name, greetingType='Hi'):\n",
    "    name = name.title() \n",
    "    print(f'{greetingType}, {name}. It is nice to meet you')"
   ]
  },
  {
   "cell_type": "code",
   "execution_count": 23,
   "metadata": {},
   "outputs": [
    {
     "name": "stdout",
     "output_type": "stream",
     "text": [
      "Hi, Mark. It is nice to meet you\n"
     ]
    }
   ],
   "source": [
    "greetings(name2)"
   ]
  },
  {
   "cell_type": "code",
   "execution_count": 28,
   "metadata": {},
   "outputs": [
    {
     "name": "stdout",
     "output_type": "stream",
     "text": [
      "Hello, Mark. It is nice to meet you\n"
     ]
    }
   ],
   "source": [
    "greetingType2 = 'Hello'\n",
    "\n",
    "greetings(name2, greetingType2)"
   ]
  },
  {
   "cell_type": "markdown",
   "metadata": {},
   "source": [
    "## Arbitrary Arguments"
   ]
  },
  {
   "cell_type": "markdown",
   "metadata": {},
   "source": [
    "- `*args` most common syntax, but you can use other if needed e.g. `*tst`, `*vars`\n",
    "- It is used to pass a variable number of arguments"
   ]
  },
  {
   "cell_type": "markdown",
   "metadata": {},
   "source": [
    "Example why we need Arbitrary Arguments"
   ]
  },
  {
   "cell_type": "code",
   "execution_count": 35,
   "metadata": {},
   "outputs": [],
   "source": [
    "def my_sum(a,b,c):\n",
    "    total = sum([a,b,c])\n",
    "    print(total)"
   ]
  },
  {
   "cell_type": "code",
   "execution_count": 31,
   "metadata": {},
   "outputs": [
    {
     "name": "stdout",
     "output_type": "stream",
     "text": [
      "15\n"
     ]
    }
   ],
   "source": [
    "a = 5\n",
    "b = 3\n",
    "c = 7\n",
    "\n",
    "my_sum(a,b,c)"
   ]
  },
  {
   "cell_type": "code",
   "execution_count": 32,
   "metadata": {},
   "outputs": [
    {
     "ename": "TypeError",
     "evalue": "my_sum() missing 1 required positional argument: 'c'",
     "output_type": "error",
     "traceback": [
      "\u001b[0;31m---------------------------------------------------------------------------\u001b[0m",
      "\u001b[0;31mTypeError\u001b[0m                                 Traceback (most recent call last)",
      "Cell \u001b[0;32mIn[32], line 1\u001b[0m\n\u001b[0;32m----> 1\u001b[0m \u001b[43mmy_sum\u001b[49m\u001b[43m(\u001b[49m\u001b[43ma\u001b[49m\u001b[43m,\u001b[49m\u001b[43mb\u001b[49m\u001b[43m)\u001b[49m\n",
      "\u001b[0;31mTypeError\u001b[0m: my_sum() missing 1 required positional argument: 'c'"
     ]
    }
   ],
   "source": [
    "my_sum(a,b) # missing parameter"
   ]
  },
  {
   "cell_type": "code",
   "execution_count": 52,
   "metadata": {},
   "outputs": [],
   "source": [
    "# what if we want to passs multiple without worrying about the limitation of number of variables\n",
    "def my_sum(*args):\n",
    "    my_list = list(args) #place the number of args into a list\n",
    "    total = sum(my_list) # use the sum function to calculate the total of the items in the list\n",
    "    print(total)"
   ]
  },
  {
   "cell_type": "code",
   "execution_count": 53,
   "metadata": {},
   "outputs": [
    {
     "name": "stdout",
     "output_type": "stream",
     "text": [
      "33\n"
     ]
    }
   ],
   "source": [
    "my_sum(3,4,5,6,7,8)"
   ]
  },
  {
   "cell_type": "code",
   "execution_count": 54,
   "metadata": {},
   "outputs": [
    {
     "name": "stdout",
     "output_type": "stream",
     "text": [
      "55\n"
     ]
    }
   ],
   "source": [
    "my_sum(3,4,40,8)"
   ]
  },
  {
   "cell_type": "code",
   "execution_count": 65,
   "metadata": {},
   "outputs": [],
   "source": [
    "# combine a separate argument with multiple args\n",
    "\n",
    "# define a function that gives me my order for pizza and its toppings\n",
    "# Your order is: 12 inch pizza with olives and onions as toppings\n",
    "# the challenge here is there's no limit to the number of toppings\n",
    "\n",
    "def ord_pizza(size, *toppings):\n",
    "    print('Ordered a', size, 'inch pizza')\n",
    "    if len(toppings)>0:\n",
    "        print('With toppings:', toppings)"
   ]
  },
  {
   "cell_type": "code",
   "execution_count": 66,
   "metadata": {},
   "outputs": [
    {
     "name": "stdout",
     "output_type": "stream",
     "text": [
      "Ordered a 12 inch pizza\n",
      "With toppings: ('olives', 'mushrooms')\n"
     ]
    }
   ],
   "source": [
    "ord_pizza(12,'olives', 'mushrooms')"
   ]
  },
  {
   "cell_type": "code",
   "execution_count": 62,
   "metadata": {},
   "outputs": [
    {
     "name": "stdout",
     "output_type": "stream",
     "text": [
      "Ordered a 12 inch pizza\n"
     ]
    }
   ],
   "source": [
    "ord_pizza(12)"
   ]
  },
  {
   "cell_type": "code",
   "execution_count": 74,
   "metadata": {},
   "outputs": [
    {
     "name": "stdout",
     "output_type": "stream",
     "text": [
      "Ordered a 12 inch pizza\n",
      "With toppings: ('olives', 'mushrooms', 'tomatoes')\n"
     ]
    }
   ],
   "source": [
    "ord_pizza(12,'olives', 'mushrooms', 'tomatoes')"
   ]
  },
  {
   "cell_type": "markdown",
   "metadata": {},
   "source": [
    "### `**kwargs`"
   ]
  },
  {
   "cell_type": "markdown",
   "metadata": {},
   "source": [
    "Keyword arguments are a special type of arbitrary arguments that allow a function to accept an arbitrary number of key:value arguments"
   ]
  },
  {
   "cell_type": "code",
   "execution_count": 82,
   "metadata": {},
   "outputs": [],
   "source": [
    "myDict = {\n",
    "    # key : value\n",
    "    'brand': 'Ford',\n",
    "    'model': 'Mustang',\n",
    "    'year': 2016,\n",
    "    'color': 'red'\n",
    "}"
   ]
  },
  {
   "cell_type": "code",
   "execution_count": 69,
   "metadata": {},
   "outputs": [
    {
     "data": {
      "text/plain": [
       "dict_keys(['brand', 'model', 'year', 'color'])"
      ]
     },
     "execution_count": 69,
     "metadata": {},
     "output_type": "execute_result"
    }
   ],
   "source": [
    "my_keys = myDict.keys()\n",
    "my_keys"
   ]
  },
  {
   "cell_type": "code",
   "execution_count": 70,
   "metadata": {},
   "outputs": [
    {
     "data": {
      "text/plain": [
       "dict_values(['Ford', 'Mustang', 2016, 'red'])"
      ]
     },
     "execution_count": 70,
     "metadata": {},
     "output_type": "execute_result"
    }
   ],
   "source": [
    "my_values = myDict.values()\n",
    "my_values"
   ]
  },
  {
   "cell_type": "code",
   "execution_count": 77,
   "metadata": {},
   "outputs": [
    {
     "data": {
      "text/plain": [
       "dict_items([('brand', 'Ford'), ('model', 'Mustang'), ('year', 2016), ('color', 'red')])"
      ]
     },
     "execution_count": 77,
     "metadata": {},
     "output_type": "execute_result"
    }
   ],
   "source": [
    "myDict.items()"
   ]
  },
  {
   "cell_type": "code",
   "execution_count": 73,
   "metadata": {},
   "outputs": [
    {
     "data": {
      "text/plain": [
       "'Mustang'"
      ]
     },
     "execution_count": 73,
     "metadata": {},
     "output_type": "execute_result"
    }
   ],
   "source": [
    "myDict['model']"
   ]
  },
  {
   "cell_type": "code",
   "execution_count": 99,
   "metadata": {},
   "outputs": [],
   "source": [
    "def infor(**kwargs): # we have double * because it's a key: value set (not one object)\n",
    "    for value in kwargs.values():\n",
    "        print(value)"
   ]
  },
  {
   "cell_type": "code",
   "execution_count": 100,
   "metadata": {},
   "outputs": [
    {
     "name": "stdout",
     "output_type": "stream",
     "text": [
      "Ford\n",
      "Mustang\n",
      "2016\n",
      "red\n"
     ]
    }
   ],
   "source": [
    "infor(**myDict)"
   ]
  },
  {
   "cell_type": "code",
   "execution_count": 103,
   "metadata": {},
   "outputs": [],
   "source": [
    "# if you want both key and value, use items()\n",
    "def infor(**kwargs): \n",
    "    for key, value in kwargs.items():\n",
    "        print('category name:',key,' | category value:',value)"
   ]
  },
  {
   "cell_type": "code",
   "execution_count": 104,
   "metadata": {},
   "outputs": [
    {
     "name": "stdout",
     "output_type": "stream",
     "text": [
      "category name: brand  | category value: Ford\n",
      "category name: model  | category value: Mustang\n",
      "category name: year  | category value: 2016\n",
      "category name: color  | category value: red\n"
     ]
    }
   ],
   "source": [
    "infor(**myDict)"
   ]
  },
  {
   "cell_type": "code",
   "execution_count": 105,
   "metadata": {},
   "outputs": [],
   "source": [
    "def info(**kwargs):\n",
    "    for key in kwargs:\n",
    "        print(key, kwargs[key])"
   ]
  },
  {
   "cell_type": "code",
   "execution_count": 107,
   "metadata": {},
   "outputs": [
    {
     "name": "stdout",
     "output_type": "stream",
     "text": [
      "brand Ford\n",
      "model Mustang\n",
      "year 2016\n",
      "color red\n"
     ]
    }
   ],
   "source": [
    "info(**myDict)"
   ]
  },
  {
   "cell_type": "code",
   "execution_count": 108,
   "metadata": {},
   "outputs": [],
   "source": [
    "myDict3 = {\n",
    "    'Item1': [4,5,6,7],\n",
    "    'Item2': [6,7,8,3],\n",
    "    'Item3': [12,5,6,8]\n",
    "\n",
    "}"
   ]
  },
  {
   "cell_type": "code",
   "execution_count": 121,
   "metadata": {},
   "outputs": [],
   "source": [
    "# objective: use the dict above to calculate the total of each item\n",
    "\n",
    "def OverallTot(**kwargs):\n",
    "    for key,val in kwargs.items():\n",
    "        print('Total for',key,'is',sum(val))"
   ]
  },
  {
   "cell_type": "code",
   "execution_count": 122,
   "metadata": {},
   "outputs": [
    {
     "name": "stdout",
     "output_type": "stream",
     "text": [
      "Total for Item1 is 22\n",
      "Total for Item2 is 24\n",
      "Total for Item3 is 31\n"
     ]
    }
   ],
   "source": [
    "OverallTot(**myDict3)"
   ]
  },
  {
   "cell_type": "markdown",
   "metadata": {},
   "source": [
    "### Utility Functions\n",
    "#### map() function \n",
    "Using the map function to apply a function on a list of items "
   ]
  },
  {
   "cell_type": "code",
   "execution_count": 8,
   "metadata": {},
   "outputs": [
    {
     "name": "stdout",
     "output_type": "stream",
     "text": [
      "22 in Celsius is 71.6 in Fahrenheit\n",
      "40 in Celsius is 104.0 in Fahrenheit\n",
      "10.1111 in Celsius is 50.2 in Fahrenheit\n",
      "7 in Celsius is 44.6 in Fahrenheit\n",
      "8 in Celsius is 46.4 in Fahrenheit\n"
     ]
    }
   ],
   "source": [
    "# Convert the following list of temps from C to F \n",
    "tempList = [22,40,10.1111,7,8]\n",
    "# conversion formula: F = C*(9/5)+32\n",
    "\n",
    "for T in tempList: \n",
    "    F = T*(9/5) + 32\n",
    "    print(T,'in Celsius is',round(F,2),\"in Fahrenheit\")\n"
   ]
  },
  {
   "cell_type": "markdown",
   "metadata": {},
   "source": [
    "Now let's do it with the easy and reccommended way with map() \n",
    "It's a shortcut to the for loop when you have a function def and a list!\n",
    "Maps are much faster than for loops."
   ]
  },
  {
   "cell_type": "code",
   "execution_count": 12,
   "metadata": {},
   "outputs": [],
   "source": [
    "def CtempF(T): \n",
    "    return(round(T*(9/5) + 32,2))"
   ]
  },
  {
   "cell_type": "code",
   "execution_count": 13,
   "metadata": {},
   "outputs": [
    {
     "data": {
      "text/plain": [
       "[71.6, 104.0, 50.2, 44.6, 46.4]"
      ]
     },
     "execution_count": 13,
     "metadata": {},
     "output_type": "execute_result"
    }
   ],
   "source": [
    "list(map(CtempF,tempList))"
   ]
  },
  {
   "cell_type": "markdown",
   "metadata": {},
   "source": [
    "### lambda function \n",
    "The lambda function (anonymous function), is a small, single-expression quick function\n",
    "- they do not have a name! thus anonymous \n",
    "- useful for quick and easy one-off operations \n",
    "- avoid using lambda for complex functions"
   ]
  },
  {
   "cell_type": "code",
   "execution_count": 15,
   "metadata": {},
   "outputs": [
    {
     "name": "stdout",
     "output_type": "stream",
     "text": [
      "15\n"
     ]
    }
   ],
   "source": [
    "# Use a function to add 10 to x and give y e.g. y = x + 10 \n",
    "\n",
    "x = lambda a : a + 10\n",
    "y = x(5)\n",
    "print(y)"
   ]
  },
  {
   "cell_type": "code",
   "execution_count": 30,
   "metadata": {},
   "outputs": [
    {
     "data": {
      "text/plain": [
       "[71.6, 104.0, 50.2, 44.6, 46.4]"
      ]
     },
     "execution_count": 30,
     "metadata": {},
     "output_type": "execute_result"
    }
   ],
   "source": [
    "Ftemp = lambda Ctemp: round(Ctemp*(9/5) + 32,2)\n",
    "list(map(Ftemp,tempList))"
   ]
  },
  {
   "cell_type": "code",
   "execution_count": 33,
   "metadata": {},
   "outputs": [
    {
     "data": {
      "text/plain": [
       "[71.6, 104.0, 50.2, 44.6, 46.4]"
      ]
     },
     "execution_count": 33,
     "metadata": {},
     "output_type": "execute_result"
    }
   ],
   "source": [
    "list(map(lambda a: round(a*(9/5) + 32,2),tempList))"
   ]
  },
  {
   "cell_type": "markdown",
   "metadata": {},
   "source": [
    "example lambda with 2 variables "
   ]
  },
  {
   "cell_type": "code",
   "execution_count": 22,
   "metadata": {},
   "outputs": [
    {
     "data": {
      "text/plain": [
       "48"
      ]
     },
     "execution_count": 22,
     "metadata": {},
     "output_type": "execute_result"
    }
   ],
   "source": [
    "prod = lambda a,b: a*b \n",
    "a = 6 \n",
    "b = 8 \n",
    "prod(a,b) \n"
   ]
  },
  {
   "cell_type": "code",
   "execution_count": 27,
   "metadata": {},
   "outputs": [
    {
     "data": {
      "text/plain": [
       "[32, 45, 36]"
      ]
     },
     "execution_count": 27,
     "metadata": {},
     "output_type": "execute_result"
    }
   ],
   "source": [
    "#taking in 2 inputs for map \n",
    "def prod(x,y):\n",
    "    return x*y \n",
    "a = [4,5,6]\n",
    "b = [8,9,6]\n",
    "list(map(prod,a,b))"
   ]
  },
  {
   "cell_type": "code",
   "execution_count": 32,
   "metadata": {},
   "outputs": [
    {
     "data": {
      "text/plain": [
       "[8, 10, 12, 14, 16]"
      ]
     },
     "execution_count": 32,
     "metadata": {},
     "output_type": "execute_result"
    }
   ],
   "source": [
    "#Use lambda without defining it as an object \n",
    "a = [4,5,6,7,8]\n",
    "#double the numbers in the list above \n",
    "doubled_list = list(map(lambda x:x*2,a))\n",
    "doubled_list"
   ]
  },
  {
   "cell_type": "markdown",
   "metadata": {},
   "source": [
    "### Practice problem\n",
    "Dictionaries \n",
    "- Create a dictionary with the following info(keys): name(Sam), age (35), major (data science)\n",
    "- add a new key called gender \n",
    "- update the value of age to 25 \n",
    "- remove the major key \n",
    "- iterate through the student(dictionary) info to print out values \n",
    "\n",
    "Loops \n",
    "- Build a for loop that converts each name in this list to Upper Case ['sam','becky','mark']\n",
    "\n",
    "Function and using map \n",
    "- define a function that takes the average of the of following list: kg = [4,5,88,9,12]. hint: derive the sum of the list and the length (sum/length)\n",
    "- use lambda function that converts kg to lbs. Use map to apply the function on the following [45,60,33,20.5] \n",
    "    - hint: multiply kgs by 0.45 "
   ]
  },
  {
   "cell_type": "code",
   "execution_count": 48,
   "metadata": {},
   "outputs": [
    {
     "name": "stdout",
     "output_type": "stream",
     "text": [
      "{'name': 'Sam', 'age': 35, 'major': 'data science'}\n",
      "{'name': 'Sam', 'age': 35, 'major': 'data science', 'gender': 'female'}\n",
      "{'name': 'Sam', 'age': 25, 'major': 'data science', 'gender': 'female'}\n",
      "{'name': 'Sam', 'age': 25, 'gender': 'female'}\n",
      "name - Sam\n",
      "age - 25\n",
      "gender - female\n"
     ]
    }
   ],
   "source": [
    "studentDict = {\n",
    "    \"name\": 'Sam',\n",
    "    \"age\": 35,\n",
    "    \"major\":'data science'\n",
    "}\n",
    "\n",
    "print(studentDict)\n",
    "\n",
    "studentDict['gender'] = 'female'\n",
    "print(studentDict)\n",
    "\n",
    "studentDict['age'] = 25 \n",
    "print(studentDict)\n",
    "\n",
    "del studentDict['major']\n",
    "print(studentDict)\n",
    "\n",
    "for k,v in studentDict.items(): \n",
    "    print(k,\"-\",v)\n",
    "\n"
   ]
  },
  {
   "cell_type": "code",
   "execution_count": 68,
   "metadata": {},
   "outputs": [
    {
     "name": "stdout",
     "output_type": "stream",
     "text": [
      "['SAM', 'BECKY', 'MARK']\n",
      "['Sam', 'Becky', 'Mark']\n"
     ]
    },
    {
     "data": {
      "text/plain": [
       "['SAM', 'BECKY', 'MARK']"
      ]
     },
     "execution_count": 68,
     "metadata": {},
     "output_type": "execute_result"
    }
   ],
   "source": [
    "names = ['sam','becky','mark']\n",
    "for i in range(len(names)): \n",
    "    names[i] = names[i].upper()\n",
    "    \n",
    "print(names)\n",
    "\n",
    "names = ['sam','becky','mark']\n",
    "for i in range(len(names)): \n",
    "    names[i] = names[i].capitalize()\n",
    "    \n",
    "print(names)\n",
    "\n",
    "#ANOTHER VERSION \n",
    "for i,name in enumerate(names): \n",
    "    names[i] = name.upper()\n",
    "\n",
    "names\n"
   ]
  },
  {
   "cell_type": "code",
   "execution_count": 60,
   "metadata": {},
   "outputs": [
    {
     "data": {
      "text/plain": [
       "5.0"
      ]
     },
     "execution_count": 60,
     "metadata": {},
     "output_type": "execute_result"
    }
   ],
   "source": [
    "def average(numlists):\n",
    "    total = 0 \n",
    "    for i in numlists: \n",
    "        total = total + i\n",
    "    return total/len(numlists)\n",
    "\n",
    "average([4,5,6])"
   ]
  },
  {
   "cell_type": "code",
   "execution_count": 66,
   "metadata": {},
   "outputs": [
    {
     "name": "stdout",
     "output_type": "stream",
     "text": [
      "5.0\n"
     ]
    }
   ],
   "source": [
    "def ckavg(setnums): \n",
    "    denominator = len(setnums)\n",
    "    numerator = sum(setnums)\n",
    "    return numerator/denominator\n",
    "\n",
    "print(ckavg([4,5,6]))"
   ]
  },
  {
   "cell_type": "code",
   "execution_count": 67,
   "metadata": {},
   "outputs": [
    {
     "name": "stdout",
     "output_type": "stream",
     "text": [
      "[99.0, 132.0, 72.6, 45.1]\n"
     ]
    }
   ],
   "source": [
    "#Using map and lambda \n",
    "kgs = [45,60,33,20.5]\n",
    "\n",
    "lbs = list(map(lambda x:round(x*2.2,2),kgs))\n",
    "print(lbs)"
   ]
  }
 ],
 "metadata": {
  "kernelspec": {
   "display_name": "Python 3",
   "language": "python",
   "name": "python3"
  },
  "language_info": {
   "codemirror_mode": {
    "name": "ipython",
    "version": 3
   },
   "file_extension": ".py",
   "mimetype": "text/x-python",
   "name": "python",
   "nbconvert_exporter": "python",
   "pygments_lexer": "ipython3",
   "version": "3.12.1"
  }
 },
 "nbformat": 4,
 "nbformat_minor": 2
}
