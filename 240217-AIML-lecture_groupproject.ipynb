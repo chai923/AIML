{
 "cells": [
  {
   "cell_type": "markdown",
   "metadata": {},
   "source": [
    "# 240217: In Class Group Work \n",
    "- Import relevant python libraries.\n",
    "- Import the CSV file – NSMES1988new.csv into a dataframe and enforce the dtypes recommended in step 9 of Week 1.\n",
    "- Perform the following operations on age and income columns. Multiply Age by 10 and income by 10000.\n",
    "- Perform basic statistical analysis on the new dataframe and generate a brief report on the outcome.  \n",
    "Aggregations:\n",
    "- total visits by gender\n",
    "- average income by health\n",
    "- average visit by region\n",
    "- Invoke describe command on the dataframe and compare that with the basic statistical analysis done in the previous step, and report.\n",
    "- build a scatterplot for income vs age"
   ]
  },
  {
   "cell_type": "markdown",
   "metadata": {},
   "source": [
    "## Import relevant python libraries"
   ]
  },
  {
   "cell_type": "code",
   "execution_count": 5,
   "metadata": {},
   "outputs": [
    {
     "name": "stderr",
     "output_type": "stream",
     "text": [
      "C:\\Users\\chand\\AppData\\Local\\Temp\\ipykernel_45472\\545415830.py:1: DeprecationWarning: \n",
      "Pyarrow will become a required dependency of pandas in the next major release of pandas (pandas 3.0),\n",
      "(to allow more performant data types, such as the Arrow string type, and better interoperability with other libraries)\n",
      "but was not found to be installed on your system.\n",
      "If this would cause problems for you,\n",
      "please provide us feedback at https://github.com/pandas-dev/pandas/issues/54466\n",
      "        \n",
      "  import pandas as pd\n"
     ]
    }
   ],
   "source": [
    "import pandas as pd\n",
    "import numpy as np\n",
    "import matplotlib \n",
    "import seaborn as sns"
   ]
  },
  {
   "cell_type": "markdown",
   "metadata": {},
   "source": [
    "Import the CSV file – NSMES1988new.csv into a dataframe and enforce the dtypes recommended in step 9 of Week 1.\n"
   ]
  },
  {
   "cell_type": "code",
   "execution_count": 6,
   "metadata": {},
   "outputs": [],
   "source": [
    "df = pd.read_csv('NSMES1988.csv')"
   ]
  },
  {
   "cell_type": "code",
   "execution_count": 7,
   "metadata": {},
   "outputs": [
    {
     "name": "stdout",
     "output_type": "stream",
     "text": [
      "Index(['Unnamed: 0', 'visits', 'nvisits', 'ovisits', 'novisits', 'emergency',\n",
      "       'hospital', 'chronic', 'school'],\n",
      "      dtype='object')\n"
     ]
    }
   ],
   "source": [
    "numerical_cols = df.select_dtypes('int').columns\n",
    "print(numerical_cols)"
   ]
  },
  {
   "cell_type": "markdown",
   "metadata": {},
   "source": [
    "Perform the following operations on age and income columns. Multiply Age by 10 and income by 10000."
   ]
  },
  {
   "cell_type": "code",
   "execution_count": 8,
   "metadata": {},
   "outputs": [],
   "source": [
    "df['age10'] = df['age']*10\n",
    "df['income10'] = df['income']*10000"
   ]
  },
  {
   "cell_type": "code",
   "execution_count": 9,
   "metadata": {},
   "outputs": [
    {
     "name": "stdout",
     "output_type": "stream",
     "text": [
      "<class 'pandas.core.frame.DataFrame'>\n",
      "RangeIndex: 4406 entries, 0 to 4405\n",
      "Data columns (total 22 columns):\n",
      " #   Column      Non-Null Count  Dtype  \n",
      "---  ------      --------------  -----  \n",
      " 0   Unnamed: 0  4406 non-null   int16  \n",
      " 1   visits      4406 non-null   int16  \n",
      " 2   nvisits     4406 non-null   int16  \n",
      " 3   ovisits     4406 non-null   int16  \n",
      " 4   novisits    4406 non-null   int16  \n",
      " 5   emergency   4406 non-null   int16  \n",
      " 6   hospital    4406 non-null   int16  \n",
      " 7   health      4406 non-null   object \n",
      " 8   chronic     4406 non-null   int16  \n",
      " 9   adl         4406 non-null   object \n",
      " 10  region      4406 non-null   object \n",
      " 11  age         4406 non-null   float64\n",
      " 12  afam        4406 non-null   object \n",
      " 13  gender      4406 non-null   object \n",
      " 14  married     4406 non-null   object \n",
      " 15  school      4406 non-null   int16  \n",
      " 16  income      4406 non-null   float64\n",
      " 17  employed    4406 non-null   object \n",
      " 18  insurance   4406 non-null   object \n",
      " 19  medicaid    4406 non-null   object \n",
      " 20  age10       4406 non-null   float64\n",
      " 21  income10    4406 non-null   float64\n",
      "dtypes: float64(4), int16(9), object(9)\n",
      "memory usage: 525.1+ KB\n"
     ]
    }
   ],
   "source": [
    "#dtypes \n",
    "df[numerical_cols] = df[numerical_cols].astype('int16')\n",
    "df.info()"
   ]
  },
  {
   "cell_type": "markdown",
   "metadata": {},
   "source": [
    "Perform basic statistical analysis on the new dataframe and generate a brief report on the outcome.  "
   ]
  },
  {
   "cell_type": "markdown",
   "metadata": {},
   "source": [
    "Aggregations:\n",
    "- total visits by gender\n",
    "- average income by health\n",
    "- average visit by region"
   ]
  },
  {
   "cell_type": "code",
   "execution_count": 10,
   "metadata": {},
   "outputs": [
    {
     "data": {
      "text/html": [
       "<div>\n",
       "<style scoped>\n",
       "    .dataframe tbody tr th:only-of-type {\n",
       "        vertical-align: middle;\n",
       "    }\n",
       "\n",
       "    .dataframe tbody tr th {\n",
       "        vertical-align: top;\n",
       "    }\n",
       "\n",
       "    .dataframe thead th {\n",
       "        text-align: right;\n",
       "    }\n",
       "</style>\n",
       "<table border=\"1\" class=\"dataframe\">\n",
       "  <thead>\n",
       "    <tr style=\"text-align: right;\">\n",
       "      <th></th>\n",
       "      <th>visits</th>\n",
       "    </tr>\n",
       "    <tr>\n",
       "      <th>gender</th>\n",
       "      <th></th>\n",
       "    </tr>\n",
       "  </thead>\n",
       "  <tbody>\n",
       "    <tr>\n",
       "      <th>female</th>\n",
       "      <td>15805</td>\n",
       "    </tr>\n",
       "    <tr>\n",
       "      <th>male</th>\n",
       "      <td>9637</td>\n",
       "    </tr>\n",
       "  </tbody>\n",
       "</table>\n",
       "</div>"
      ],
      "text/plain": [
       "        visits\n",
       "gender        \n",
       "female   15805\n",
       "male      9637"
      ]
     },
     "execution_count": 10,
     "metadata": {},
     "output_type": "execute_result"
    }
   ],
   "source": [
    "df.groupby('gender').agg({'visits':'sum'})"
   ]
  },
  {
   "cell_type": "code",
   "execution_count": 11,
   "metadata": {},
   "outputs": [
    {
     "data": {
      "text/html": [
       "<div>\n",
       "<style scoped>\n",
       "    .dataframe tbody tr th:only-of-type {\n",
       "        vertical-align: middle;\n",
       "    }\n",
       "\n",
       "    .dataframe tbody tr th {\n",
       "        vertical-align: top;\n",
       "    }\n",
       "\n",
       "    .dataframe thead th {\n",
       "        text-align: right;\n",
       "    }\n",
       "</style>\n",
       "<table border=\"1\" class=\"dataframe\">\n",
       "  <thead>\n",
       "    <tr style=\"text-align: right;\">\n",
       "      <th></th>\n",
       "      <th>income10</th>\n",
       "    </tr>\n",
       "    <tr>\n",
       "      <th>health</th>\n",
       "      <th></th>\n",
       "    </tr>\n",
       "  </thead>\n",
       "  <tbody>\n",
       "    <tr>\n",
       "      <th>average</th>\n",
       "      <td>25519.896449</td>\n",
       "    </tr>\n",
       "    <tr>\n",
       "      <th>excellent</th>\n",
       "      <td>32774.114577</td>\n",
       "    </tr>\n",
       "    <tr>\n",
       "      <th>poor</th>\n",
       "      <td>19051.624621</td>\n",
       "    </tr>\n",
       "  </tbody>\n",
       "</table>\n",
       "</div>"
      ],
      "text/plain": [
       "               income10\n",
       "health                 \n",
       "average    25519.896449\n",
       "excellent  32774.114577\n",
       "poor       19051.624621"
      ]
     },
     "execution_count": 11,
     "metadata": {},
     "output_type": "execute_result"
    }
   ],
   "source": [
    "df.groupby('health').agg({'income10':'mean'})"
   ]
  },
  {
   "cell_type": "code",
   "execution_count": 12,
   "metadata": {},
   "outputs": [
    {
     "data": {
      "text/html": [
       "<div>\n",
       "<style scoped>\n",
       "    .dataframe tbody tr th:only-of-type {\n",
       "        vertical-align: middle;\n",
       "    }\n",
       "\n",
       "    .dataframe tbody tr th {\n",
       "        vertical-align: top;\n",
       "    }\n",
       "\n",
       "    .dataframe thead th {\n",
       "        text-align: right;\n",
       "    }\n",
       "</style>\n",
       "<table border=\"1\" class=\"dataframe\">\n",
       "  <thead>\n",
       "    <tr style=\"text-align: right;\">\n",
       "      <th></th>\n",
       "      <th>visits</th>\n",
       "    </tr>\n",
       "    <tr>\n",
       "      <th>region</th>\n",
       "      <th></th>\n",
       "    </tr>\n",
       "  </thead>\n",
       "  <tbody>\n",
       "    <tr>\n",
       "      <th>midwest</th>\n",
       "      <td>5.408816</td>\n",
       "    </tr>\n",
       "    <tr>\n",
       "      <th>northeast</th>\n",
       "      <td>6.091995</td>\n",
       "    </tr>\n",
       "    <tr>\n",
       "      <th>other</th>\n",
       "      <td>5.578067</td>\n",
       "    </tr>\n",
       "    <tr>\n",
       "      <th>west</th>\n",
       "      <td>6.368421</td>\n",
       "    </tr>\n",
       "  </tbody>\n",
       "</table>\n",
       "</div>"
      ],
      "text/plain": [
       "             visits\n",
       "region             \n",
       "midwest    5.408816\n",
       "northeast  6.091995\n",
       "other      5.578067\n",
       "west       6.368421"
      ]
     },
     "execution_count": 12,
     "metadata": {},
     "output_type": "execute_result"
    }
   ],
   "source": [
    "df.groupby('region').agg({'visits':'mean'})"
   ]
  },
  {
   "cell_type": "markdown",
   "metadata": {},
   "source": [
    "Invoke describe command on the dataframe and compare that with the basic statistical analysis done in the previous step, and report.\n",
    "- Average visits by region \n",
    "    - Average visits 5.78 in data set \n",
    "    - West and northeast has higher average of visits than the average \n",
    "- Average incom\n"
   ]
  },
  {
   "cell_type": "code",
   "execution_count": 13,
   "metadata": {},
   "outputs": [
    {
     "data": {
      "text/html": [
       "<div>\n",
       "<style scoped>\n",
       "    .dataframe tbody tr th:only-of-type {\n",
       "        vertical-align: middle;\n",
       "    }\n",
       "\n",
       "    .dataframe tbody tr th {\n",
       "        vertical-align: top;\n",
       "    }\n",
       "\n",
       "    .dataframe thead th {\n",
       "        text-align: right;\n",
       "    }\n",
       "</style>\n",
       "<table border=\"1\" class=\"dataframe\">\n",
       "  <thead>\n",
       "    <tr style=\"text-align: right;\">\n",
       "      <th></th>\n",
       "      <th>Unnamed: 0</th>\n",
       "      <th>visits</th>\n",
       "      <th>nvisits</th>\n",
       "      <th>ovisits</th>\n",
       "      <th>novisits</th>\n",
       "      <th>emergency</th>\n",
       "      <th>hospital</th>\n",
       "      <th>chronic</th>\n",
       "      <th>age</th>\n",
       "      <th>school</th>\n",
       "      <th>income</th>\n",
       "      <th>age10</th>\n",
       "      <th>income10</th>\n",
       "    </tr>\n",
       "  </thead>\n",
       "  <tbody>\n",
       "    <tr>\n",
       "      <th>count</th>\n",
       "      <td>4406.000000</td>\n",
       "      <td>4406.000000</td>\n",
       "      <td>4406.000000</td>\n",
       "      <td>4406.000000</td>\n",
       "      <td>4406.000000</td>\n",
       "      <td>4406.000000</td>\n",
       "      <td>4406.000000</td>\n",
       "      <td>4406.000000</td>\n",
       "      <td>4406.000000</td>\n",
       "      <td>4406.000000</td>\n",
       "      <td>4406.000000</td>\n",
       "      <td>4406.000000</td>\n",
       "      <td>4406.000000</td>\n",
       "    </tr>\n",
       "    <tr>\n",
       "      <th>mean</th>\n",
       "      <td>2203.500000</td>\n",
       "      <td>5.774399</td>\n",
       "      <td>1.618021</td>\n",
       "      <td>0.750794</td>\n",
       "      <td>0.536087</td>\n",
       "      <td>0.263504</td>\n",
       "      <td>0.295960</td>\n",
       "      <td>1.541988</td>\n",
       "      <td>7.402406</td>\n",
       "      <td>10.290286</td>\n",
       "      <td>2.527132</td>\n",
       "      <td>74.024058</td>\n",
       "      <td>25271.320468</td>\n",
       "    </tr>\n",
       "    <tr>\n",
       "      <th>std</th>\n",
       "      <td>1272.046972</td>\n",
       "      <td>6.759225</td>\n",
       "      <td>5.317056</td>\n",
       "      <td>3.652759</td>\n",
       "      <td>3.879506</td>\n",
       "      <td>0.703659</td>\n",
       "      <td>0.746398</td>\n",
       "      <td>1.349632</td>\n",
       "      <td>0.633405</td>\n",
       "      <td>3.738736</td>\n",
       "      <td>2.924648</td>\n",
       "      <td>6.334050</td>\n",
       "      <td>29246.476178</td>\n",
       "    </tr>\n",
       "    <tr>\n",
       "      <th>min</th>\n",
       "      <td>1.000000</td>\n",
       "      <td>0.000000</td>\n",
       "      <td>0.000000</td>\n",
       "      <td>0.000000</td>\n",
       "      <td>0.000000</td>\n",
       "      <td>0.000000</td>\n",
       "      <td>0.000000</td>\n",
       "      <td>0.000000</td>\n",
       "      <td>6.600000</td>\n",
       "      <td>0.000000</td>\n",
       "      <td>-1.012500</td>\n",
       "      <td>66.000000</td>\n",
       "      <td>-10125.000000</td>\n",
       "    </tr>\n",
       "    <tr>\n",
       "      <th>25%</th>\n",
       "      <td>1102.250000</td>\n",
       "      <td>1.000000</td>\n",
       "      <td>0.000000</td>\n",
       "      <td>0.000000</td>\n",
       "      <td>0.000000</td>\n",
       "      <td>0.000000</td>\n",
       "      <td>0.000000</td>\n",
       "      <td>1.000000</td>\n",
       "      <td>6.900000</td>\n",
       "      <td>8.000000</td>\n",
       "      <td>0.912150</td>\n",
       "      <td>69.000000</td>\n",
       "      <td>9121.500000</td>\n",
       "    </tr>\n",
       "    <tr>\n",
       "      <th>50%</th>\n",
       "      <td>2203.500000</td>\n",
       "      <td>4.000000</td>\n",
       "      <td>0.000000</td>\n",
       "      <td>0.000000</td>\n",
       "      <td>0.000000</td>\n",
       "      <td>0.000000</td>\n",
       "      <td>0.000000</td>\n",
       "      <td>1.000000</td>\n",
       "      <td>7.300000</td>\n",
       "      <td>11.000000</td>\n",
       "      <td>1.698150</td>\n",
       "      <td>73.000000</td>\n",
       "      <td>16981.500000</td>\n",
       "    </tr>\n",
       "    <tr>\n",
       "      <th>75%</th>\n",
       "      <td>3304.750000</td>\n",
       "      <td>8.000000</td>\n",
       "      <td>1.000000</td>\n",
       "      <td>0.000000</td>\n",
       "      <td>0.000000</td>\n",
       "      <td>0.000000</td>\n",
       "      <td>0.000000</td>\n",
       "      <td>2.000000</td>\n",
       "      <td>7.800000</td>\n",
       "      <td>12.000000</td>\n",
       "      <td>3.172850</td>\n",
       "      <td>78.000000</td>\n",
       "      <td>31728.500000</td>\n",
       "    </tr>\n",
       "    <tr>\n",
       "      <th>max</th>\n",
       "      <td>4406.000000</td>\n",
       "      <td>89.000000</td>\n",
       "      <td>104.000000</td>\n",
       "      <td>141.000000</td>\n",
       "      <td>155.000000</td>\n",
       "      <td>12.000000</td>\n",
       "      <td>8.000000</td>\n",
       "      <td>8.000000</td>\n",
       "      <td>10.900000</td>\n",
       "      <td>18.000000</td>\n",
       "      <td>54.835100</td>\n",
       "      <td>109.000000</td>\n",
       "      <td>548351.000000</td>\n",
       "    </tr>\n",
       "  </tbody>\n",
       "</table>\n",
       "</div>"
      ],
      "text/plain": [
       "        Unnamed: 0       visits      nvisits      ovisits     novisits  \\\n",
       "count  4406.000000  4406.000000  4406.000000  4406.000000  4406.000000   \n",
       "mean   2203.500000     5.774399     1.618021     0.750794     0.536087   \n",
       "std    1272.046972     6.759225     5.317056     3.652759     3.879506   \n",
       "min       1.000000     0.000000     0.000000     0.000000     0.000000   \n",
       "25%    1102.250000     1.000000     0.000000     0.000000     0.000000   \n",
       "50%    2203.500000     4.000000     0.000000     0.000000     0.000000   \n",
       "75%    3304.750000     8.000000     1.000000     0.000000     0.000000   \n",
       "max    4406.000000    89.000000   104.000000   141.000000   155.000000   \n",
       "\n",
       "         emergency     hospital      chronic          age       school  \\\n",
       "count  4406.000000  4406.000000  4406.000000  4406.000000  4406.000000   \n",
       "mean      0.263504     0.295960     1.541988     7.402406    10.290286   \n",
       "std       0.703659     0.746398     1.349632     0.633405     3.738736   \n",
       "min       0.000000     0.000000     0.000000     6.600000     0.000000   \n",
       "25%       0.000000     0.000000     1.000000     6.900000     8.000000   \n",
       "50%       0.000000     0.000000     1.000000     7.300000    11.000000   \n",
       "75%       0.000000     0.000000     2.000000     7.800000    12.000000   \n",
       "max      12.000000     8.000000     8.000000    10.900000    18.000000   \n",
       "\n",
       "            income        age10       income10  \n",
       "count  4406.000000  4406.000000    4406.000000  \n",
       "mean      2.527132    74.024058   25271.320468  \n",
       "std       2.924648     6.334050   29246.476178  \n",
       "min      -1.012500    66.000000  -10125.000000  \n",
       "25%       0.912150    69.000000    9121.500000  \n",
       "50%       1.698150    73.000000   16981.500000  \n",
       "75%       3.172850    78.000000   31728.500000  \n",
       "max      54.835100   109.000000  548351.000000  "
      ]
     },
     "execution_count": 13,
     "metadata": {},
     "output_type": "execute_result"
    }
   ],
   "source": [
    "df.describe()"
   ]
  },
  {
   "cell_type": "markdown",
   "metadata": {},
   "source": [
    "build a scatterplot for income vs age"
   ]
  },
  {
   "cell_type": "code",
   "execution_count": 17,
   "metadata": {},
   "outputs": [
    {
     "data": {
      "text/plain": [
       "<Axes: xlabel='age10', ylabel='income10'>"
      ]
     },
     "execution_count": 17,
     "metadata": {},
     "output_type": "execute_result"
    },
    {
     "data": {
      "image/png": "[encoded data removed]",
      "text/plain": [
       "<Figure size 640x480 with 1 Axes>"
      ]
     },
     "metadata": {},
     "output_type": "display_data"
    }
   ],
   "source": [
    "sns.scatterplot(x=df['age10'],y=df['income10'],alpha=0.6)"
   ]
  },
  {
   "cell_type": "code",
   "execution_count": 18,
   "metadata": {},
   "outputs": [
    {
     "data": {
      "text/html": [
       "<div>\n",
       "<style scoped>\n",
       "    .dataframe tbody tr th:only-of-type {\n",
       "        vertical-align: middle;\n",
       "    }\n",
       "\n",
       "    .dataframe tbody tr th {\n",
       "        vertical-align: top;\n",
       "    }\n",
       "\n",
       "    .dataframe thead th {\n",
       "        text-align: right;\n",
       "    }\n",
       "</style>\n",
       "<table border=\"1\" class=\"dataframe\">\n",
       "  <thead>\n",
       "    <tr style=\"text-align: right;\">\n",
       "      <th></th>\n",
       "      <th>income10</th>\n",
       "      <th>age10</th>\n",
       "    </tr>\n",
       "  </thead>\n",
       "  <tbody>\n",
       "    <tr>\n",
       "      <th>income10</th>\n",
       "      <td>1.00000</td>\n",
       "      <td>-0.07313</td>\n",
       "    </tr>\n",
       "    <tr>\n",
       "      <th>age10</th>\n",
       "      <td>-0.07313</td>\n",
       "      <td>1.00000</td>\n",
       "    </tr>\n",
       "  </tbody>\n",
       "</table>\n",
       "</div>"
      ],
      "text/plain": [
       "          income10    age10\n",
       "income10   1.00000 -0.07313\n",
       "age10     -0.07313  1.00000"
      ]
     },
     "execution_count": 18,
     "metadata": {},
     "output_type": "execute_result"
    }
   ],
   "source": [
    "df[['income10','age10']].corr()\n",
    "#the correlation is -0.07, which is very weakly correlated. Run a statistical test to see if this is significantly different from no correlation "
   ]
  }
 ],
 "metadata": {
  "kernelspec": {
   "display_name": "Python 3",
   "language": "python",
   "name": "python3"
  },
  "language_info": {
   "codemirror_mode": {
    "name": "ipython",
    "version": 3
   },
   "file_extension": ".py",
   "mimetype": "text/x-python",
   "name": "python",
   "nbconvert_exporter": "python",
   "pygments_lexer": "ipython3",
   "version": "3.12.1"
  }
 },
 "nbformat": 4,
 "nbformat_minor": 2
}
