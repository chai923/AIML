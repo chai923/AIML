{
 "cells": [
  {
   "cell_type": "markdown",
   "metadata": {},
   "source": [
    "# Conditional Statement and Loops\n",
    "## Conditional statements"
   ]
  },
  {
   "cell_type": "code",
   "execution_count": 2,
   "metadata": {},
   "outputs": [
    {
     "name": "stdout",
     "output_type": "stream",
     "text": [
      "Yes\n"
     ]
    }
   ],
   "source": [
    "num = 10\n",
    "\n",
    "if num < 20:      # : is very important. won't work without it \n",
    "    print('Yes')  # indent is very important. won't work without it \n",
    "else:             # if this didn't exist, running it would produce nothing \n",
    "    print('No')"
   ]
  },
  {
   "cell_type": "markdown",
   "metadata": {},
   "source": [
    "## if else statements exercise \n",
    "- build a program that tells the user if they can open an account or not based on their age \n",
    "- 18 and above is allowed to open an account \n",
    "- below 18 is not allowed, unless there's a custodian "
   ]
  },
  {
   "cell_type": "code",
   "execution_count": 7,
   "metadata": {},
   "outputs": [
    {
     "name": "stdout",
     "output_type": "stream",
     "text": [
      "your age is: 34\n",
      "you can open an account\n"
     ]
    }
   ],
   "source": [
    "#solution \n",
    "age = input('Enter Age:') #input like this also shows at the top of VS, popup must be different code \n",
    "\n",
    "print('your age is:',age)\n",
    "\n",
    "if int(age)>=18:\n",
    "    print('you can open an account')\n",
    "else:  \n",
    "    print('you cannot open an account, you can only open a custodial account.')\n"
   ]
  },
  {
   "cell_type": "markdown",
   "metadata": {},
   "source": [
    "## Nested if else\n",
    "same problem above but now prevent babies from creating any type of account "
   ]
  },
  {
   "cell_type": "code",
   "execution_count": 10,
   "metadata": {},
   "outputs": [
    {
     "name": "stdout",
     "output_type": "stream",
     "text": [
      "your age is: 2\n",
      "you're just a baby!\n"
     ]
    }
   ],
   "source": [
    "#solution \n",
    "age = input('Enter Age:') #input like this also shows at the top of VS, popup must be different code \n",
    "\n",
    "print('your age is:',age)\n",
    "\n",
    "#All input() are strings. must convert to int if a number \n",
    "\n",
    "if int(age)>=18:\n",
    "    print('you can open an account')\n",
    "elif int(age)>4:  \n",
    "    print('you cannot open an account, you can only open a custodial account.')\n",
    "else: \n",
    "    print(\"you're just a baby!\")"
   ]
  },
  {
   "cell_type": "code",
   "execution_count": 12,
   "metadata": {},
   "outputs": [
    {
     "name": "stdout",
     "output_type": "stream",
     "text": [
      "x is greater than 3\n",
      "x is less than 20. therefore, it is between 3 and 20\n"
     ]
    }
   ],
   "source": [
    "x = 10 \n",
    "\n",
    "if x > 3: \n",
    "    print('x is greater than 3')\n",
    "    \n",
    "    if x<20: #this is done WITHIN the previous branch. So it only comes here IF the first condition is TRUE.\n",
    "        print('x is less than 20. therefore, it is between 3 and 20')\n",
    "else:        #if the first IF was false, it would skip the 2nd IF as well and come directly to this ELSE statement \n",
    "    print('it is less than 3')"
   ]
  },
  {
   "cell_type": "markdown",
   "metadata": {},
   "source": [
    "### Exercise: run an evaluation to find out which number is hte greatest \n",
    "a = 5\n",
    "b = 9 \n",
    "c = 15"
   ]
  },
  {
   "cell_type": "code",
   "execution_count": 13,
   "metadata": {},
   "outputs": [
    {
     "name": "stdout",
     "output_type": "stream",
     "text": [
      "c is the largest number\n"
     ]
    }
   ],
   "source": [
    "a = 5\n",
    "b = 9 \n",
    "c = 15\n",
    "if a>b: \n",
    "    if a>c: \n",
    "        print('a is the largest number')\n",
    "    else: \n",
    "        print('c is the largest number')\n",
    "else: \n",
    "    if b > c:\n",
    "        print('b is the largest number')\n",
    "    else: \n",
    "        print('c is the largest number')"
   ]
  },
  {
   "cell_type": "markdown",
   "metadata": {},
   "source": [
    "Running if with lists"
   ]
  },
  {
   "cell_type": "code",
   "execution_count": 16,
   "metadata": {},
   "outputs": [
    {
     "name": "stdout",
     "output_type": "stream",
     "text": [
      "we dont have watermelon\n"
     ]
    }
   ],
   "source": [
    "grocery_lists = ['apples','oranges','cherries','pear']\n",
    "\n",
    "item = 'watermelon'\n",
    "\n",
    "if item in grocery_lists: \n",
    "    print('we have apples')\n",
    "else: \n",
    "    print(f'we dont have {item}' ) #need to include {} within the ''\n"
   ]
  },
  {
   "cell_type": "markdown",
   "metadata": {},
   "source": [
    "## Loops\n"
   ]
  },
  {
   "cell_type": "code",
   "execution_count": 23,
   "metadata": {},
   "outputs": [
    {
     "name": "stdout",
     "output_type": "stream",
     "text": [
      "we have apples\n",
      "we have oranges\n",
      "We have a bunch of cherries\n",
      "we have pear\n"
     ]
    }
   ],
   "source": [
    "grocery_list = ['apples','oranges','cherries','pear']\n",
    "\n",
    "for item in grocery_list: \n",
    "    if item == 'cherries':\n",
    "        print(f\"We have a bunch of {item}\")\n",
    "    else: \n",
    "        print(f\"we have {item}\")\n"
   ]
  },
  {
   "cell_type": "markdown",
   "metadata": {},
   "source": [
    "## Using range function to build a sequence\n",
    "- range(start, stop, steps)\n",
    "    - by default if start is not mentioned, then 0 \n",
    "    - by default if steps is not mentioned, then 1 "
   ]
  },
  {
   "cell_type": "code",
   "execution_count": 21,
   "metadata": {},
   "outputs": [
    {
     "data": {
      "text/plain": [
       "[0, 1, 2, 3, 4, 5, 6, 7]"
      ]
     },
     "execution_count": 21,
     "metadata": {},
     "output_type": "execute_result"
    }
   ],
   "source": [
    "seq = range(0,8)\n",
    "list(seq)"
   ]
  },
  {
   "cell_type": "code",
   "execution_count": 22,
   "metadata": {},
   "outputs": [
    {
     "name": "stdout",
     "output_type": "stream",
     "text": [
      "0\n",
      "1\n",
      "2\n",
      "3\n",
      "4\n",
      "5\n",
      "6\n",
      "7\n"
     ]
    }
   ],
   "source": [
    "for i in seq: \n",
    "    print(i)"
   ]
  },
  {
   "cell_type": "markdown",
   "metadata": {},
   "source": [
    "### Group exercise \n",
    "- Write a program that prompts the user to enter their name and last name, then formats it and prints \"Hello [firstname][lastname]! hint: use the input function \n",
    "- build a data dictionary with name, age, and favorite color items, and use it to form a sentence e.g. \"hi my name is Bassel I am 20 years old and I like the color red.\n",
    "Write a program that prints a sequence based on a defined range\n"
   ]
  },
  {
   "cell_type": "code",
   "execution_count": null,
   "metadata": {},
   "outputs": [],
   "source": [
    "#Start with data dictionary for name and last name \n",
    "\n",
    "firstName = input('What is your first name?')\n",
    "lastName = input(\"waht is your last name?\")\n",
    "\n",
    "print('Hello ' + firstName.capitalize() + ' ' + lastName.capitalize + \"!\")\n"
   ]
  },
  {
   "cell_type": "code",
   "execution_count": 11,
   "metadata": {},
   "outputs": [
    {
     "name": "stdout",
     "output_type": "stream",
     "text": [
      "Hi my name is chai\n"
     ]
    }
   ],
   "source": [
    "myDictionary = {\n",
    "    'firstname':('jane','chai'),\n",
    "    'lastname': ('Doe','kazi'),\n",
    "    'age': (20,30),\n",
    "    'favorite_color' :('blue','yellow'),\n",
    "}\n",
    "\n",
    "print('Hi my name is',myDictionary['firstname'][1])"
   ]
  }
 ],
 "metadata": {
  "kernelspec": {
   "display_name": "base",
   "language": "python",
   "name": "python3"
  },
  "language_info": {
   "codemirror_mode": {
    "name": "ipython",
    "version": 3
   },
   "file_extension": ".py",
   "mimetype": "text/x-python",
   "name": "python",
   "nbconvert_exporter": "python",
   "pygments_lexer": "ipython3",
   "version": "3.12.1"
  }
 },
 "nbformat": 4,
 "nbformat_minor": 2
}
