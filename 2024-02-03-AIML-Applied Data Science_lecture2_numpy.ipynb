{
 "cells": [
  {
   "cell_type": "markdown",
   "metadata": {},
   "source": [
    "# Lecture 2: NumPy\n",
    "- free and open source library for mathematical operations in science and engineering \n",
    "- building block of STEM \n",
    "- efficient multidimensional ____ \n",
    "- Uses arrays instead of python lists, which is much faster and more efficient than python lists (note: it's difficult to apply mathematical operations on lists) "
   ]
  },
  {
   "cell_type": "markdown",
   "metadata": {},
   "source": [
    "## Important attributes\n",
    "- ndarray: any length of array? "
   ]
  },
  {
   "cell_type": "code",
   "execution_count": 2,
   "metadata": {},
   "outputs": [],
   "source": [
    "import numpy as np #np is now an alias or shorthand "
   ]
  },
  {
   "cell_type": "code",
   "execution_count": 3,
   "metadata": {},
   "outputs": [
    {
     "name": "stdout",
     "output_type": "stream",
     "text": [
      "<class 'list'>\n",
      "[4, 5, 7, 2, 3, 0, 2]\n",
      "<class 'numpy.ndarray'>\n",
      "[4 5 7 2 3 0 2]\n"
     ]
    }
   ],
   "source": [
    "#let's build our first array \n",
    "myList = [4,5,7,2,3,0,2]    #list\n",
    "myArray = np.array(myList)  #converting list into an array\n",
    "\n",
    "print(type(myList))\n",
    "print(myList)\n",
    "print(type(myArray))\n",
    "print(myArray)"
   ]
  },
  {
   "cell_type": "code",
   "execution_count": 4,
   "metadata": {},
   "outputs": [
    {
     "data": {
      "text/plain": [
       "array([  4,   5, 654,  34,   2])"
      ]
     },
     "execution_count": 4,
     "metadata": {},
     "output_type": "execute_result"
    }
   ],
   "source": [
    "myArray = np.array([4,5,654,34,2]) #can also define it within the np.array function\n",
    "myArray"
   ]
  },
  {
   "cell_type": "markdown",
   "metadata": {},
   "source": [
    "## arange() function \n",
    "-does the same thing as range but builts an numpy array "
   ]
  },
  {
   "cell_type": "code",
   "execution_count": 11,
   "metadata": {},
   "outputs": [
    {
     "name": "stdout",
     "output_type": "stream",
     "text": [
      "<class 'list'>\n",
      "<class 'numpy.ndarray'>\n",
      "[ 2  4  6  8 10 12 14 16 18 20 22 24 26 28 30 32 34 36 38 40]\n",
      "[0.  0.4 0.8 1.2 1.6 2.  2.4 2.8 3.2 3.6 4.  4.4 4.8]\n",
      "[5.  4.5 4.  3.5 3.  2.5 2.  1.5 1.  0.5]\n"
     ]
    }
   ],
   "source": [
    "print(type(list(range(0,20))))\n",
    "print(type(np.arange(0,20)))\n",
    "print(np.arange(2,41,2))  #can skip by 2; note it is inclusive of LL (lower limit) but excludes UL (upper limit)\n",
    "print(np.arange(0,5,0.4)) #arange works with decimals too \n",
    "print(np.arange(5,0,-0.5)) #use negative sign to count backwards\n"
   ]
  },
  {
   "cell_type": "markdown",
   "metadata": {},
   "source": [
    "## Speed test between numpy array and python list \n",
    "- see bassel's code "
   ]
  },
  {
   "cell_type": "code",
   "execution_count": 12,
   "metadata": {},
   "outputs": [
    {
     "data": {
      "text/plain": [
       "0"
      ]
     },
     "execution_count": 12,
     "metadata": {},
     "output_type": "execute_result"
    }
   ],
   "source": [
    "#0-d array \n",
    "a0 = np.array(30)\n",
    "a0.ndim"
   ]
  },
  {
   "cell_type": "code",
   "execution_count": 13,
   "metadata": {},
   "outputs": [
    {
     "data": {
      "text/plain": [
       "1"
      ]
     },
     "execution_count": 13,
     "metadata": {},
     "output_type": "execute_result"
    }
   ],
   "source": [
    "#1-d\n",
    "a1 = np.array([4,6,7,8])\n",
    "a1.ndim"
   ]
  },
  {
   "cell_type": "code",
   "execution_count": 57,
   "metadata": {},
   "outputs": [
    {
     "name": "stdout",
     "output_type": "stream",
     "text": [
      "[[2 3 4]\n",
      " [5 6 7]]\n",
      "2\n",
      "(2, 3)\n",
      "This matrix has 2 rows and 3 columns.\n",
      "[[2 3 4]]\n",
      "2\n"
     ]
    }
   ],
   "source": [
    "#2-d array aka matrices (needs to be same length)\n",
    "a2 = np.array([[2,3,4],[5,6,7]])\n",
    "print(a2)\n",
    "print(a2.ndim)\n",
    "print(a2.shape) #gives columns and row count\n",
    "print(f\"This matrix has {a2.shape[0]} rows and {a2.shape[1]} columns.\")\n",
    "\n",
    "a21 = np.array([[2,3,4]]) #this is also a 2d array because of the double brackets. it sees 2nd dimension as null \n",
    "print(a21)\n",
    "print(a21.ndim) "
   ]
  },
  {
   "cell_type": "code",
   "execution_count": 37,
   "metadata": {},
   "outputs": [
    {
     "name": "stdout",
     "output_type": "stream",
     "text": [
      "[[[ 1  2  3]\n",
      "  [ 4  5  6]\n",
      "  [ 7  8  9]]\n",
      "\n",
      " [[10 11 12]\n",
      "  [13 14 15]\n",
      "  [16 17 18]]\n",
      "\n",
      " [[19 20 21]\n",
      "  [22 23 24]\n",
      "  [25 26 27]]]\n",
      "(3, 3, 3)\n",
      "3\n"
     ]
    }
   ],
   "source": [
    "#3-d array \n",
    "d3 = np.array([[[1,2,3],[4,5,6],[7,8,9]]\n",
    "               ,[[10,11,12],[13,14,15],[16,17,18]]\n",
    "               ,[[19,20,21],[22,23,24],[25,26,27]]\n",
    "               ])\n",
    "print(d3)\n",
    "print(d3.shape)\n",
    "print(d3.ndim)"
   ]
  },
  {
   "cell_type": "markdown",
   "metadata": {},
   "source": [
    "## Arithmetic operations"
   ]
  },
  {
   "cell_type": "code",
   "execution_count": 24,
   "metadata": {},
   "outputs": [
    {
     "name": "stdout",
     "output_type": "stream",
     "text": [
      "[14 26 37]\n",
      "[ 40 120 210]\n",
      "[0.4        0.3        0.23333333]\n"
     ]
    }
   ],
   "source": [
    "#when matrices are the same shape \n",
    "arr1 = np.array([4,6,7])\n",
    "arr2 = np.array([10,20,30])\n",
    "\n",
    "print(arr1 + arr2) #it does the operation and prints value by value\n",
    "print(arr1 * arr2)\n",
    "print(arr1 / arr2)\n"
   ]
  },
  {
   "cell_type": "code",
   "execution_count": 26,
   "metadata": {},
   "outputs": [
    {
     "name": "stdout",
     "output_type": "stream",
     "text": [
      "[20 30 35]\n",
      "[20 30 35]\n"
     ]
    }
   ],
   "source": [
    "#when matrices are different shapes aka broadcasting \n",
    "    #multiplying 1d by 0d is acceptable \n",
    "a = np.array(5)\n",
    "\n",
    "print(a*arr1) #it broadcasted \"a\" multiple times to fit the shape of the other element "
   ]
  },
  {
   "cell_type": "code",
   "execution_count": 34,
   "metadata": {},
   "outputs": [
    {
     "name": "stdout",
     "output_type": "stream",
     "text": [
      "[1 2 3 4 5 6 7 8 9]\n",
      "(9,)\n",
      "[[1 2 3]\n",
      " [4 5 6]\n",
      " [7 8 9]]\n",
      "(3, 3)\n"
     ]
    }
   ],
   "source": [
    "#reshaping a matrix \n",
    "\n",
    "arrr3 = np.array([1,2,3,4,5,6,7,8,9])\n",
    "print(arrr3)\n",
    "print(arrr3.shape)\n",
    "\n",
    "arr4 = arrr3.reshape(3,3)\n",
    "print(arr4)\n",
    "print(arr4.shape)"
   ]
  },
  {
   "cell_type": "code",
   "execution_count": 45,
   "metadata": {},
   "outputs": [
    {
     "name": "stdout",
     "output_type": "stream",
     "text": [
      "[[1 2 3]\n",
      " [4 5 6]\n",
      " [7 8 9]]\n",
      "[1 2 3 4 5 6 7 8 9]\n",
      "[[[1 2 3 4 5 6 7 8 9]]]\n"
     ]
    }
   ],
   "source": [
    "#flatten arrays to reduce dimensionaltiy \n",
    "print(arr4)\n",
    "print(arr4.flatten())\n",
    "\n",
    "#flatten works like reshape -1 as well to reduce dimensionality \n",
    "print(arr4.reshape(1,1,-1))"
   ]
  },
  {
   "cell_type": "code",
   "execution_count": 50,
   "metadata": {},
   "outputs": [
    {
     "name": "stdout",
     "output_type": "stream",
     "text": [
      "[0 0 2]\n",
      "300\n",
      "[15 22 37]\n"
     ]
    }
   ],
   "source": [
    "arr1 = np.array([10,20,30])\n",
    "arr2 = np.array([5,2,7])\n",
    "\n",
    "print(np.mod(arr1,arr2)) #mod is % i.e. the remainder after division \n",
    "print(np.matmul(arr1,arr2))\n",
    "print(np.add(arr1,arr2))\n"
   ]
  },
  {
   "cell_type": "code",
   "execution_count": 68,
   "metadata": {},
   "outputs": [
    {
     "name": "stdout",
     "output_type": "stream",
     "text": [
      "[[10 20  5]\n",
      " [ 4  5  6]\n",
      " [10 20 30]\n",
      " [ 7  9  6]\n",
      " [10 11  4]\n",
      " [20 30  3]]\n",
      "[[10 20  5  7  9  6]\n",
      " [ 4  5  6 10 11  4]\n",
      " [10 20 30 20 30  3]]\n"
     ]
    }
   ],
   "source": [
    "#concatenate \n",
    "arr1 = np.array([[10,20,5],\n",
    "                [4,5,6],\n",
    "                [10,20,30]])\n",
    "arr2 = np.array([[7,9,6],[10,11,4],[20,30,3]])\n",
    "\n",
    "#concatenate stacks \n",
    "print(np.concatenate((arr1,arr2))) #default axis is to concat vertically \n",
    "print(np.concatenate((arr1,arr2),axis=1)) #axis = 1 tells numpy to concat horizontally\n"
   ]
  },
  {
   "cell_type": "markdown",
   "metadata": {},
   "source": [
    "## Text arrays"
   ]
  },
  {
   "cell_type": "code",
   "execution_count": 55,
   "metadata": {},
   "outputs": [
    {
     "name": "stdout",
     "output_type": "stream",
     "text": [
      "['a' 'b' 'test' '5']\n",
      "<class 'numpy.ndarray'>\n"
     ]
    }
   ],
   "source": [
    "a = np.array(['a','b','test',5]) #can have a mix of data types\n",
    "print(a)\n",
    "print(type(a))"
   ]
  },
  {
   "cell_type": "code",
   "execution_count": 69,
   "metadata": {},
   "outputs": [
    {
     "data": {
      "text/plain": [
       "array(['hello', 'welcome', 'learners', 'to the class'], dtype='<U12')"
      ]
     },
     "execution_count": 69,
     "metadata": {},
     "output_type": "execute_result"
    }
   ],
   "source": [
    "greetings = np.array(['hello','welcome'])\n",
    "subj = np.array(['learners','to the class'])\n",
    "\n",
    "#add or blend the two text arrays together \n",
    "np.concatenate((greetings,subj))\n"
   ]
  },
  {
   "cell_type": "code",
   "execution_count": 70,
   "metadata": {},
   "outputs": [
    {
     "data": {
      "text/plain": [
       "array(['Hi mykel - how are you?', 'Hi chai - how are things going?'],\n",
       "      dtype='<U31')"
      ]
     },
     "execution_count": 70,
     "metadata": {},
     "output_type": "execute_result"
    }
   ],
   "source": [
    "#replace function \n",
    "    ## replace(array name, 'string to look for','string to replace with')\n",
    "arr3 = np.array([\"hello mykel - how are you?\",\"hello chai - how are things going?\"])\n",
    "\n",
    "np.char.replace(arr3,'hello',\"Hi\")"
   ]
  },
  {
   "cell_type": "code",
   "execution_count": 71,
   "metadata": {},
   "outputs": [
    {
     "name": "stdout",
     "output_type": "stream",
     "text": [
      "['HELLO MYKEL - HOW ARE YOU?' 'HELLO CHAI - HOW ARE THINGS GOING?']\n"
     ]
    }
   ],
   "source": [
    "#convert to upper case \n",
    "arr3_up = np.char.upper(arr3)\n",
    "print(arr3_up)"
   ]
  },
  {
   "cell_type": "markdown",
   "metadata": {},
   "source": [
    "## run stats f(x)s in numpy"
   ]
  },
  {
   "cell_type": "code",
   "execution_count": 72,
   "metadata": {},
   "outputs": [
    {
     "data": {
      "text/plain": [
       "5.0"
      ]
     },
     "execution_count": 72,
     "metadata": {},
     "output_type": "execute_result"
    }
   ],
   "source": [
    "arrr3 = np.array([1,2,3,4,5,6,7,8,9])\n",
    "np.mean(arrr3)\n"
   ]
  },
  {
   "cell_type": "code",
   "execution_count": 79,
   "metadata": {},
   "outputs": [
    {
     "name": "stdout",
     "output_type": "stream",
     "text": [
      "3.0\n",
      "[3. 3. 3.]\n",
      "[1. 2. 6.]\n"
     ]
    }
   ],
   "source": [
    "arr1 = np.array([[1,2,6],\n",
    "                [1,2,6],\n",
    "                [1,2,6]])\n",
    "\n",
    "print(np.mean(arr1)) #full mean of all elements in matrix\n",
    "print(np.mean(arr1,axis=1)) #row mean\n",
    "print(np.mean(arr1,axis=0)) #col mean"
   ]
  },
  {
   "cell_type": "code",
   "execution_count": 80,
   "metadata": {},
   "outputs": [
    {
     "name": "stdout",
     "output_type": "stream",
     "text": [
      "2.0\n",
      "[2. 2. 2.]\n",
      "[1. 2. 6.]\n"
     ]
    }
   ],
   "source": [
    "#median \n",
    "print(np.median(arr1))\n",
    "print(np.median(arr1,axis=1))\n",
    "print(np.median(arr1,axis=0))"
   ]
  },
  {
   "cell_type": "markdown",
   "metadata": {},
   "source": [
    "## filtering and slicing"
   ]
  },
  {
   "cell_type": "code",
   "execution_count": 90,
   "metadata": {},
   "outputs": [
    {
     "name": "stdout",
     "output_type": "stream",
     "text": [
      "[[1 2 6]\n",
      " [1 2 6]\n",
      " [1 2 6]]\n",
      "(array([0, 0, 1, 1, 2, 2], dtype=int64), array([1, 2, 1, 2, 1, 2], dtype=int64))\n",
      "[2 6 2 6 2 6]\n"
     ]
    },
    {
     "data": {
      "text/plain": [
       "array([1, 2, 6, 1, 2, 6, 1, 2, 6])"
      ]
     },
     "execution_count": 90,
     "metadata": {},
     "output_type": "execute_result"
    }
   ],
   "source": [
    "#Grab all the numbers greater than 4\n",
    "print(arr1)\n",
    "#define a mask (filter condition)\n",
    "mask = np.where(arr1>=2)\n",
    "print(mask) #it builts a weird tuple\n",
    "#apply the mask \n",
    "filtered_arr = arr1[mask]\n",
    "print(filtered_arr)\n",
    "\n",
    "#quicker version \n",
    "arr1[arr1>=1]"
   ]
  },
  {
   "cell_type": "code",
   "execution_count": 92,
   "metadata": {},
   "outputs": [
    {
     "data": {
      "text/plain": [
       "array([['Odd', 'Even', 'Even'],\n",
       "       ['Odd', 'Even', 'Even'],\n",
       "       ['Odd', 'Even', 'Even']], dtype='<U4')"
      ]
     },
     "execution_count": 92,
     "metadata": {},
     "output_type": "execute_result"
    }
   ],
   "source": [
    "#Build an array that shows whether the number is even or odd \n",
    "\n",
    "np.where(arr1%2==0,\"Even\",\"Odd\")"
   ]
  },
  {
   "cell_type": "code",
   "execution_count": 94,
   "metadata": {},
   "outputs": [
    {
     "name": "stdout",
     "output_type": "stream",
     "text": [
      "[2 6 2 6 2 6]\n",
      "[1 1 1]\n"
     ]
    }
   ],
   "source": [
    "#give a list of even and odd \n",
    "print(arr1[arr1 %2==0]) #even \n",
    "print(arr1[arr1 %2!=0]) #odd \n"
   ]
  },
  {
   "cell_type": "markdown",
   "metadata": {},
   "source": [
    "## Indexing and slicing"
   ]
  },
  {
   "cell_type": "code",
   "execution_count": 97,
   "metadata": {},
   "outputs": [
    {
     "name": "stdout",
     "output_type": "stream",
     "text": [
      "3\n",
      "54\n",
      "[22  3  1]\n"
     ]
    }
   ],
   "source": [
    "#slicing 1D arrays \n",
    "a = np.array([22,3,1,43,54])\n",
    "      #index: 0  1 2 3  4\n",
    "\n",
    "print(a[1]) #gives the 2nd element \n",
    "print(a[-1]) # gives las element\n",
    "print(a[:3]) #gives first 3 elements starting from the beginning"
   ]
  },
  {
   "cell_type": "code",
   "execution_count": 101,
   "metadata": {},
   "outputs": [
    {
     "name": "stdout",
     "output_type": "stream",
     "text": [
      "2\n",
      "2\n",
      "[[1 2]\n",
      " [1 2]\n",
      " [1 2]]\n"
     ]
    }
   ],
   "source": [
    "#slicing 2D arrays \n",
    "arr1 = np.array([[1,2,6],\n",
    "                [1,2,6],\n",
    "                [1,2,6]])\n",
    "\n",
    "print(arr1[2,1]) #grabbing using r1c1 method\n",
    "print(arr1[2][1]) #grabbing by first indexing the row, and then identifying which element within the row \n",
    "\n",
    "print(arr1[:,:2]) #grab all the rows, and only columns 1 & 2 for each row "
   ]
  },
  {
   "cell_type": "code",
   "execution_count": 127,
   "metadata": {},
   "outputs": [
    {
     "name": "stdout",
     "output_type": "stream",
     "text": [
      "[[[ 1  2  3]\n",
      "  [ 4  5  6]\n",
      "  [ 7  8  9]]\n",
      "\n",
      " [[10 11 12]\n",
      "  [13 14 15]\n",
      "  [16 17 18]]\n",
      "\n",
      " [[19 20 21]\n",
      "  [22 23 24]\n",
      "  [25 26 27]]]\n"
     ]
    },
    {
     "data": {
      "text/plain": [
       "9"
      ]
     },
     "execution_count": 127,
     "metadata": {},
     "output_type": "execute_result"
    }
   ],
   "source": [
    "#indexing 3d matrix \n",
    "d3 = np.array([[[1,2,3],[4,5,6],[7,8,9]]\n",
    "               ,[[10,11,12],[13,14,15],[16,17,18]]\n",
    "               ,[[19,20,21],[22,23,24],[25,26,27]]\n",
    "               ])\n",
    "\n",
    "print(d3)\n",
    "\n",
    "d3[0,2,2] #9 first matrix of 3, 3rd row, 3rd element \n",
    "\n"
   ]
  },
  {
   "cell_type": "code",
   "execution_count": null,
   "metadata": {},
   "outputs": [],
   "source": []
  },
  {
   "cell_type": "markdown",
   "metadata": {},
   "source": [
    "## Group project instructions (Sanaa, Ramin, Oday)\n",
    "- Create a NumPy array containing the integers from 4 to 100 with 2 steps.\n",
    "- Calculate the square values of each element in the array above\n",
    "- Find the average of all values\n",
    "- Convert the array to 2d\n",
    "- Build a new array with the first 20 elements of the original array"
   ]
  },
  {
   "cell_type": "code",
   "execution_count": 103,
   "metadata": {},
   "outputs": [
    {
     "name": "stdout",
     "output_type": "stream",
     "text": [
      "[  4   6   8  10  12  14  16  18  20  22  24  26  28  30  32  34  36  38\n",
      "  40  42  44  46  48  50  52  54  56  58  60  62  64  66  68  70  72  74\n",
      "  76  78  80  82  84  86  88  90  92  94  96  98 100]\n"
     ]
    }
   ],
   "source": [
    "#Create a NumPy array containing the integers from 4 to 100 with 2 steps.\n",
    "arr1 = np.array(range(4,101,2))\n",
    "print(arr1)"
   ]
  },
  {
   "cell_type": "code",
   "execution_count": 123,
   "metadata": {},
   "outputs": [
    {
     "name": "stdout",
     "output_type": "stream",
     "text": [
      "[   16    36    64   100   144   196   256   324   400   484   576   676\n",
      "   784   900  1024  1156  1296  1444  1600  1764  1936  2116  2304  2500\n",
      "  2704  2916  3136  3364  3600  3844  4096  4356  4624  4900  5184  5476\n",
      "  5776  6084  6400  6724  7056  7396  7744  8100  8464  8836  9216  9604\n",
      " 10000]\n",
      "[   16    36    64   100   144   196   256   324   400   484   576   676\n",
      "   784   900  1024  1156  1296  1444  1600  1764  1936  2116  2304  2500\n",
      "  2704  2916  3136  3364  3600  3844  4096  4356  4624  4900  5184  5476\n",
      "  5776  6084  6400  6724  7056  7396  7744  8100  8464  8836  9216  9604\n",
      " 10000]\n"
     ]
    }
   ],
   "source": [
    "#Calculate the square values of each element in the array above\n",
    "arr2 = arr1**2\n",
    "print(arr2)\n",
    "\n",
    "print(np.square(arr1))"
   ]
  },
  {
   "cell_type": "code",
   "execution_count": 111,
   "metadata": {},
   "outputs": [
    {
     "name": "stdout",
     "output_type": "stream",
     "text": [
      "52.0\n"
     ]
    }
   ],
   "source": [
    "#Find the average of all values\n",
    "allave = np.average(arr1)\n",
    "print(allave)"
   ]
  },
  {
   "cell_type": "code",
   "execution_count": 122,
   "metadata": {},
   "outputs": [
    {
     "name": "stdout",
     "output_type": "stream",
     "text": [
      "[[  4   6   8  10  12  14  16]\n",
      " [ 18  20  22  24  26  28  30]\n",
      " [ 32  34  36  38  40  42  44]\n",
      " [ 46  48  50  52  54  56  58]\n",
      " [ 60  62  64  66  68  70  72]\n",
      " [ 74  76  78  80  82  84  86]\n",
      " [ 88  90  92  94  96  98 100]]\n"
     ]
    },
    {
     "data": {
      "text/plain": [
       "2"
      ]
     },
     "execution_count": 122,
     "metadata": {},
     "output_type": "execute_result"
    }
   ],
   "source": [
    "#Convert the array to 2d \n",
    "arr1_2d= arr1.reshape(7,7)\n",
    "print(arr1_2d)\n",
    "\n",
    "arr1_2d.ndim"
   ]
  },
  {
   "cell_type": "code",
   "execution_count": 121,
   "metadata": {},
   "outputs": [
    {
     "name": "stdout",
     "output_type": "stream",
     "text": [
      "[ 4  6  8 10 12 14 16 18 20 22 24 26 28 30 32 34 36 38 40 42]\n"
     ]
    },
    {
     "data": {
      "text/plain": [
       "20"
      ]
     },
     "execution_count": 121,
     "metadata": {},
     "output_type": "execute_result"
    }
   ],
   "source": [
    "#Build a new array with the first 20 elements of the original array\n",
    "arr1_20 = arr1[:20]\n",
    "print(arr1_20)\n",
    "len(arr1_20)"
   ]
  }
 ],
 "metadata": {
  "kernelspec": {
   "display_name": "Python 3",
   "language": "python",
   "name": "python3"
  },
  "language_info": {
   "codemirror_mode": {
    "name": "ipython",
    "version": 3
   },
   "file_extension": ".py",
   "mimetype": "text/x-python",
   "name": "python",
   "nbconvert_exporter": "python",
   "pygments_lexer": "ipython3",
   "version": "3.12.1"
  }
 },
 "nbformat": 4,
 "nbformat_minor": 2
}
