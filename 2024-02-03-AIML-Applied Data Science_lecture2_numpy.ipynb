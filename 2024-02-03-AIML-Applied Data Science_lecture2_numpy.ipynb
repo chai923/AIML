{
 "cells": [
  {
   "cell_type": "markdown",
   "metadata": {},
   "source": [
    "# Lecture 2: NumPy\n",
    "- free and open source library for mathematical operations in science and engineering \n",
    "- building block of STEM \n",
    "- efficient multidimensional ____ \n",
    "- Uses arrays instead of python lists, which is much faster and more efficient than python lists (note: it's difficult to apply mathematical operations on lists) "
   ]
  },
  {
   "cell_type": "markdown",
   "metadata": {},
   "source": [
    "## Important attributes\n",
    "- ndarray: any length of array? "
   ]
  },
  {
   "cell_type": "code",
   "execution_count": 2,
   "metadata": {},
   "outputs": [],
   "source": [
    "import numpy as np #np is now an alias or shorthand "
   ]
  },
  {
   "cell_type": "code",
   "execution_count": 3,
   "metadata": {},
   "outputs": [
    {
     "name": "stdout",
     "output_type": "stream",
     "text": [
      "<class 'list'>\n",
      "[4, 5, 7, 2, 3, 0, 2]\n",
      "<class 'numpy.ndarray'>\n",
      "[4 5 7 2 3 0 2]\n"
     ]
    }
   ],
   "source": [
    "#let's build our first array \n",
    "myList = [4,5,7,2,3,0,2]    #list\n",
    "myArray = np.array(myList)  #converting list into an array\n",
    "\n",
    "print(type(myList))\n",
    "print(myList)\n",
    "print(type(myArray))\n",
    "print(myArray)"
   ]
  },
  {
   "cell_type": "code",
   "execution_count": 4,
   "metadata": {},
   "outputs": [
    {
     "data": {
      "text/plain": [
       "array([  4,   5, 654,  34,   2])"
      ]
     },
     "execution_count": 4,
     "metadata": {},
     "output_type": "execute_result"
    }
   ],
   "source": [
    "myArray = np.array([4,5,654,34,2]) #can also define it within the np.array function\n",
    "myArray"
   ]
  },
  {
   "cell_type": "markdown",
   "metadata": {},
   "source": [
    "## arange() function \n",
    "-does the same thing as range but builts an numpy array "
   ]
  },
  {
   "cell_type": "code",
   "execution_count": 11,
   "metadata": {},
   "outputs": [
    {
     "name": "stdout",
     "output_type": "stream",
     "text": [
      "<class 'list'>\n",
      "<class 'numpy.ndarray'>\n",
      "[ 2  4  6  8 10 12 14 16 18 20 22 24 26 28 30 32 34 36 38 40]\n",
      "[0.  0.4 0.8 1.2 1.6 2.  2.4 2.8 3.2 3.6 4.  4.4 4.8]\n",
      "[5.  4.5 4.  3.5 3.  2.5 2.  1.5 1.  0.5]\n"
     ]
    }
   ],
   "source": [
    "print(type(list(range(0,20))))\n",
    "print(type(np.arange(0,20)))\n",
    "print(np.arange(2,41,2))  #can skip by 2; note it is inclusive of LL (lower limit) but excludes UL (upper limit)\n",
    "print(np.arange(0,5,0.4)) #arange works with decimals too \n",
    "print(np.arange(5,0,-0.5)) #use negative sign to count backwards\n"
   ]
  },
  {
   "cell_type": "markdown",
   "metadata": {},
   "source": [
    "## Speed test between numpy array and python list \n",
    "- see bassel's code "
   ]
  },
  {
   "cell_type": "code",
   "execution_count": 12,
   "metadata": {},
   "outputs": [
    {
     "data": {
      "text/plain": [
       "0"
      ]
     },
     "execution_count": 12,
     "metadata": {},
     "output_type": "execute_result"
    }
   ],
   "source": [
    "#0-d array \n",
    "a0 = np.array(30)\n",
    "a0.ndim"
   ]
  },
  {
   "cell_type": "code",
   "execution_count": 13,
   "metadata": {},
   "outputs": [
    {
     "data": {
      "text/plain": [
       "1"
      ]
     },
     "execution_count": 13,
     "metadata": {},
     "output_type": "execute_result"
    }
   ],
   "source": [
    "#1-d\n",
    "a1 = np.array([4,6,7,8])\n",
    "a1.ndim"
   ]
  },
  {
   "cell_type": "code",
   "execution_count": 57,
   "metadata": {},
   "outputs": [
    {
     "name": "stdout",
     "output_type": "stream",
     "text": [
      "[[2 3 4]\n",
      " [5 6 7]]\n",
      "2\n",
      "(2, 3)\n",
      "This matrix has 2 rows and 3 columns.\n",
      "[[2 3 4]]\n",
      "2\n"
     ]
    }
   ],
   "source": [
    "#2-d array aka matrices (needs to be same length)\n",
    "a2 = np.array([[2,3,4],[5,6,7]])\n",
    "print(a2)\n",
    "print(a2.ndim)\n",
    "print(a2.shape) #gives columns and row count\n",
    "print(f\"This matrix has {a2.shape[0]} rows and {a2.shape[1]} columns.\")\n",
    "\n",
    "a21 = np.array([[2,3,4]]) #this is also a 2d array because of the double brackets. it sees 2nd dimension as null \n",
    "print(a21)\n",
    "print(a21.ndim) "
   ]
  },
  {
   "cell_type": "code",
   "execution_count": 37,
   "metadata": {},
   "outputs": [
    {
     "name": "stdout",
     "output_type": "stream",
     "text": [
      "[[[ 1  2  3]\n",
      "  [ 4  5  6]\n",
      "  [ 7  8  9]]\n",
      "\n",
      " [[10 11 12]\n",
      "  [13 14 15]\n",
      "  [16 17 18]]\n",
      "\n",
      " [[19 20 21]\n",
      "  [22 23 24]\n",
      "  [25 26 27]]]\n",
      "(3, 3, 3)\n",
      "3\n"
     ]
    }
   ],
   "source": [
    "#3-d array \n",
    "d3 = np.array([[[1,2,3],[4,5,6],[7,8,9]]\n",
    "               ,[[10,11,12],[13,14,15],[16,17,18]]\n",
    "               ,[[19,20,21],[22,23,24],[25,26,27]]\n",
    "               ])\n",
    "print(d3)\n",
    "print(d3.shape)\n",
    "print(d3.ndim)"
   ]
  },
  {
   "cell_type": "markdown",
   "metadata": {},
   "source": [
    "## Arithmetic operations"
   ]
  },
  {
   "cell_type": "code",
   "execution_count": 24,
   "metadata": {},
   "outputs": [
    {
     "name": "stdout",
     "output_type": "stream",
     "text": [
      "[14 26 37]\n",
      "[ 40 120 210]\n",
      "[0.4        0.3        0.23333333]\n"
     ]
    }
   ],
   "source": [
    "#when matrices are the same shape \n",
    "arr1 = np.array([4,6,7])\n",
    "arr2 = np.array([10,20,30])\n",
    "\n",
    "print(arr1 + arr2) #it does the operation and prints value by value\n",
    "print(arr1 * arr2)\n",
    "print(arr1 / arr2)\n"
   ]
  },
  {
   "cell_type": "code",
   "execution_count": 26,
   "metadata": {},
   "outputs": [
    {
     "name": "stdout",
     "output_type": "stream",
     "text": [
      "[20 30 35]\n",
      "[20 30 35]\n"
     ]
    }
   ],
   "source": [
    "#when matrices are different shapes aka broadcasting \n",
    "    #multiplying 1d by 0d is acceptable \n",
    "a = np.array(5)\n",
    "\n",
    "print(a*arr1) #it broadcasted \"a\" multiple times to fit the shape of the other element "
   ]
  },
  {
   "cell_type": "code",
   "execution_count": 34,
   "metadata": {},
   "outputs": [
    {
     "name": "stdout",
     "output_type": "stream",
     "text": [
      "[1 2 3 4 5 6 7 8 9]\n",
      "(9,)\n",
      "[[1 2 3]\n",
      " [4 5 6]\n",
      " [7 8 9]]\n",
      "(3, 3)\n"
     ]
    }
   ],
   "source": [
    "#reshaping a matrix \n",
    "\n",
    "arrr3 = np.array([1,2,3,4,5,6,7,8,9])\n",
    "print(arrr3)\n",
    "print(arrr3.shape)\n",
    "\n",
    "arr4 = arrr3.reshape(3,3)\n",
    "print(arr4)\n",
    "print(arr4.shape)"
   ]
  },
  {
   "cell_type": "code",
   "execution_count": 45,
   "metadata": {},
   "outputs": [
    {
     "name": "stdout",
     "output_type": "stream",
     "text": [
      "[[1 2 3]\n",
      " [4 5 6]\n",
      " [7 8 9]]\n",
      "[1 2 3 4 5 6 7 8 9]\n",
      "[[[1 2 3 4 5 6 7 8 9]]]\n"
     ]
    }
   ],
   "source": [
    "#flatten arrays to reduce dimensionaltiy \n",
    "print(arr4)\n",
    "print(arr4.flatten())\n",
    "\n",
    "#flatten works like reshape -1 as well to reduce dimensionality \n",
    "print(arr4.reshape(1,1,-1))"
   ]
  },
  {
   "cell_type": "code",
   "execution_count": 50,
   "metadata": {},
   "outputs": [
    {
     "name": "stdout",
     "output_type": "stream",
     "text": [
      "[0 0 2]\n",
      "300\n",
      "[15 22 37]\n"
     ]
    }
   ],
   "source": [
    "arr1 = np.array([10,20,30])\n",
    "arr2 = np.array([5,2,7])\n",
    "\n",
    "print(np.mod(arr1,arr2)) #mod is % i.e. the remainder after division \n",
    "print(np.matmul(arr1,arr2))\n",
    "print(np.add(arr1,arr2))\n"
   ]
  },
  {
   "cell_type": "code",
   "execution_count": null,
   "metadata": {},
   "outputs": [],
   "source": [
    "#concatenate \n",
    "arr1 = np.array([10,20],[4,5])\n",
    "arr2 = np.array([7,9],[10,11])\n",
    "\n",
    "#concatenate stacks "
   ]
  },
  {
   "cell_type": "markdown",
   "metadata": {},
   "source": [
    "## Text arrays"
   ]
  },
  {
   "cell_type": "code",
   "execution_count": 55,
   "metadata": {},
   "outputs": [
    {
     "name": "stdout",
     "output_type": "stream",
     "text": [
      "['a' 'b' 'test' '5']\n",
      "<class 'numpy.ndarray'>\n"
     ]
    }
   ],
   "source": [
    "a = np.array(['a','b','test',5]) #can have a mix of data types\n",
    "print(a)\n",
    "print(type(a))"
   ]
  },
  {
   "cell_type": "code",
   "execution_count": null,
   "metadata": {},
   "outputs": [],
   "source": [
    "greetings = np.array(['hello','welcome'])\n",
    "subj = np.array(['learners','to the class'])\n",
    "\n",
    "#add or blend the two text arrays together \n"
   ]
  }
 ],
 "metadata": {
  "kernelspec": {
   "display_name": "Python 3",
   "language": "python",
   "name": "python3"
  },
  "language_info": {
   "codemirror_mode": {
    "name": "ipython",
    "version": 3
   },
   "file_extension": ".py",
   "mimetype": "text/x-python",
   "name": "python",
   "nbconvert_exporter": "python",
   "pygments_lexer": "ipython3",
   "version": "3.12.1"
  }
 },
 "nbformat": 4,
 "nbformat_minor": 2
}
