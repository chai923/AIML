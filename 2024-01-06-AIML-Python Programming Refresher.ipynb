{
 "cells": [
  {
   "cell_type": "markdown",
   "metadata": {},
   "source": [
    "2024-01-06 AIML Python Programming Refresher \n",
    "\n",
    "Application vs System software \n",
    "\n",
    "PROGRAMMING MODULES \n"
   ]
  },
  {
   "cell_type": "markdown",
   "metadata": {},
   "source": [
    "PROGRAMMING MUDULES \n",
    "1. Procedural \n",
    "    - only one file, one script, and it runs from top to bottom \n",
    "    - routine, subroutines, blocks of code\n",
    "2. Object oriented programming \n",
    "    multiple files are referencing each other and borrowing functionality over and over again \n",
    "    makes programming so much more efficient "
   ]
  },
  {
   "cell_type": "markdown",
   "metadata": {},
   "source": [
    "OOPS CONCEPTS \n",
    "- Inheritance\n",
    "- Encapsulation \n"
   ]
  },
  {
   "cell_type": "code",
   "execution_count": null,
   "metadata": {},
   "outputs": [],
   "source": []
  }
 ],
 "metadata": {
  "kernelspec": {
   "display_name": "base",
   "language": "python",
   "name": "python3"
  },
  "language_info": {
   "name": "python",
   "version": "3.9.13"
  }
 },
 "nbformat": 4,
 "nbformat_minor": 2
}
