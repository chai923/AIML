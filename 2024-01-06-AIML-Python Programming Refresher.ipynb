{
 "cells": [
  {
   "cell_type": "markdown",
   "metadata": {},
   "source": [
    "# 2024-01-06 AIML Python Programming Refresher \n"
   ]
  },
  {
   "cell_type": "markdown",
   "metadata": {},
   "source": [
    "## What is data science\n",
    "drew conway venn diagram\n",
    "\n",
    "<img src='https://international.binus.ac.id/computer-science/files/2020/10/Screen-Shot-2020-10-28-at-9.19.43-AM.png' width=\"500\">\n",
    "\n",
    "\n",
    "\n",
    "## PROGRAMMING MODULES \n",
    "1. Procedural \n",
    "    - only one file, one script, and it runs from top to bottom \n",
    "    - routine, subroutines, blocks of code\n",
    "2. Object oriented programming \n",
    "    multiple files are referencing each other and borrowing functionality over and over again \n",
    "    makes programming so much more efficient \n",
    "\n",
    "## OOPS CONCEPTS \n",
    "- Inheritance\n",
    "- Encapsulation \n",
    "\n",
    "## MARKDOWN CHEATSHEET\n",
    "- https://www.markdownguide.org/cheat-sheet/ \n",
    "- Markdown is an easier version of html, but you can use html in .ipynb as well! \n",
    "- for any customizations to markdown, it will need to happen using hmtl most likely "
   ]
  },
  {
   "cell_type": "markdown",
   "metadata": {},
   "source": [
    "\n"
   ]
  },
  {
   "cell_type": "markdown",
   "metadata": {},
   "source": [
    "Date |\tDay |\tTopic 1\t|Topic 2 |\tTopic 3\n",
    "|----------|----------|----------|----------|----------|\n",
    "1/6/2024 |\tSat |\tIntro |\tPython and OOP. Concepts |\tPython Setup and Walkthrough\n",
    "1/7/2024 |\tSun\t|Python Data Types\t|Conditional Statements and Loops\t|Functions\n",
    "1/13/2024|\tSat\t|Functions (continued)|\tOOS with Classes\t|Project Walkthrough\t\t\n",
    "1/27/2024\t|Sat\t|Project Due\t| | |\t"
   ]
  },
  {
   "cell_type": "markdown",
   "metadata": {},
   "source": [
    "# Python Fundamentals"
   ]
  },
  {
   "cell_type": "markdown",
   "metadata": {},
   "source": [
    "### Testing operations and PEMDAS"
   ]
  },
  {
   "cell_type": "code",
   "execution_count": 21,
   "metadata": {},
   "outputs": [
    {
     "name": "stdout",
     "output_type": "stream",
     "text": [
      "8\n",
      "0\n",
      "1\n",
      "hello world\n",
      "if you want to do the same text to multiple rows, like add \"print\" to the below, press crtl+alt and then the up/down arrow and it will select the rows you want, then start typing! It will type it for each row 🤯\n",
      "10\n",
      "25\n",
      "0\n"
     ]
    }
   ],
   "source": [
    "#addition\n",
    "print(1 + 7)\n",
    "#exponents \n",
    "#2**2\n",
    "#remainder of division \n",
    "print(10 % 2) \n",
    "print(10 % 3) \n",
    "print(\"hello world\")\n",
    "\n",
    "\n",
    "print('if you want to do the same text to multiple rows, like add \"print\" to the below, press crtl+alt and then the up/down arrow and it will select the rows you want, then start typing! It will type it for each row 🤯')\n",
    "print(5+5)\n",
    "print(5*5)\n",
    "print(5^5)"
   ]
  },
  {
   "cell_type": "markdown",
   "metadata": {},
   "source": [
    "### Using variables\n",
    "\n"
   ]
  },
  {
   "cell_type": "code",
   "execution_count": 13,
   "metadata": {},
   "outputs": [
    {
     "name": "stdout",
     "output_type": "stream",
     "text": [
      "25\n"
     ]
    }
   ],
   "source": [
    "x=5\n",
    "print(5*x)"
   ]
  },
  {
   "cell_type": "markdown",
   "metadata": {},
   "source": [
    "### Rules for python identifiers \n",
    "- It's a name used to identify values, variables, functions, class, and other python objects \n",
    "- can be a combo of: \n",
    "    - Letters in lowercase and uppercase (case sensitive)\n",
    "    - Digits\n",
    "    - underscore\n",
    "- An identifier **cannot** start with a digit \n",
    "- Special symbols **cannot** be used e.g. !, @, #, %\n",
    "- Avoid using reserved words e.g. class, str, print, and other builtin function \n"
   ]
  },
  {
   "cell_type": "code",
   "execution_count": 22,
   "metadata": {},
   "outputs": [
    {
     "name": "stdout",
     "output_type": "stream",
     "text": [
      "value of x: 1 \n",
      " value of y:y\n",
      "value of x: 1 \t value of y:y\n",
      "<class 'int'> <class 'str'> <class 'str'>\n"
     ]
    }
   ],
   "source": [
    "x=1\n",
    "y=2\n",
    "print('value of x:',x,'\\n value of y:y') # /n for a new line\n",
    "print('value of x:',x,'\\t value of y:y') # /t for a tab between on same row \n",
    "\n",
    "x,y,z = 34, '2',\"text\"\n",
    "print(type(x),type(y),type(z))"
   ]
  },
  {
   "cell_type": "markdown",
   "metadata": {},
   "source": [
    "### Python shortcut for operators"
   ]
  },
  {
   "cell_type": "code",
   "execution_count": 38,
   "metadata": {},
   "outputs": [
    {
     "name": "stdout",
     "output_type": "stream",
     "text": [
      "73\n",
      "75\n"
     ]
    }
   ],
   "source": [
    "\n",
    "a = a+5\n",
    "print(a)\n",
    "\n",
    "#same thing as the below \n",
    "a +=2\n",
    "print(a)"
   ]
  },
  {
   "cell_type": "markdown",
   "metadata": {},
   "source": [
    "### Python boolean "
   ]
  },
  {
   "cell_type": "code",
   "execution_count": 39,
   "metadata": {},
   "outputs": [
    {
     "name": "stdout",
     "output_type": "stream",
     "text": [
      "True\n",
      "False\n",
      "True\n",
      "False\n"
     ]
    }
   ],
   "source": [
    "a = 2\n",
    "b = a+5\n",
    "\n",
    "print(a < b)\n",
    "print(a > b )\n",
    "print(a<100 or b>20)\n",
    "print(a<100 and b>20)"
   ]
  }
 ],
 "metadata": {
  "kernelspec": {
   "display_name": "base",
   "language": "python",
   "name": "python3"
  },
  "language_info": {
   "name": "python",
   "version": "3.9.13"
  }
 },
 "nbformat": 4,
 "nbformat_minor": 2
}
