{
 "cells": [
  {
   "cell_type": "markdown",
   "metadata": {},
   "source": [
    "# 2024-01-06 AIML Python Programming Refresher \n"
   ]
  },
  {
   "cell_type": "markdown",
   "metadata": {},
   "source": [
    "## What is data science\n",
    "drew conway venn diagram\n",
    "\n",
    "<img src='https://international.binus.ac.id/computer-science/files/2020/10/Screen-Shot-2020-10-28-at-9.19.43-AM.png' width=\"500\">\n",
    "\n",
    "\n",
    "\n",
    "## PROGRAMMING MODULES \n",
    "1. Procedural \n",
    "    - only one file, one script, and it runs from top to bottom \n",
    "    - routine, subroutines, blocks of code\n",
    "2. Object oriented programming \n",
    "    multiple files are referencing each other and borrowing functionality over and over again \n",
    "    makes programming so much more efficient \n",
    "\n",
    "## OOPS CONCEPTS \n",
    "- Inheritance\n",
    "- Encapsulation \n",
    "\n",
    "## MARKDOWN CHEATSHEET\n",
    "- https://www.markdownguide.org/cheat-sheet/ \n",
    "- Markdown is an easier version of html, but you can use html in .ipynb as well! \n",
    "- for any customizations to markdown, it will need to happen using hmtl most likely "
   ]
  },
  {
   "cell_type": "markdown",
   "metadata": {},
   "source": [
    "\n"
   ]
  },
  {
   "cell_type": "markdown",
   "metadata": {},
   "source": [
    "Date |\tDay |\tTopic 1\t|Topic 2 |\tTopic 3\n",
    "|----------|----------|----------|----------|----------|\n",
    "1/6/2024 |\tSat |\tIntro |\tPython and OOP. Concepts |\tPython Setup and Walkthrough\n",
    "1/7/2024 |\tSun\t|Python Data Types\t|Conditional Statements and Loops\t|Functions\n",
    "1/13/2024|\tSat\t|Functions (continued)|\tOOS with Classes\t|Project Walkthrough\t\t\n",
    "1/27/2024\t|Sat\t|Project Due\t| | |\t"
   ]
  },
  {
   "cell_type": "markdown",
   "metadata": {},
   "source": [
    "# Python Fundamentals"
   ]
  },
  {
   "cell_type": "markdown",
   "metadata": {},
   "source": [
    "### Testing operations and PEMDAS"
   ]
  },
  {
   "cell_type": "markdown",
   "metadata": {},
   "source": [
    "The mod (%) function is really useful to check for divisibility and for prime numbers! Easy way to check for even vs. odd type thing "
   ]
  },
  {
   "cell_type": "code",
   "execution_count": 21,
   "metadata": {},
   "outputs": [
    {
     "name": "stdout",
     "output_type": "stream",
     "text": [
      "8\n",
      "0\n",
      "1\n",
      "hello world\n",
      "if you want to do the same text to multiple rows, like add \"print\" to the below, press crtl+alt and then the up/down arrow and it will select the rows you want, then start typing! It will type it for each row 🤯\n",
      "10\n",
      "25\n",
      "0\n"
     ]
    }
   ],
   "source": [
    "#addition\n",
    "print(1 + 7)\n",
    "#exponents \n",
    "#2**2\n",
    "#remainder of division \n",
    "print(10 % 2) \n",
    "print(10 % 3) \n",
    "print(\"hello world\")\n",
    "\n",
    "\n",
    "print('if you want to do the same text to multiple rows, like add \"print\" to the below, press crtl+alt and then the up/down arrow and it will select the rows you want, then start typing! It will type it for each row 🤯')\n",
    "print(5+5)\n",
    "print(5*5)\n",
    "print(5^5)"
   ]
  },
  {
   "cell_type": "markdown",
   "metadata": {},
   "source": [
    "### Using variables\n",
    "\n"
   ]
  },
  {
   "cell_type": "code",
   "execution_count": 13,
   "metadata": {},
   "outputs": [
    {
     "name": "stdout",
     "output_type": "stream",
     "text": [
      "25\n"
     ]
    }
   ],
   "source": [
    "x=5\n",
    "print(5*x)"
   ]
  },
  {
   "cell_type": "markdown",
   "metadata": {},
   "source": [
    "### Rules for python identifiers \n",
    "- It's a name used to identify values, variables, functions, class, and other python objects \n",
    "- can be a combo of: \n",
    "    - Letters in lowercase and uppercase (case sensitive)\n",
    "    - Digits\n",
    "    - underscore\n",
    "- An identifier **cannot** start with a digit \n",
    "- Special symbols **cannot** be used e.g. !, @, #, %\n",
    "- Avoid using reserved words e.g. class, str, print, and other builtin function \n"
   ]
  },
  {
   "cell_type": "code",
   "execution_count": 22,
   "metadata": {},
   "outputs": [
    {
     "name": "stdout",
     "output_type": "stream",
     "text": [
      "value of x: 1 \n",
      " value of y:y\n",
      "value of x: 1 \t value of y:y\n",
      "<class 'int'> <class 'str'> <class 'str'>\n"
     ]
    }
   ],
   "source": [
    "x=1\n",
    "y=2\n",
    "print('value of x:',x,'\\n value of y:y') # /n for a new line\n",
    "print('value of x:',x,'\\t value of y:y') # /t for a tab between on same row \n",
    "\n",
    "x,y,z = 34, '2',\"text\"\n",
    "print(type(x),type(y),type(z))"
   ]
  },
  {
   "cell_type": "markdown",
   "metadata": {},
   "source": [
    "### Python shortcut for operators"
   ]
  },
  {
   "cell_type": "code",
   "execution_count": 38,
   "metadata": {},
   "outputs": [
    {
     "name": "stdout",
     "output_type": "stream",
     "text": [
      "73\n",
      "75\n"
     ]
    }
   ],
   "source": [
    "\n",
    "a = a+5\n",
    "print(a)\n",
    "\n",
    "#same thing as the below \n",
    "a +=2\n",
    "print(a)"
   ]
  },
  {
   "cell_type": "markdown",
   "metadata": {},
   "source": [
    "### Python boolean "
   ]
  },
  {
   "cell_type": "code",
   "execution_count": 1,
   "metadata": {},
   "outputs": [
    {
     "name": "stdout",
     "output_type": "stream",
     "text": [
      "True\n",
      "False\n",
      "True\n",
      "False\n",
      "False\n"
     ]
    }
   ],
   "source": [
    "a = 2\n",
    "b = a+5\n",
    "\n",
    "print(a < b)\n",
    "print(a > b )\n",
    "print(a<100 or b>20)\n",
    "print(a<100 and b>20)\n",
    "print(a==b)"
   ]
  },
  {
   "cell_type": "markdown",
   "metadata": {},
   "source": [
    "### Importing a library module  "
   ]
  },
  {
   "cell_type": "markdown",
   "metadata": {},
   "source": [
    "functions live within the import, so you need the import name as a prefix for all variables so that python knows where it is defined"
   ]
  },
  {
   "cell_type": "code",
   "execution_count": 3,
   "metadata": {},
   "outputs": [
    {
     "name": "stdout",
     "output_type": "stream",
     "text": [
      "3.9.13 (main, Aug 25 2022, 23:51:50) [MSC v.1916 64 bit (AMD64)]\n",
      "14.142135623730951\n"
     ]
    }
   ],
   "source": [
    "import sys\n",
    "print(sys.version)\n",
    "\n",
    "import math\n",
    "print(math.sqrt(200))"
   ]
  },
  {
   "cell_type": "markdown",
   "metadata": {},
   "source": [
    "### Data Types in Python\n",
    "\n",
    "In pythong, **everything** is an object (differnt data types and structures). \n",
    "\n",
    "Seven (7) basic types: \n",
    "1. Numbers: integers, floats, or complex numbers\n",
    "2. Strings: a sequence of characters \n",
    "3. Lists: contains a number of items in [] (mutable i.e. can modifiable) \n",
    "4. Tuples: contains a number of items in () (immutable i.e. can't be modified)\n",
    "5. Sets: contains a number of items that has unique objects\n",
    "6. Dictionaries: a key-value pair\n",
    "7. Booleans: True or False (binary ) "
   ]
  },
  {
   "cell_type": "code",
   "execution_count": 56,
   "metadata": {},
   "outputs": [
    {
     "name": "stdout",
     "output_type": "stream",
     "text": [
      "<class 'int'>\n",
      "<class 'str'>\n",
      "<class 'complex'>\n",
      "<class 'list'>\n",
      "<class 'tuple'>\n",
      "<class 'bool'>\n"
     ]
    },
    {
     "data": {
      "text/plain": [
       "dict"
      ]
     },
     "execution_count": 56,
     "metadata": {},
     "output_type": "execute_result"
    }
   ],
   "source": [
    "i = 4\n",
    "print(type(i))\n",
    "i = '4'\n",
    "print(type(i))\n",
    "i = 4j\n",
    "print(type(i))\n",
    "\n",
    "myList = [1,2,3,4,5]\n",
    "print(type(myList))\n",
    "\n",
    "myTuple = (1,2,3,4,5)\n",
    "print(type(myTuple))\n",
    "\n",
    "i = 4<5 \n",
    "print(type(i))\n",
    "\n",
    "myDictCar = {\n",
    "    'brand':'Ford',\n",
    "    'model':'mustang',\n",
    "    'year' :'2016',\n",
    "    'color':'red'\n",
    "\n",
    "}\n",
    "type(myDictCar)\n",
    "\n"
   ]
  },
  {
   "cell_type": "markdown",
   "metadata": {},
   "source": [
    "### Strings in Python"
   ]
  },
  {
   "cell_type": "code",
   "execution_count": 14,
   "metadata": {},
   "outputs": [
    {
     "name": "stdout",
     "output_type": "stream",
     "text": [
      "i have 40 apples\n",
      "i have40apples\n",
      "We have 40 apples\n",
      "i am learning python during class number 2\n",
      "i have 40 apples\n"
     ]
    }
   ],
   "source": [
    "num = 40 \n",
    "fruit = 'apples'\n",
    "var1 = \"python\"\n",
    "var2 = 2\n",
    "\n",
    "#method 1: print with commas \n",
    "print('i have',num,fruit) #numbers are okay in this formatting\n",
    "\n",
    "#method 2: using addition \n",
    "print('i have' + str(num)+ fruit) #must convert numbers to string for this style to work \n",
    "\n",
    "#other useful functions: toString and fstring \n",
    "\n",
    "#method 3: build sentences; use curly brackets to imput variables!\n",
    "print('We have {} {}' .format(num, fruit))\n",
    "    #note: no comma between sentence and .format \n",
    "    #note: the . in .format \n",
    "\n",
    "print('i am learning {} during class number {}'.format(var1,var2))\n",
    "\n",
    "#method 4: f strings - note the 'f' at the beginning \n",
    "print(f'i have {num} {fruit}')\n",
    "\n"
   ]
  },
  {
   "cell_type": "markdown",
   "metadata": {},
   "source": [
    "Below is for string padding "
   ]
  },
  {
   "cell_type": "code",
   "execution_count": 15,
   "metadata": {},
   "outputs": [
    {
     "name": "stdout",
     "output_type": "stream",
     "text": [
      "000077\n"
     ]
    }
   ],
   "source": [
    "#zero padding on numbers defined as string \n",
    "number = '77'\n",
    "\n",
    "padded_num = number.zfill(6) #adds 4 zeros to the left to make the number 6 figures with leading zeros  \n",
    "\n",
    "print(padded_num)"
   ]
  },
  {
   "cell_type": "markdown",
   "metadata": {},
   "source": [
    "string functions    "
   ]
  },
  {
   "cell_type": "code",
   "execution_count": 18,
   "metadata": {},
   "outputs": [
    {
     "name": "stdout",
     "output_type": "stream",
     "text": [
      "14\n",
      "hello everyone\n"
     ]
    }
   ],
   "source": [
    "myStr = \"hello everyone\"\n",
    "print(len(myStr))\n",
    "\n",
    "myStr = '           hello everyone      '\n",
    "print(myStr.strip())\n"
   ]
  },
  {
   "cell_type": "markdown",
   "metadata": {},
   "source": [
    "#### string searching"
   ]
  },
  {
   "cell_type": "code",
   "execution_count": 19,
   "metadata": {},
   "outputs": [
    {
     "data": {
      "text/plain": [
       "True"
      ]
     },
     "execution_count": 19,
     "metadata": {},
     "output_type": "execute_result"
    }
   ],
   "source": [
    "myStr4 = 'once again show they know how to freak audiences'\n",
    "searchWord = 'show'\n",
    "\n",
    "searchWord in myStr4 #boolean answer if search exists or not \n",
    "\n",
    "#note: regex will be covered as a separate lecture \n"
   ]
  },
  {
   "cell_type": "markdown",
   "metadata": {},
   "source": [
    "#### String indexing and slicing "
   ]
  },
  {
   "cell_type": "code",
   "execution_count": 28,
   "metadata": {},
   "outputs": [
    {
     "name": "stdout",
     "output_type": "stream",
     "text": [
      "S\n",
      "Sun\n",
      "y\n",
      "y\n"
     ]
    }
   ],
   "source": [
    "d = 'Sunday'\n",
    "print(d[0] )#0 index is the first character \n",
    "print(d[0:3]) #first 3 characters because it includes lowerbound but excludes upperbounds\n",
    "print(d[5])\n",
    "print(d[-1])"
   ]
  },
  {
   "cell_type": "markdown",
   "metadata": {},
   "source": [
    "Rounds, floats "
   ]
  },
  {
   "cell_type": "code",
   "execution_count": 31,
   "metadata": {},
   "outputs": [
    {
     "name": "stdout",
     "output_type": "stream",
     "text": [
      "43243.254354\n",
      "43243.25\n"
     ]
    }
   ],
   "source": [
    "x = 43243.254354\n",
    "print(float(x))\n",
    "print(round(x,2))"
   ]
  },
  {
   "cell_type": "markdown",
   "metadata": {},
   "source": [
    "### Lists "
   ]
  },
  {
   "cell_type": "code",
   "execution_count": 53,
   "metadata": {},
   "outputs": [
    {
     "name": "stdout",
     "output_type": "stream",
     "text": [
      "[1, 2, 2, 'test', 'h']\n",
      "[1, 2, 2, 'test', 'h', 4, 5, 7, 2]\n",
      "2\n",
      "[1, 2, 2, '3 inserts in the 4th position', 'test', 'h', 4, 5, 7, 2]\n",
      "5\n",
      "[1, 2, '3 inserts in the 4th position', 'test', 'h', 4, 5, 7, 2]\n"
     ]
    }
   ],
   "source": [
    "myList = [1,2,2,'test']\n",
    "myList.append('h')\n",
    "print(myList)\n",
    "\n",
    "myList.extend([4,5,7,2])\n",
    "print(myList)\n",
    "\n",
    "wordName = myList[2]\n",
    "print(wordName)\n",
    "\n",
    "myList.insert(3,'3 inserts in the 4th position')\n",
    "print(myList)\n",
    "\n",
    "print(myList.index('h')) #what is in the position of the element of interest \n",
    "\n",
    "myList.remove(2) #removes the first occurance of 2 \n",
    "print(myList)"
   ]
  },
  {
   "cell_type": "markdown",
   "metadata": {},
   "source": [
    "#### Tuples \n",
    "Can't append, delete, or make any changes to it once it is defined \n",
    "Tuples don't take much memory, which is why people use it a lot \n"
   ]
  },
  {
   "cell_type": "code",
   "execution_count": 54,
   "metadata": {},
   "outputs": [
    {
     "data": {
      "text/plain": [
       "tuple"
      ]
     },
     "execution_count": 54,
     "metadata": {},
     "output_type": "execute_result"
    }
   ],
   "source": [
    "myTuple = (3,6,7,9)\n",
    "type(myTuple)\n",
    "\n"
   ]
  },
  {
   "cell_type": "markdown",
   "metadata": {},
   "source": [
    "#### Dictionaries \n",
    "A list of stored data elements with key:value formation "
   ]
  },
  {
   "cell_type": "code",
   "execution_count": 59,
   "metadata": {},
   "outputs": [
    {
     "name": "stdout",
     "output_type": "stream",
     "text": [
      "Ford\n",
      "my car is Ford mustang its from year 2016\n",
      "dict_keys(['brand', 'model', 'year', 'color'])\n",
      "dict_values(['Ford', 'mustang', '2016', 'red'])\n"
     ]
    }
   ],
   "source": [
    "myDictCar = {\n",
    "    'brand':'Ford',\n",
    "    'model':'mustang',\n",
    "    'year' :'2016',\n",
    "    'color':'red'\n",
    "\n",
    "}\n",
    "type(myDictCar)\n",
    "print(myDictCar['brand'])\n",
    "\n",
    "print(\"my car is\",myDictCar['brand'],myDictCar['model'],\"its from year\",myDictCar['year'] )\n",
    "\n",
    "\n",
    "print(myDictCar.keys())\n",
    "print(myDictCar.values())"
   ]
  },
  {
   "cell_type": "markdown",
   "metadata": {},
   "source": []
  },
  {
   "cell_type": "code",
   "execution_count": 66,
   "metadata": {},
   "outputs": [
    {
     "name": "stdout",
     "output_type": "stream",
     "text": [
      "bmw\n"
     ]
    }
   ],
   "source": [
    "myDictCars = {\n",
    "    'brand':['Ford','mustang','bmw'],\n",
    "    'model':['mustang','armada','328'],\n",
    "    'year' :[2016,2018,2022],\n",
    "    'color':['red','black','blue']\n",
    "}\n",
    "\n",
    "myDictCars\n",
    "\n",
    "print(myDictCars['brand'][2])"
   ]
  },
  {
   "cell_type": "markdown",
   "metadata": {},
   "source": []
  }
 ],
 "metadata": {
  "kernelspec": {
   "display_name": "base",
   "language": "python",
   "name": "python3"
  },
  "language_info": {
   "codemirror_mode": {
    "name": "ipython",
    "version": 3
   },
   "file_extension": ".py",
   "mimetype": "text/x-python",
   "name": "python",
   "nbconvert_exporter": "python",
   "pygments_lexer": "ipython3",
   "version": "3.9.13"
  }
 },
 "nbformat": 4,
 "nbformat_minor": 2
}
