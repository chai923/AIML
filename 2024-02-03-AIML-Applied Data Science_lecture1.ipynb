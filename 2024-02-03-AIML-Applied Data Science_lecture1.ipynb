{
 "cells": [
  {
   "cell_type": "markdown",
   "metadata": {},
   "source": [
    "# Foundations of Data Science: Preparing the data \n",
    "- Cource intro \n",
    "- Intro to data science \n",
    "- Python DS libraries \n"
   ]
  },
  {
   "cell_type": "markdown",
   "metadata": {},
   "source": [
    "# Course Intro\n"
   ]
  },
  {
   "cell_type": "markdown",
   "metadata": {},
   "source": [
    "## Python libraries \n",
    "- python has some built-in libraries\n",
    "- to check what is currently installed use pip freeze \n",
    "- If you don't have specific library, then you need to install using pip install e.g. for pandas \n",
    "- Installing is a one-time step, but importing a library needs to be done every time you need it \n",
    "\n",
    "### Note, you can import full modules or submodules. \n",
    "- importing submodules makes it easier to type because you don't have to type datetime.module.method() each time since you imported the module you need skipping all of that"
   ]
  },
  {
   "cell_type": "code",
   "execution_count": 1,
   "metadata": {},
   "outputs": [
    {
     "name": "stdout",
     "output_type": "stream",
     "text": [
      "asttokens==2.4.1\n",
      "attrs==23.2.0\n",
      "beautifulsoup4==4.12.3\n",
      "bleach==6.1.0\n",
      "colorama==0.4.6\n",
      "comm==0.2.1\n",
      "debugpy==1.8.0\n",
      "decorator==5.1.1\n",
      "defusedxml==0.7.1\n",
      "executing==2.0.1\n",
      "fastjsonschema==2.19.1\n",
      "ipykernel==6.28.0\n",
      "ipython==8.20.0\n",
      "jedi==0.19.1\n",
      "Jinja2==3.1.3\n",
      "jsonschema==4.21.1\n",
      "jsonschema-specifications==2023.12.1\n",
      "jupyter_client==8.6.0\n",
      "jupyter_core==5.7.1\n",
      "jupyterlab_pygments==0.3.0\n",
      "MarkupSafe==2.1.4\n",
      "matplotlib-inline==0.1.6\n",
      "mistune==3.0.2\n",
      "nbclient==0.9.0\n",
      "nbconvert==7.14.2\n",
      "nbformat==5.9.2\n",
      "nest-asyncio==1.5.8\n",
      "packaging==23.2\n",
      "pandocfilters==1.5.1\n",
      "parso==0.8.3\n",
      "platformdirs==4.1.0\n",
      "prompt-toolkit==3.0.43\n",
      "psutil==5.9.7\n",
      "pure-eval==0.2.2\n",
      "Pygments==2.17.2\n",
      "PyPDF2==3.0.1\n",
      "python-dateutil==2.8.2\n",
      "pywin32==306\n",
      "pyzmq==25.1.2\n",
      "referencing==0.33.0\n",
      "rpds-py==0.17.1\n",
      "six==1.16.0\n",
      "soupsieve==2.5\n",
      "stack-data==0.6.3\n",
      "tinycss2==1.2.1\n",
      "tornado==6.4\n",
      "traitlets==5.14.1\n",
      "wcwidth==0.2.13\n",
      "webencodings==0.5.1\n",
      "Note: you may need to restart the kernel to use updated packages.\n"
     ]
    }
   ],
   "source": [
    "pip freeze"
   ]
  },
  {
   "cell_type": "markdown",
   "metadata": {},
   "source": [
    "## Working with date and time in python\n",
    "cheatsheet for formatting date & time: https://strftime.org/\n"
   ]
  },
  {
   "cell_type": "code",
   "execution_count": 12,
   "metadata": {},
   "outputs": [],
   "source": [
    "from datetime import date"
   ]
  },
  {
   "cell_type": "code",
   "execution_count": 22,
   "metadata": {},
   "outputs": [
    {
     "name": "stdout",
     "output_type": "stream",
     "text": [
      "2024-02-03\n",
      "2024\n",
      "2\n",
      "3\n",
      "<class 'datetime.date'>\n"
     ]
    }
   ],
   "source": [
    "today_dt = date.today()\n",
    "#Gives date in international format \n",
    "print(today_dt) \n",
    "\n",
    "#extract year and month from the date\n",
    "print(today_dt.year)\n",
    "print(today_dt.month)\n",
    "print(today_dt.day)\n",
    "#Extract date data type\n",
    "print(type(today_dt))"
   ]
  },
  {
   "cell_type": "code",
   "execution_count": 18,
   "metadata": {},
   "outputs": [
    {
     "name": "stdout",
     "output_type": "stream",
     "text": [
      "02-03-2024\n",
      "February\n",
      "02/03/2024\n"
     ]
    }
   ],
   "source": [
    "#Convert date to a different format \n",
    "print(today_dt.strftime('%m-%d-%Y')) #USA format \n",
    "print(today_dt.strftime('%B')) #Full month name \n",
    "\n",
    "#Can use slashes instead of dashes as well \n",
    "print(today_dt.strftime('%m/%d/%Y')) #USA format \n"
   ]
  },
  {
   "cell_type": "code",
   "execution_count": 23,
   "metadata": {},
   "outputs": [],
   "source": [
    "from datetime import time"
   ]
  },
  {
   "cell_type": "code",
   "execution_count": 28,
   "metadata": {},
   "outputs": [
    {
     "name": "stdout",
     "output_type": "stream",
     "text": [
      "21:30:10\n",
      "21\n",
      "30\n",
      "10\n"
     ]
    }
   ],
   "source": [
    "#9:30:10\n",
    "t = time(21,30,10)\n",
    "print(t)\n",
    "print(t.hour)\n",
    "print(t.minute)\n",
    "print(t.second)\n"
   ]
  },
  {
   "cell_type": "code",
   "execution_count": 30,
   "metadata": {},
   "outputs": [
    {
     "name": "stdout",
     "output_type": "stream",
     "text": [
      "2024-02-03 08:43:02.567487\n"
     ]
    }
   ],
   "source": [
    "import datetime\n",
    "dt = datetime.datetime.now() #datetime is the class, but they also named the subclass datetime\n",
    "print(dt)"
   ]
  },
  {
   "cell_type": "markdown",
   "metadata": {},
   "source": [
    "## Time delta"
   ]
  },
  {
   "cell_type": "code",
   "execution_count": 33,
   "metadata": {},
   "outputs": [
    {
     "name": "stdout",
     "output_type": "stream",
     "text": [
      "30 days, 0:00:00\n",
      "2024-03-04 08:43:02.567487\n"
     ]
    }
   ],
   "source": [
    "#Add 30 days to a pre-defined date \n",
    "#first, we need to define the delta in datetime format \n",
    "delta = datetime.timedelta(days=30)\n",
    "print(delta)\n",
    "\n",
    "#Then, we can add the delta to the date \n",
    "print(dt + delta)"
   ]
  },
  {
   "cell_type": "code",
   "execution_count": 35,
   "metadata": {},
   "outputs": [
    {
     "name": "stdout",
     "output_type": "stream",
     "text": [
      "2024-02-03 08:43:02.567487\n",
      "20 days, 10:05:00\n",
      "2024-02-23 18:48:02.567487\n"
     ]
    }
   ],
   "source": [
    "#we can add several components to the delta to get as accurate as you want \n",
    "delta = datetime.timedelta(days=20,hours=10,minutes=5)\n",
    "print(dt)\n",
    "print(delta)\n",
    "print(dt+delta)"
   ]
  },
  {
   "cell_type": "markdown",
   "metadata": {},
   "source": [
    "## Difference between two dates"
   ]
  },
  {
   "cell_type": "code",
   "execution_count": 39,
   "metadata": {},
   "outputs": [
    {
     "name": "stdout",
     "output_type": "stream",
     "text": [
      "1494 days, 0:00:00\n"
     ]
    }
   ],
   "source": [
    "date1 = datetime.date(2020,1,1)\n",
    "date2 = datetime.date.today()\n",
    "\n",
    "diff = date2 - date1 \n",
    "print(diff)"
   ]
  },
  {
   "cell_type": "code",
   "execution_count": 42,
   "metadata": {},
   "outputs": [
    {
     "data": {
      "text/plain": [
       "'UTC'"
      ]
     },
     "execution_count": 42,
     "metadata": {},
     "output_type": "execute_result"
    }
   ],
   "source": [
    "#Change timezone \n",
    "from datetime import datetime, timedelta\n",
    "from pytz import timezone \n",
    "import pytz \n",
    "utc = pytz.utc\n",
    "utc.zone"
   ]
  },
  {
   "cell_type": "markdown",
   "metadata": {},
   "source": [
    "## Python packages for data science \n",
    "- numpy: the foundation of all of the libraries we're going to go over. First library developed for numerical computation, basis for linear algera, and uses arrays (which are even faster than lists and you can modify them (unlike tuples)).  \n",
    "- SciPy\n",
    "- Matplotlib \n"
   ]
  },
  {
   "cell_type": "markdown",
   "metadata": {},
   "source": []
  },
  {
   "cell_type": "markdown",
   "metadata": {},
   "source": [
    "## Intro to SciPy and NumPy\n",
    "- run pip install first (only need to do this the first time)\n",
    "- restart the kernal (only need to do this the first time)\n",
    "- run the import statement next to load it it (need to do this everytime)"
   ]
  },
  {
   "cell_type": "code",
   "execution_count": 2,
   "metadata": {},
   "outputs": [
    {
     "name": "stdout",
     "output_type": "stream",
     "text": [
      "Collecting numpy\n",
      "  Obtaining dependency information for numpy from https://files.pythonhosted.org/packages/ad/11/52fbe97fd84c91105b651d25a122f8deed6d3519afb14f9771fac1c9b7de/numpy-1.26.3-cp312-cp312-win_amd64.whl.metadata\n",
      "  Downloading numpy-1.26.3-cp312-cp312-win_amd64.whl.metadata (61 kB)\n",
      "     ---------------------------------------- 0.0/61.2 kB ? eta -:--:--\n",
      "     ------------------- ------------------ 30.7/61.2 kB 435.7 kB/s eta 0:00:01\n",
      "     -------------------------------------- 61.2/61.2 kB 809.0 kB/s eta 0:00:00\n",
      "Downloading numpy-1.26.3-cp312-cp312-win_amd64.whl (15.5 MB)\n",
      "   ---------------------------------------- 0.0/15.5 MB ? eta -:--:--\n",
      "   ---------------------------------------- 0.1/15.5 MB 3.6 MB/s eta 0:00:05\n",
      "    --------------------------------------- 0.2/15.5 MB 3.5 MB/s eta 0:00:05\n",
      "    --------------------------------------- 0.4/15.5 MB 2.8 MB/s eta 0:00:06\n",
      "   - -------------------------------------- 0.6/15.5 MB 3.1 MB/s eta 0:00:05\n",
      "   - -------------------------------------- 0.7/15.5 MB 3.3 MB/s eta 0:00:05\n",
      "   -- ------------------------------------- 1.0/15.5 MB 3.4 MB/s eta 0:00:05\n",
      "   -- ------------------------------------- 1.2/15.5 MB 3.7 MB/s eta 0:00:04\n",
      "   --- ------------------------------------ 1.4/15.5 MB 3.9 MB/s eta 0:00:04\n",
      "   ---- ----------------------------------- 1.6/15.5 MB 3.9 MB/s eta 0:00:04\n",
      "   ---- ----------------------------------- 1.8/15.5 MB 3.9 MB/s eta 0:00:04\n",
      "   ----- ---------------------------------- 2.0/15.5 MB 4.0 MB/s eta 0:00:04\n",
      "   ----- ---------------------------------- 2.2/15.5 MB 4.0 MB/s eta 0:00:04\n",
      "   ------ --------------------------------- 2.4/15.5 MB 4.0 MB/s eta 0:00:04\n",
      "   ------ --------------------------------- 2.7/15.5 MB 4.2 MB/s eta 0:00:04\n",
      "   ------- -------------------------------- 2.9/15.5 MB 4.3 MB/s eta 0:00:03\n",
      "   -------- ------------------------------- 3.2/15.5 MB 4.4 MB/s eta 0:00:03\n",
      "   --------- ------------------------------ 3.5/15.5 MB 4.5 MB/s eta 0:00:03\n",
      "   --------- ------------------------------ 3.9/15.5 MB 4.6 MB/s eta 0:00:03\n",
      "   ---------- ----------------------------- 4.2/15.5 MB 4.7 MB/s eta 0:00:03\n",
      "   ----------- ---------------------------- 4.3/15.5 MB 4.8 MB/s eta 0:00:03\n",
      "   ----------- ---------------------------- 4.4/15.5 MB 4.6 MB/s eta 0:00:03\n",
      "   ------------ --------------------------- 4.7/15.5 MB 4.6 MB/s eta 0:00:03\n",
      "   ------------ --------------------------- 4.8/15.5 MB 4.5 MB/s eta 0:00:03\n",
      "   ------------- -------------------------- 5.1/15.5 MB 4.6 MB/s eta 0:00:03\n",
      "   -------------- ------------------------- 5.5/15.5 MB 4.8 MB/s eta 0:00:03\n",
      "   -------------- ------------------------- 5.7/15.5 MB 4.8 MB/s eta 0:00:03\n",
      "   --------------- ------------------------ 6.0/15.5 MB 4.8 MB/s eta 0:00:02\n",
      "   ---------------- ----------------------- 6.4/15.5 MB 4.9 MB/s eta 0:00:02\n",
      "   ----------------- ---------------------- 6.7/15.5 MB 5.0 MB/s eta 0:00:02\n",
      "   ------------------ --------------------- 7.1/15.5 MB 5.1 MB/s eta 0:00:02\n",
      "   ------------------- -------------------- 7.6/15.5 MB 5.3 MB/s eta 0:00:02\n",
      "   -------------------- ------------------- 7.9/15.5 MB 5.4 MB/s eta 0:00:02\n",
      "   -------------------- ------------------- 7.9/15.5 MB 5.4 MB/s eta 0:00:02\n",
      "   -------------------- ------------------- 7.9/15.5 MB 5.4 MB/s eta 0:00:02\n",
      "   -------------------- ------------------- 7.9/15.5 MB 5.4 MB/s eta 0:00:02\n",
      "   -------------------- ------------------- 7.9/15.5 MB 5.4 MB/s eta 0:00:02\n",
      "   -------------------- ------------------- 7.9/15.5 MB 5.4 MB/s eta 0:00:02\n",
      "   -------------------- ------------------- 7.9/15.5 MB 5.4 MB/s eta 0:00:02\n",
      "   --------------------- ------------------ 8.2/15.5 MB 4.5 MB/s eta 0:00:02\n",
      "   --------------------- ------------------ 8.2/15.5 MB 4.5 MB/s eta 0:00:02\n",
      "   --------------------- ------------------ 8.2/15.5 MB 4.5 MB/s eta 0:00:02\n",
      "   --------------------- ------------------ 8.3/15.5 MB 4.3 MB/s eta 0:00:02\n",
      "   --------------------- ------------------ 8.4/15.5 MB 4.2 MB/s eta 0:00:02\n",
      "   --------------------- ------------------ 8.4/15.5 MB 4.2 MB/s eta 0:00:02\n",
      "   ---------------------- ----------------- 8.8/15.5 MB 4.2 MB/s eta 0:00:02\n",
      "   ----------------------- ---------------- 9.1/15.5 MB 4.3 MB/s eta 0:00:02\n",
      "   ------------------------ --------------- 9.4/15.5 MB 4.3 MB/s eta 0:00:02\n",
      "   ------------------------- -------------- 9.9/15.5 MB 4.4 MB/s eta 0:00:02\n",
      "   ------------------------- -------------- 10.0/15.5 MB 4.4 MB/s eta 0:00:02\n",
      "   -------------------------- ------------- 10.3/15.5 MB 4.5 MB/s eta 0:00:02\n",
      "   --------------------------- ------------ 10.5/15.5 MB 4.5 MB/s eta 0:00:02\n",
      "   ---------------------------- ----------- 11.0/15.5 MB 4.7 MB/s eta 0:00:01\n",
      "   ---------------------------- ----------- 11.2/15.5 MB 4.7 MB/s eta 0:00:01\n",
      "   ------------------------------ --------- 11.7/15.5 MB 4.8 MB/s eta 0:00:01\n",
      "   ------------------------------- -------- 12.1/15.5 MB 5.0 MB/s eta 0:00:01\n",
      "   ------------------------------- -------- 12.3/15.5 MB 5.0 MB/s eta 0:00:01\n",
      "   -------------------------------- ------- 12.5/15.5 MB 5.0 MB/s eta 0:00:01\n",
      "   -------------------------------- ------- 12.5/15.5 MB 5.0 MB/s eta 0:00:01\n",
      "   --------------------------------- ------ 12.9/15.5 MB 4.9 MB/s eta 0:00:01\n",
      "   --------------------------------- ------ 13.2/15.5 MB 4.9 MB/s eta 0:00:01\n",
      "   ---------------------------------- ----- 13.4/15.5 MB 4.9 MB/s eta 0:00:01\n",
      "   ----------------------------------- ---- 13.7/15.5 MB 4.8 MB/s eta 0:00:01\n",
      "   ------------------------------------ --- 14.0/15.5 MB 4.9 MB/s eta 0:00:01\n",
      "   ------------------------------------- -- 14.4/15.5 MB 4.9 MB/s eta 0:00:01\n",
      "   -------------------------------------- - 14.8/15.5 MB 5.1 MB/s eta 0:00:01\n",
      "   ---------------------------------------  15.3/15.5 MB 5.2 MB/s eta 0:00:01\n",
      "   ---------------------------------------  15.5/15.5 MB 5.2 MB/s eta 0:00:01\n",
      "   ---------------------------------------  15.5/15.5 MB 5.2 MB/s eta 0:00:01\n",
      "   ---------------------------------------- 15.5/15.5 MB 5.0 MB/s eta 0:00:00\n",
      "Installing collected packages: numpy\n",
      "Successfully installed numpy-1.26.3\n",
      "Note: you may need to restart the kernel to use updated packages.\n"
     ]
    },
    {
     "name": "stderr",
     "output_type": "stream",
     "text": [
      "  WARNING: The script f2py.exe is installed in 'c:\\Users\\chand\\AppData\\Local\\Programs\\Python\\Python312\\Scripts' which is not on PATH.\n",
      "  Consider adding this directory to PATH or, if you prefer to suppress this warning, use --no-warn-script-location.\n",
      "\n",
      "[notice] A new release of pip is available: 23.2.1 -> 23.3.2\n",
      "[notice] To update, run: python.exe -m pip install --upgrade pip\n"
     ]
    }
   ],
   "source": [
    "pip install numpy\n"
   ]
  },
  {
   "cell_type": "code",
   "execution_count": 3,
   "metadata": {},
   "outputs": [
    {
     "name": "stdout",
     "output_type": "stream",
     "text": [
      "Collecting scipyNote: you may need to restart the kernel to use updated packages.\n",
      "\n",
      "  Obtaining dependency information for scipy from https://files.pythonhosted.org/packages/f3/31/91a2a3c5eb85d2bfa86d7c98f2df5d77dcdefb3d80ca9f9037ad04393acf/scipy-1.12.0-cp312-cp312-win_amd64.whl.metadata\n",
      "  Downloading scipy-1.12.0-cp312-cp312-win_amd64.whl.metadata (60 kB)\n",
      "     ---------------------------------------- 0.0/60.4 kB ? eta -:--:--\n",
      "     ------------ ------------------------- 20.5/60.4 kB 640.0 kB/s eta 0:00:01\n",
      "     ------------------------- ------------ 41.0/60.4 kB 487.6 kB/s eta 0:00:01\n",
      "     ------------------------- ------------ 41.0/60.4 kB 487.6 kB/s eta 0:00:01\n",
      "     -------------------------------------- 60.4/60.4 kB 356.1 kB/s eta 0:00:00\n",
      "Requirement already satisfied: numpy<1.29.0,>=1.22.4 in c:\\users\\chand\\appdata\\local\\programs\\python\\python312\\lib\\site-packages (from scipy) (1.26.3)\n",
      "Downloading scipy-1.12.0-cp312-cp312-win_amd64.whl (45.8 MB)\n",
      "   ---------------------------------------- 0.0/45.8 MB ? eta -:--:--\n",
      "   ---------------------------------------- 0.0/45.8 MB 2.0 MB/s eta 0:00:23\n",
      "   ---------------------------------------- 0.3/45.8 MB 4.5 MB/s eta 0:00:11\n",
      "   ---------------------------------------- 0.6/45.8 MB 5.1 MB/s eta 0:00:09\n",
      "    --------------------------------------- 0.9/45.8 MB 5.4 MB/s eta 0:00:09\n",
      "   - -------------------------------------- 1.2/45.8 MB 6.0 MB/s eta 0:00:08\n",
      "   - -------------------------------------- 1.6/45.8 MB 6.5 MB/s eta 0:00:07\n",
      "   - -------------------------------------- 1.9/45.8 MB 6.4 MB/s eta 0:00:07\n",
      "   -- ------------------------------------- 2.3/45.8 MB 6.7 MB/s eta 0:00:07\n",
      "   -- ------------------------------------- 2.3/45.8 MB 6.5 MB/s eta 0:00:07\n",
      "   -- ------------------------------------- 2.8/45.8 MB 6.3 MB/s eta 0:00:07\n",
      "   -- ------------------------------------- 2.9/45.8 MB 6.0 MB/s eta 0:00:08\n",
      "   -- ------------------------------------- 3.1/45.8 MB 5.7 MB/s eta 0:00:08\n",
      "   --- ------------------------------------ 3.5/45.8 MB 6.4 MB/s eta 0:00:07\n",
      "   --- ------------------------------------ 3.6/45.8 MB 5.8 MB/s eta 0:00:08\n",
      "   --- ------------------------------------ 3.9/45.8 MB 5.8 MB/s eta 0:00:08\n",
      "   --- ------------------------------------ 4.3/45.8 MB 5.9 MB/s eta 0:00:08\n",
      "   ---- ----------------------------------- 4.8/45.8 MB 6.2 MB/s eta 0:00:07\n",
      "   ---- ----------------------------------- 5.1/45.8 MB 6.3 MB/s eta 0:00:07\n",
      "   ---- ----------------------------------- 5.4/45.8 MB 6.4 MB/s eta 0:00:07\n",
      "   ----- ---------------------------------- 5.9/45.8 MB 6.5 MB/s eta 0:00:07\n",
      "   ----- ---------------------------------- 6.1/45.8 MB 6.4 MB/s eta 0:00:07\n",
      "   ----- ---------------------------------- 6.5/45.8 MB 6.6 MB/s eta 0:00:06\n",
      "   ------ --------------------------------- 7.0/45.8 MB 6.7 MB/s eta 0:00:06\n",
      "   ------ --------------------------------- 7.4/45.8 MB 6.8 MB/s eta 0:00:06\n",
      "   ------ --------------------------------- 7.8/45.8 MB 6.8 MB/s eta 0:00:06\n",
      "   ------- -------------------------------- 8.2/45.8 MB 7.0 MB/s eta 0:00:06\n",
      "   ------- -------------------------------- 8.7/45.8 MB 7.0 MB/s eta 0:00:06\n",
      "   ------- -------------------------------- 9.0/45.8 MB 7.1 MB/s eta 0:00:06\n",
      "   ------- -------------------------------- 9.1/45.8 MB 7.0 MB/s eta 0:00:06\n",
      "   ------- -------------------------------- 9.1/45.8 MB 7.0 MB/s eta 0:00:06\n",
      "   ------- -------------------------------- 9.1/45.8 MB 7.0 MB/s eta 0:00:06\n",
      "   -------- ------------------------------- 10.0/45.8 MB 6.9 MB/s eta 0:00:06\n",
      "   -------- ------------------------------- 10.1/45.8 MB 6.7 MB/s eta 0:00:06\n",
      "   --------- ------------------------------ 10.4/45.8 MB 6.8 MB/s eta 0:00:06\n",
      "   --------- ------------------------------ 10.8/45.8 MB 6.9 MB/s eta 0:00:06\n",
      "   --------- ------------------------------ 11.0/45.8 MB 6.9 MB/s eta 0:00:06\n",
      "   ---------- ----------------------------- 11.5/45.8 MB 7.0 MB/s eta 0:00:05\n",
      "   ---------- ----------------------------- 11.6/45.8 MB 6.8 MB/s eta 0:00:06\n",
      "   ---------- ----------------------------- 12.2/45.8 MB 6.9 MB/s eta 0:00:05\n",
      "   ----------- ---------------------------- 12.6/45.8 MB 7.0 MB/s eta 0:00:05\n",
      "   ----------- ---------------------------- 13.1/45.8 MB 7.2 MB/s eta 0:00:05\n",
      "   ----------- ---------------------------- 13.4/45.8 MB 7.4 MB/s eta 0:00:05\n",
      "   ----------- ---------------------------- 13.5/45.8 MB 7.1 MB/s eta 0:00:05\n",
      "   ------------ --------------------------- 14.0/45.8 MB 7.5 MB/s eta 0:00:05\n",
      "   ------------ --------------------------- 14.3/45.8 MB 7.4 MB/s eta 0:00:05\n",
      "   ------------ --------------------------- 14.8/45.8 MB 7.6 MB/s eta 0:00:05\n",
      "   ------------- -------------------------- 15.1/45.8 MB 7.4 MB/s eta 0:00:05\n",
      "   ------------- -------------------------- 15.5/45.8 MB 7.4 MB/s eta 0:00:05\n",
      "   ------------- -------------------------- 15.7/45.8 MB 7.4 MB/s eta 0:00:05\n",
      "   ------------- -------------------------- 15.9/45.8 MB 7.2 MB/s eta 0:00:05\n",
      "   -------------- ------------------------- 16.4/45.8 MB 7.4 MB/s eta 0:00:05\n",
      "   -------------- ------------------------- 16.5/45.8 MB 7.2 MB/s eta 0:00:05\n",
      "   -------------- ------------------------- 16.8/45.8 MB 7.2 MB/s eta 0:00:05\n",
      "   -------------- ------------------------- 17.2/45.8 MB 7.1 MB/s eta 0:00:05\n",
      "   --------------- ------------------------ 17.6/45.8 MB 7.0 MB/s eta 0:00:05\n",
      "   --------------- ------------------------ 18.0/45.8 MB 7.1 MB/s eta 0:00:04\n",
      "   ---------------- ----------------------- 18.6/45.8 MB 7.2 MB/s eta 0:00:04\n",
      "   ---------------- ----------------------- 18.7/45.8 MB 7.2 MB/s eta 0:00:04\n",
      "   ---------------- ----------------------- 19.4/45.8 MB 8.1 MB/s eta 0:00:04\n",
      "   ----------------- ---------------------- 19.7/45.8 MB 7.8 MB/s eta 0:00:04\n",
      "   ----------------- ---------------------- 20.4/45.8 MB 7.9 MB/s eta 0:00:04\n",
      "   ------------------ --------------------- 20.7/45.8 MB 8.1 MB/s eta 0:00:04\n",
      "   ------------------ --------------------- 21.0/45.8 MB 7.8 MB/s eta 0:00:04\n",
      "   ------------------ --------------------- 21.3/45.8 MB 7.9 MB/s eta 0:00:04\n",
      "   ------------------ --------------------- 21.5/45.8 MB 7.7 MB/s eta 0:00:04\n",
      "   ------------------- -------------------- 21.9/45.8 MB 7.9 MB/s eta 0:00:04\n",
      "   ------------------- -------------------- 22.1/45.8 MB 7.8 MB/s eta 0:00:04\n",
      "   ------------------- -------------------- 22.4/45.8 MB 7.6 MB/s eta 0:00:04\n",
      "   ------------------- -------------------- 22.7/45.8 MB 7.5 MB/s eta 0:00:04\n",
      "   -------------------- ------------------- 23.1/45.8 MB 7.5 MB/s eta 0:00:04\n",
      "   -------------------- ------------------- 23.3/45.8 MB 7.4 MB/s eta 0:00:04\n",
      "   -------------------- ------------------- 23.6/45.8 MB 7.3 MB/s eta 0:00:04\n",
      "   -------------------- ------------------- 23.9/45.8 MB 7.4 MB/s eta 0:00:03\n",
      "   --------------------- ------------------ 24.3/45.8 MB 7.4 MB/s eta 0:00:03\n",
      "   --------------------- ------------------ 24.5/45.8 MB 7.3 MB/s eta 0:00:03\n",
      "   --------------------- ------------------ 24.7/45.8 MB 7.3 MB/s eta 0:00:03\n",
      "   --------------------- ------------------ 25.1/45.8 MB 7.1 MB/s eta 0:00:03\n",
      "   ---------------------- ----------------- 25.3/45.8 MB 7.1 MB/s eta 0:00:03\n",
      "   ---------------------- ----------------- 25.7/45.8 MB 7.0 MB/s eta 0:00:03\n",
      "   ---------------------- ----------------- 25.7/45.8 MB 7.0 MB/s eta 0:00:03\n",
      "   ---------------------- ----------------- 26.2/45.8 MB 7.1 MB/s eta 0:00:03\n",
      "   ----------------------- ---------------- 26.6/45.8 MB 7.2 MB/s eta 0:00:03\n",
      "   ----------------------- ---------------- 26.8/45.8 MB 7.1 MB/s eta 0:00:03\n",
      "   ----------------------- ---------------- 27.2/45.8 MB 7.4 MB/s eta 0:00:03\n",
      "   ----------------------- ---------------- 27.5/45.8 MB 7.2 MB/s eta 0:00:03\n",
      "   ------------------------ --------------- 28.0/45.8 MB 7.2 MB/s eta 0:00:03\n",
      "   ------------------------ --------------- 28.3/45.8 MB 7.1 MB/s eta 0:00:03\n",
      "   ------------------------- -------------- 28.7/45.8 MB 7.0 MB/s eta 0:00:03\n",
      "   ------------------------- -------------- 29.1/45.8 MB 7.1 MB/s eta 0:00:03\n",
      "   ------------------------- -------------- 29.2/45.8 MB 6.9 MB/s eta 0:00:03\n",
      "   ------------------------- -------------- 29.7/45.8 MB 6.9 MB/s eta 0:00:03\n",
      "   -------------------------- ------------- 30.1/45.8 MB 7.0 MB/s eta 0:00:03\n",
      "   -------------------------- ------------- 30.3/45.8 MB 6.8 MB/s eta 0:00:03\n",
      "   -------------------------- ------------- 30.7/45.8 MB 6.7 MB/s eta 0:00:03\n",
      "   -------------------------- ------------- 30.9/45.8 MB 6.6 MB/s eta 0:00:03\n",
      "   --------------------------- ------------ 31.2/45.8 MB 6.7 MB/s eta 0:00:03\n",
      "   --------------------------- ------------ 31.6/45.8 MB 6.8 MB/s eta 0:00:03\n",
      "   --------------------------- ------------ 32.0/45.8 MB 6.8 MB/s eta 0:00:03\n",
      "   ---------------------------- ----------- 32.4/45.8 MB 6.9 MB/s eta 0:00:02\n",
      "   ---------------------------- ----------- 32.5/45.8 MB 6.8 MB/s eta 0:00:02\n",
      "   ---------------------------- ----------- 32.7/45.8 MB 6.7 MB/s eta 0:00:02\n",
      "   ---------------------------- ----------- 33.1/45.8 MB 6.8 MB/s eta 0:00:02\n",
      "   ----------------------------- ---------- 33.4/45.8 MB 6.8 MB/s eta 0:00:02\n",
      "   ----------------------------- ---------- 33.6/45.8 MB 6.8 MB/s eta 0:00:02\n",
      "   ----------------------------- ---------- 34.3/45.8 MB 7.0 MB/s eta 0:00:02\n",
      "   ------------------------------ --------- 34.5/45.8 MB 6.9 MB/s eta 0:00:02\n",
      "   ------------------------------ --------- 34.8/45.8 MB 7.0 MB/s eta 0:00:02\n",
      "   ------------------------------ --------- 35.3/45.8 MB 7.1 MB/s eta 0:00:02\n",
      "   ------------------------------ --------- 35.4/45.8 MB 7.0 MB/s eta 0:00:02\n",
      "   ------------------------------- -------- 35.7/45.8 MB 7.0 MB/s eta 0:00:02\n",
      "   ------------------------------- -------- 36.1/45.8 MB 7.1 MB/s eta 0:00:02\n",
      "   ------------------------------- -------- 36.6/45.8 MB 7.2 MB/s eta 0:00:02\n",
      "   -------------------------------- ------- 36.8/45.8 MB 7.1 MB/s eta 0:00:02\n",
      "   -------------------------------- ------- 37.2/45.8 MB 7.2 MB/s eta 0:00:02\n",
      "   -------------------------------- ------- 37.5/45.8 MB 7.0 MB/s eta 0:00:02\n",
      "   -------------------------------- ------- 37.5/45.8 MB 7.0 MB/s eta 0:00:02\n",
      "   --------------------------------- ------ 37.9/45.8 MB 7.0 MB/s eta 0:00:02\n",
      "   --------------------------------- ------ 38.0/45.8 MB 6.8 MB/s eta 0:00:02\n",
      "   --------------------------------- ------ 38.7/45.8 MB 7.1 MB/s eta 0:00:01\n",
      "   ---------------------------------- ----- 39.2/45.8 MB 7.1 MB/s eta 0:00:01\n",
      "   ---------------------------------- ----- 39.4/45.8 MB 7.0 MB/s eta 0:00:01\n",
      "   ---------------------------------- ----- 39.7/45.8 MB 7.0 MB/s eta 0:00:01\n",
      "   ----------------------------------- ---- 40.3/45.8 MB 7.0 MB/s eta 0:00:01\n",
      "   ----------------------------------- ---- 40.6/45.8 MB 7.3 MB/s eta 0:00:01\n",
      "   ----------------------------------- ---- 40.9/45.8 MB 7.2 MB/s eta 0:00:01\n",
      "   ----------------------------------- ---- 41.1/45.8 MB 7.2 MB/s eta 0:00:01\n",
      "   ------------------------------------ --- 41.4/45.8 MB 7.1 MB/s eta 0:00:01\n",
      "   ------------------------------------ --- 41.6/45.8 MB 7.0 MB/s eta 0:00:01\n",
      "   ------------------------------------ --- 42.1/45.8 MB 7.0 MB/s eta 0:00:01\n",
      "   ------------------------------------ --- 42.1/45.8 MB 7.0 MB/s eta 0:00:01\n",
      "   ------------------------------------- -- 42.4/45.8 MB 6.8 MB/s eta 0:00:01\n",
      "   ------------------------------------- -- 42.7/45.8 MB 6.8 MB/s eta 0:00:01\n",
      "   ------------------------------------- -- 42.8/45.8 MB 6.9 MB/s eta 0:00:01\n",
      "   ------------------------------------- -- 43.5/45.8 MB 7.0 MB/s eta 0:00:01\n",
      "   -------------------------------------- - 43.7/45.8 MB 6.9 MB/s eta 0:00:01\n",
      "   -------------------------------------- - 44.1/45.8 MB 7.0 MB/s eta 0:00:01\n",
      "   -------------------------------------- - 44.3/45.8 MB 6.9 MB/s eta 0:00:01\n",
      "   ---------------------------------------  44.7/45.8 MB 6.9 MB/s eta 0:00:01\n",
      "   ---------------------------------------  44.9/45.8 MB 6.8 MB/s eta 0:00:01\n",
      "   ---------------------------------------  45.1/45.8 MB 6.7 MB/s eta 0:00:01\n",
      "   ---------------------------------------  45.5/45.8 MB 6.6 MB/s eta 0:00:01\n",
      "   ---------------------------------------  45.8/45.8 MB 6.8 MB/s eta 0:00:01\n",
      "   ---------------------------------------  45.8/45.8 MB 6.8 MB/s eta 0:00:01\n",
      "   ---------------------------------------  45.8/45.8 MB 6.8 MB/s eta 0:00:01\n",
      "   ---------------------------------------- 45.8/45.8 MB 6.1 MB/s eta 0:00:00\n",
      "Installing collected packages: scipy\n",
      "Successfully installed scipy-1.12.0\n"
     ]
    },
    {
     "name": "stderr",
     "output_type": "stream",
     "text": [
      "\n",
      "[notice] A new release of pip is available: 23.2.1 -> 23.3.2\n",
      "[notice] To update, run: python.exe -m pip install --upgrade pip\n"
     ]
    }
   ],
   "source": [
    "pip install scipy"
   ]
  },
  {
   "cell_type": "code",
   "execution_count": 4,
   "metadata": {},
   "outputs": [],
   "source": [
    "import numpy, scipy"
   ]
  },
  {
   "cell_type": "code",
   "execution_count": 6,
   "metadata": {},
   "outputs": [
    {
     "data": {
      "text/plain": [
       "['Avogadro',\n",
       " 'Boltzmann',\n",
       " 'Btu',\n",
       " 'Btu_IT',\n",
       " 'Btu_th',\n",
       " 'ConstantWarning',\n",
       " 'G',\n",
       " 'Julian_year',\n",
       " 'N_A',\n",
       " 'Planck',\n",
       " 'R',\n",
       " 'Rydberg',\n",
       " 'Stefan_Boltzmann',\n",
       " 'Wien',\n",
       " '__all__',\n",
       " '__builtins__',\n",
       " '__cached__',\n",
       " '__doc__',\n",
       " '__file__',\n",
       " '__loader__',\n",
       " '__name__',\n",
       " '__package__',\n",
       " '__path__',\n",
       " '__spec__',\n",
       " '_codata',\n",
       " '_constants',\n",
       " '_obsolete_constants',\n",
       " 'acre',\n",
       " 'alpha',\n",
       " 'angstrom',\n",
       " 'arcmin',\n",
       " 'arcminute',\n",
       " 'arcsec',\n",
       " 'arcsecond',\n",
       " 'astronomical_unit',\n",
       " 'atm',\n",
       " 'atmosphere',\n",
       " 'atomic_mass',\n",
       " 'atto',\n",
       " 'au',\n",
       " 'bar',\n",
       " 'barrel',\n",
       " 'bbl',\n",
       " 'blob',\n",
       " 'c',\n",
       " 'calorie',\n",
       " 'calorie_IT',\n",
       " 'calorie_th',\n",
       " 'carat',\n",
       " 'centi',\n",
       " 'codata',\n",
       " 'constants',\n",
       " 'convert_temperature',\n",
       " 'day',\n",
       " 'deci',\n",
       " 'degree',\n",
       " 'degree_Fahrenheit',\n",
       " 'deka',\n",
       " 'dyn',\n",
       " 'dyne',\n",
       " 'e',\n",
       " 'eV',\n",
       " 'electron_mass',\n",
       " 'electron_volt',\n",
       " 'elementary_charge',\n",
       " 'epsilon_0',\n",
       " 'erg',\n",
       " 'exa',\n",
       " 'exbi',\n",
       " 'femto',\n",
       " 'fermi',\n",
       " 'find',\n",
       " 'fine_structure',\n",
       " 'fluid_ounce',\n",
       " 'fluid_ounce_US',\n",
       " 'fluid_ounce_imp',\n",
       " 'foot',\n",
       " 'g',\n",
       " 'gallon',\n",
       " 'gallon_US',\n",
       " 'gallon_imp',\n",
       " 'gas_constant',\n",
       " 'gibi',\n",
       " 'giga',\n",
       " 'golden',\n",
       " 'golden_ratio',\n",
       " 'grain',\n",
       " 'gram',\n",
       " 'gravitational_constant',\n",
       " 'h',\n",
       " 'hbar',\n",
       " 'hectare',\n",
       " 'hecto',\n",
       " 'horsepower',\n",
       " 'hour',\n",
       " 'hp',\n",
       " 'inch',\n",
       " 'k',\n",
       " 'kgf',\n",
       " 'kibi',\n",
       " 'kilo',\n",
       " 'kilogram_force',\n",
       " 'kmh',\n",
       " 'knot',\n",
       " 'lambda2nu',\n",
       " 'lb',\n",
       " 'lbf',\n",
       " 'light_year',\n",
       " 'liter',\n",
       " 'litre',\n",
       " 'long_ton',\n",
       " 'm_e',\n",
       " 'm_n',\n",
       " 'm_p',\n",
       " 'm_u',\n",
       " 'mach',\n",
       " 'mebi',\n",
       " 'mega',\n",
       " 'metric_ton',\n",
       " 'micro',\n",
       " 'micron',\n",
       " 'mil',\n",
       " 'mile',\n",
       " 'milli',\n",
       " 'minute',\n",
       " 'mmHg',\n",
       " 'mph',\n",
       " 'mu_0',\n",
       " 'nano',\n",
       " 'nautical_mile',\n",
       " 'neutron_mass',\n",
       " 'nu2lambda',\n",
       " 'ounce',\n",
       " 'oz',\n",
       " 'parsec',\n",
       " 'pebi',\n",
       " 'peta',\n",
       " 'physical_constants',\n",
       " 'pi',\n",
       " 'pico',\n",
       " 'point',\n",
       " 'pound',\n",
       " 'pound_force',\n",
       " 'precision',\n",
       " 'proton_mass',\n",
       " 'psi',\n",
       " 'pt',\n",
       " 'quecto',\n",
       " 'quetta',\n",
       " 'ronna',\n",
       " 'ronto',\n",
       " 'short_ton',\n",
       " 'sigma',\n",
       " 'slinch',\n",
       " 'slug',\n",
       " 'speed_of_light',\n",
       " 'speed_of_sound',\n",
       " 'stone',\n",
       " 'survey_foot',\n",
       " 'survey_mile',\n",
       " 'tebi',\n",
       " 'tera',\n",
       " 'test',\n",
       " 'ton_TNT',\n",
       " 'torr',\n",
       " 'troy_ounce',\n",
       " 'troy_pound',\n",
       " 'u',\n",
       " 'unit',\n",
       " 'value',\n",
       " 'week',\n",
       " 'yard',\n",
       " 'year',\n",
       " 'yobi',\n",
       " 'yocto',\n",
       " 'yotta',\n",
       " 'zebi',\n",
       " 'zepto',\n",
       " 'zero_Celsius',\n",
       " 'zetta']"
      ]
     },
     "execution_count": 6,
     "metadata": {},
     "output_type": "execute_result"
    }
   ],
   "source": [
    "#get a comprehensive list of constants \n",
    "from scipy import constants\n",
    "dir(constants)"
   ]
  },
  {
   "cell_type": "code",
   "execution_count": 12,
   "metadata": {},
   "outputs": [
    {
     "name": "stdout",
     "output_type": "stream",
     "text": [
      "3.141592653589793\n",
      "6.02214076e+23\n",
      "1000.0\n",
      "load size in tons: 50000.0\n"
     ]
    }
   ],
   "source": [
    "print(constants.pi)\n",
    "print(constants.Avogadro)\n",
    "print(constants.metric_ton)\n",
    "print(\"load size in tons:\", 50*constants.metric_ton)"
   ]
  },
  {
   "cell_type": "markdown",
   "metadata": {},
   "source": [
    "### trigonometry"
   ]
  },
  {
   "cell_type": "code",
   "execution_count": 14,
   "metadata": {},
   "outputs": [
    {
     "data": {
      "text/plain": [
       "0.7071067811865476"
      ]
     },
     "execution_count": 14,
     "metadata": {},
     "output_type": "execute_result"
    }
   ],
   "source": [
    "import numpy as np #np is now an alias or shorthand \n",
    "#calculate the sine of 45 degree angle \n",
    "np.sin(45*constants.degree)"
   ]
  },
  {
   "cell_type": "markdown",
   "metadata": {},
   "source": [
    "### Stat functions in scipy"
   ]
  },
  {
   "cell_type": "code",
   "execution_count": 17,
   "metadata": {},
   "outputs": [
    {
     "name": "stdout",
     "output_type": "stream",
     "text": [
      "5.0\n"
     ]
    }
   ],
   "source": [
    "from numpy import mean \n",
    "myList = [2,3,6,7,8,9,0]\n",
    "print(mean(myList))"
   ]
  },
  {
   "cell_type": "markdown",
   "metadata": {},
   "source": [
    "#### Get the derivative of an equation using scipy\n",
    "derive the following following: $$ 3x^2 + 9x - 5\n",
    "for a y=2\n",
    "\n",
    "### results: 6x + 9 \n",
    "\n"
   ]
  },
  {
   "cell_type": "code",
   "execution_count": 25,
   "metadata": {},
   "outputs": [],
   "source": [
    "from scipy.misc import derivative as drv \n",
    "\n",
    "def eqn(x): \n",
    "    return x * x **2 + 9*x - 5 "
   ]
  },
  {
   "cell_type": "code",
   "execution_count": 30,
   "metadata": {},
   "outputs": [
    {
     "name": "stderr",
     "output_type": "stream",
     "text": [
      "C:\\Users\\chand\\AppData\\Local\\Temp\\ipykernel_106472\\44868458.py:1: DeprecationWarning: scipy.misc.derivative is deprecated in SciPy v1.10.0; and will be completely removed in SciPy v1.12.0. You may consider using findiff: https://github.com/maroba/findiff or numdifftools: https://github.com/pbrod/numdifftools\n",
      "  drv(eqn,2)\n"
     ]
    },
    {
     "data": {
      "text/plain": [
       "22.0"
      ]
     },
     "execution_count": 30,
     "metadata": {},
     "output_type": "execute_result"
    }
   ],
   "source": [
    "drv(eqn,2)"
   ]
  }
 ],
 "metadata": {
  "kernelspec": {
   "display_name": "Python 3",
   "language": "python",
   "name": "python3"
  },
  "language_info": {
   "codemirror_mode": {
    "name": "ipython",
    "version": 3
   },
   "file_extension": ".py",
   "mimetype": "text/x-python",
   "name": "python",
   "nbconvert_exporter": "python",
   "pygments_lexer": "ipython3",
   "version": "3.12.1"
  }
 },
 "nbformat": 4,
 "nbformat_minor": 2
}
