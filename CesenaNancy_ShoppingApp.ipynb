{
 "cells": [
  {
   "cell_type": "markdown",
   "metadata": {},
   "source": [
    "# Nancy's Shopping App"
   ]
  },
  {
   "cell_type": "markdown",
   "metadata": {},
   "source": [
    "#### **Welcome Message:** A welcome message should initially be displayed in the e-commerce application, such as \"Welcome to the Demo Marketplace\"."
   ]
  },
  {
   "cell_type": "code",
   "execution_count": 105,
   "metadata": {},
   "outputs": [
    {
     "name": "stdout",
     "output_type": "stream",
     "text": [
      "--------------------------------------------------------\n",
      "Welcome to Nancy's Marketplace - we are thrilled to have you! \n",
      "Please browse around, and don't be shy to add items into your cart. \n",
      "We have a flexible return policy!\n",
      "--------------------------------------------------------\n"
     ]
    }
   ],
   "source": [
    "def shoppingApp():\n",
    "    print('--------------------------------------------------------')\n",
    "    print(\"Welcome to Nancy's Marketplace - we are thrilled to have you! \\nPlease browse around, and don't be shy to add items into your cart. \\nWe have a flexible return policy!\")\n",
    "    print('--------------------------------------------------------')\n",
    "\n",
    "shoppingApp()"
   ]
  },
  {
   "cell_type": "markdown",
   "metadata": {},
   "source": [
    "##### **User and Admin Login** "
   ]
  },
  {
   "cell_type": "code",
   "execution_count": 9,
   "metadata": {},
   "outputs": [],
   "source": [
    "# user and admin login demo login\n",
    "\n",
    "user_access = {\n",
    "    # username : password\n",
    "    'userA': 'passA',\n",
    "    'userB': 'passB',\n",
    "    'userC': 'passC'\n",
    "}\n",
    "\n",
    "admin_access = {\n",
    "    # username : password\n",
    "    'auserA': 'apassA',\n",
    "    'auserB': 'apassB',\n",
    "    'auserC': 'apassC'\n",
    "}\n",
    "\n",
    "session_id = {\n",
    "    'userA': '12345',\n",
    "    'userB': '12346',\n",
    "    'userC': '12347',\n",
    "    'auserA': '12348',\n",
    "    'auserB': '12349',\n",
    "    'auserC': '12350'    \n",
    "}"
   ]
  },
  {
   "cell_type": "markdown",
   "metadata": {},
   "source": [
    "#### **Create Admin and User Logins:** After databases are created, create admin and user logins. It is necessary to construct a sample product catalog with three to four product categories, such as Boots, Coats, Jackets, and Caps. The product id, name, category id, and price should all be present for each item in the dummy database of the catalog. Both users and administrators can view the catalog."
   ]
  },
  {
   "cell_type": "code",
   "execution_count": 10,
   "metadata": {},
   "outputs": [
    {
     "data": {
      "text/plain": [
       "83268"
      ]
     },
     "execution_count": 10,
     "metadata": {},
     "output_type": "execute_result"
    }
   ],
   "source": [
    "# create random number generator for new session IDs\n",
    "from random import randint\n",
    "def randNumGen():\n",
    "    randNum = randint(11111,99999)\n",
    "    if randNum in session_id.values(): #update use 'while' \n",
    "        randNum = randint(11111,99999)\n",
    "        return(randNum)\n",
    "    else:\n",
    "        return(randNum)\n",
    "\n",
    "randNumGen()"
   ]
  },
  {
   "cell_type": "code",
   "execution_count": 42,
   "metadata": {},
   "outputs": [
    {
     "name": "stdout",
     "output_type": "stream",
     "text": [
      "Welcome to Nancy's Marketplace,  adminA !\n",
      "Your session has been verified. Your session ID is: 32247 .\n"
     ]
    }
   ],
   "source": [
    "# admin login function \n",
    "\n",
    "def admin_login():\n",
    "    user = input('Enter your username.')\n",
    "    password = input('Enter your password.')\n",
    "    global sessionID\n",
    "\n",
    "    # check if the password is available in the user dictionary\n",
    "    if user in admin_access and admin_access[user] == password:\n",
    "        sessionID = session_id[user]\n",
    "        print(\"Welcome to Nancy's Marketplace, \", user,'!')\n",
    "        print(\"Your session has been verified. Your session ID is:\", sessionID, \".\")\n",
    "    else:\n",
    "        newAccount = input(\"Would you like to create a new user login?\")\n",
    "        if newAccount == 'Yes':\n",
    "            admin_access[user] = password\n",
    "            sessionID = randNumGen()\n",
    "            session_id[user] = sessionID\n",
    "            print(\"Congratulations, your new account has been created,\", user,\"!\")\n",
    "            print(\"Your new session ID is:\", sessionID,\".\")\n",
    "        else: \n",
    "            print(\"Access Denied: Incorrect username and password. \\nPlease review your username and password carefully and try agian.\")\n",
    "\n",
    "admin_login()"
   ]
  },
  {
   "cell_type": "code",
   "execution_count": 43,
   "metadata": {},
   "outputs": [
    {
     "data": {
      "text/plain": [
       "32247"
      ]
     },
     "execution_count": 43,
     "metadata": {},
     "output_type": "execute_result"
    }
   ],
   "source": [
    "sessionID"
   ]
  },
  {
   "cell_type": "code",
   "execution_count": 40,
   "metadata": {},
   "outputs": [
    {
     "name": "stdout",
     "output_type": "stream",
     "text": [
      "Welcome to Nancy's Marketplace, userA! \n",
      "Your session has been verified. Your session ID is: 12345.\n"
     ]
    }
   ],
   "source": [
    "\n",
    "# user logins function \n",
    "def user_login():\n",
    "    user = input('Enter your username.')\n",
    "    password = input('Enter your password.')\n",
    "    global sessionID\n",
    "\n",
    "    # check if the password is available in the user dictionary\n",
    "    if user in user_access and user_access[user] == password:\n",
    "        sessionID = session_id[user]\n",
    "        print(\"Welcome to Nancy's Marketplace, {}! \\nYour session has been verified. Your session ID is: {}.\".format(user,sessionID))\n",
    "    else:\n",
    "        newAccount = input(\"Account not recognized. Would you like to create a new user login? Please enter 'Yes' or 'No'.\")\n",
    "        if newAccount == 'Yes':\n",
    "            user_access[user] = password\n",
    "            sessionID = randNumGen()\n",
    "            session_id[user] = sessionID\n",
    "            print(\"Congratulations, your new account has been created, {}! \\nYour new session ID is: {}.\".format(user,sessionID))\n",
    "        else: \n",
    "            print(\"Access Denied: Incorrect username and password. \\nPlease review your username and password carefully and try agian.\")\n",
    "\n",
    "user_login()"
   ]
  },
  {
   "cell_type": "markdown",
   "metadata": {},
   "source": [
    "##### After databases are created, create admin and user logins. It is necessary to construct a sample product catalog with three to four product categories, such as Boots, Coats, Jackets, and Caps. The product id, name, category id, and price should all be present for each item in the dummy database of the catalog. Both users and administrators can view the catalog."
   ]
  },
  {
   "cell_type": "code",
   "execution_count": 89,
   "metadata": {},
   "outputs": [
    {
     "name": "stdout",
     "output_type": "stream",
     "text": [
      "liquor\n"
     ]
    }
   ],
   "source": [
    "# nested dict\n",
    "sample_catalog = {  \n",
    "    1: {'productID': 1, 'name': 'soda', 'categoryID': 'coca cola', 'price': 4.99},\n",
    "    2: {'productID': 2, 'name': 'soda', 'categoryID': 'diet coca cola', 'price': 4.99},\n",
    "    3: {'productID': 3, 'name': 'soda', 'categoryID': 'Sprite', 'price': 4.99},\n",
    "    4: {'productID': 4, 'name': 'liquor', 'categoryID': 'tequila', 'price': 83.99},\n",
    "    5: {'productID': 5, 'name': 'liquor', 'categoryID': 'whiskey', 'price': 79.99},\n",
    "    6: {'productID': 6, 'name': 'liquor', 'categoryID': 'gin', 'price': 54.99},\n",
    "    7: {'productID': 7, 'name': 'beer', 'categoryID': 'Stout', 'price': 8},\n",
    "    8: {'productID': 8, 'name': 'beer', 'categoryID': 'Porter', 'price': 7},\n",
    "    9: {'productID': 9, 'name': 'beer', 'categoryID': 'IPA', 'price': 9},\n",
    "    10: {'productID': 10, 'name': 'cider', 'categoryID': 'raspberry', 'price': 7},\n",
    "    11: {'productID': 11, 'name': 'cider', 'categoryID': 'strawberry', 'price': 8},\n",
    "    12: {'productID': 12, 'name': 'cider', 'categoryID': 'blueberry', 'price': 7}\n",
    "}\n",
    "\n",
    "print(sample_catalog[5][\"name\"])"
   ]
  },
  {
   "cell_type": "code",
   "execution_count": 90,
   "metadata": {},
   "outputs": [
    {
     "name": "stdout",
     "output_type": "stream",
     "text": [
      "Nancy's Marketplace Catalog\n",
      "productID: 1, name: soda, categoryID: coca cola, price: 4.99\n",
      "productID: 2, name: soda, categoryID: diet coca cola, price: 4.99\n",
      "productID: 3, name: soda, categoryID: Sprite, price: 4.99\n",
      "productID: 4, name: liquor, categoryID: tequila, price: 83.99\n",
      "productID: 5, name: liquor, categoryID: whiskey, price: 79.99\n",
      "productID: 6, name: liquor, categoryID: gin, price: 54.99\n",
      "productID: 7, name: beer, categoryID: Stout, price: 8\n",
      "productID: 8, name: beer, categoryID: Porter, price: 7\n",
      "productID: 9, name: beer, categoryID: IPA, price: 9\n",
      "productID: 10, name: cider, categoryID: raspberry, price: 7\n",
      "productID: 11, name: cider, categoryID: strawberry, price: 8\n",
      "productID: 12, name: cider, categoryID: blueberry, price: 7\n"
     ]
    }
   ],
   "source": [
    "# build a  function to display the items in the catalog\n",
    "def displayCatalog():\n",
    "    print(\"Nancy's Marketplace Catalog\")\n",
    "    #loop through each item\n",
    "    for items in sample_catalog:\n",
    "        print(\"productID: {}, name: {}, categoryID: {}, price: {}\".format(sample_catalog[items][\"productID\"],sample_catalog[items][\"name\"],sample_catalog[items][\"categoryID\"],sample_catalog[items][\"price\"]))\n",
    "\n",
    "displayCatalog()"
   ]
  },
  {
   "cell_type": "code",
   "execution_count": null,
   "metadata": {},
   "outputs": [],
   "source": []
  },
  {
   "cell_type": "code",
   "execution_count": 18,
   "metadata": {},
   "outputs": [
    {
     "name": "stdout",
     "output_type": "stream",
     "text": [
      "Welcome to Nancy's Marketplace, userA! \n",
      "Your session has been verified. Your session ID is: 12345.\n",
      "Your session is now active. Happy Shopping!\n",
      "Nancy's Marketplace Catalog\n",
      "productID: 1, name: soda, categoryID: coka cola, price: 4.99\n",
      "productID: 2, name: soda, categoryID: diet coca cola, price: 4.99\n",
      "productID: 3, name: soda, categoryID: Sprite, price: 4.99\n",
      "productID: 4, name: liquor, categoryID: tequila, price: 83.99\n",
      "productID: 5, name: liquor, categoryID: whiskey, price: 79.99\n",
      "productID: 6, name: liquor, categoryID: gin, price: 54.99\n",
      "productID: 7, name: beer, categoryID: Stout, price: 8\n",
      "productID: 8, name: beer, categoryID: Porter, price: 7\n",
      "productID: 9, name: beer, categoryID: IPA, price: 9\n",
      "productID: 10, name: cider, categoryID: raspberry, price: 7\n",
      "productID: 11, name: cider, categoryID: strawberry, price: 8\n",
      "productID: 12, name: cider, categoryID: blueberry, price: 7\n",
      "None\n"
     ]
    }
   ],
   "source": [
    "# mechanism for user type admin vs user\n",
    "def UserAccessType():\n",
    "    login_type = input('Pleasse enter your user type.')\n",
    "\n",
    "    if login_type == 'user':\n",
    "        user_login()\n",
    "        print(\"Your session is now active. Happy Shopping!\")\n",
    "        print(displayCatalog())\n",
    "    elif login_type =='admin':\n",
    "        admin_login()\n",
    "        print(\"Your session is now active. Happy Shopping!\") ##don't think admin needs this text. maybe editing itemized list from store?\n",
    "        #print(sample_catalog)\n",
    "    else:\n",
    "        print(\"Unsupported user type. Please select between user and admin.\")\n",
    "\n",
    "UserAccessType()"
   ]
  },
  {
   "cell_type": "code",
   "execution_count": 46,
   "metadata": {},
   "outputs": [
    {
     "data": {
      "text/plain": [
       "'coka cola'"
      ]
     },
     "execution_count": 46,
     "metadata": {},
     "output_type": "execute_result"
    }
   ],
   "source": [
    "sample_catalog[1][\"categoryID\"]"
   ]
  },
  {
   "cell_type": "code",
   "execution_count": 52,
   "metadata": {},
   "outputs": [
    {
     "data": {
      "text/plain": [
       "32247"
      ]
     },
     "execution_count": 52,
     "metadata": {},
     "output_type": "execute_result"
    }
   ],
   "source": [
    "sessionID"
   ]
  },
  {
   "cell_type": "code",
   "execution_count": 254,
   "metadata": {},
   "outputs": [],
   "source": [
    "#%pip install pandas\n",
    "#import pandas as pd\n",
    "#from pandas import DataFrame\n",
    "\n",
    "# build an empty cart\n",
    "cart_columns = [\"SessionID\", \"Quantity\", \"ProductID\", \"Category\", \"Name\"]\n",
    "cart = pd.DataFrame(columns=cart_columns)\n",
    "\n",
    "#create funtion for adding to cart\n",
    "def add_to_cart(productID, quantity, sessionID = sessionID):\n",
    "    global cart\n",
    "    category = sample_catalog[productID][\"categoryID\"]\n",
    "    name = sample_catalog[productID][\"name\"]    \n",
    "\n",
    "    #check if product already exists for existing sessionID\n",
    "    if ((cart['ProductID'] == productID) & (cart[\"SessionID\"] == sessionID)).any():\n",
    "        # Update quantity for the existing product\n",
    "        cart.loc[(cart['ProductID'] == productID) & (cart[\"SessionID\"] == sessionID), 'Quantity'] += quantity\n",
    "        sessionCart = cart[cart[\"SessionID\"] == sessionID]\n",
    "    else:\n",
    "        # Create a new entry for the product\n",
    "        newProduct = pd.DataFrame([[sessionID, quantity, productID, category,name]], columns=cart_columns)\n",
    "        cart = pd.concat([cart, newProduct], ignore_index=True)\n",
    "        # print what got added\n",
    "        sessionCart = cart[cart[\"SessionID\"] == sessionID]\n",
    "        print(newProduct)\n",
    "    print(\"You have added: {} {} {}(s).\\n Your cart contains: \\n{}\".format(quantity, category, name, sessionCart))\n"
   ]
  },
  {
   "cell_type": "code",
   "execution_count": 265,
   "metadata": {},
   "outputs": [
    {
     "name": "stdout",
     "output_type": "stream",
     "text": [
      "You have added: 0 coca cola soda(s).\n",
      " Your cart contains: \n",
      "  SessionID Quantity ProductID   Category    Name\n",
      "0     32247        2         1  coca cola    soda\n",
      "1     32247        6         3     Sprite    soda\n",
      "2     32247        2         4    tequila  liquor\n"
     ]
    }
   ],
   "source": [
    "add_to_cart(1,0)"
   ]
  },
  {
   "cell_type": "code",
   "execution_count": 163,
   "metadata": {},
   "outputs": [
    {
     "data": {
      "text/plain": [
       "[       0  1  2          3     4\n",
       " 0  32247  2  1  coca cola  soda]"
      ]
     },
     "execution_count": 163,
     "metadata": {},
     "output_type": "execute_result"
    }
   ],
   "source": [
    "cart columns = [\"sessionID\", \"quantity\", \"productID\", \"category\", \"name\"]"
   ]
  },
  {
   "cell_type": "code",
   "execution_count": null,
   "metadata": {},
   "outputs": [],
   "source": [
    "def displayCart():"
   ]
  },
  {
   "cell_type": "code",
   "execution_count": null,
   "metadata": {},
   "outputs": [],
   "source": [
    "# user functionality\n",
    "\n",
    "print('''\n",
    "        1. To add to cart\n",
    "        2. to delete from cart\n",
    "        3. to remove an item from the catalog\n",
    "        4. checkout\n",
    "''')\n",
    "choice = input('insert your option from the menu')\n",
    "if choice == 1:\n",
    "    add_to_cart()\n",
    "elif choice ==2:\n",
    "    del_from_cart()\n",
    "\n",
    "# if someone inserts 3\n",
    "elif choice == 3:\n",
    "    if user_type == 'user':\n",
    "        print(\"you need admin access to delete an item from that catalog\")\n",
    "\n",
    "elif choice == 4:\n",
    "    checkout()\n",
    "        "
   ]
  },
  {
   "cell_type": "code",
   "execution_count": null,
   "metadata": {},
   "outputs": [],
   "source": [
    "def checkout()\n",
    "    pay_meth = input()\n",
    "    if pay_meth == 'paypal'\n",
    "        print('your odered went through using paypal')\n",
    "\n"
   ]
  },
  {
   "cell_type": "code",
   "execution_count": null,
   "metadata": {},
   "outputs": [],
   "source": []
  }
 ],
 "metadata": {
  "kernelspec": {
   "display_name": "Python 3",
   "language": "python",
   "name": "python3"
  },
  "language_info": {
   "codemirror_mode": {
    "name": "ipython",
    "version": 3
   },
   "file_extension": ".py",
   "mimetype": "text/x-python",
   "name": "python",
   "nbconvert_exporter": "python",
   "pygments_lexer": "ipython3",
   "version": "3.12.0"
  }
 },
 "nbformat": 4,
 "nbformat_minor": 2
}
