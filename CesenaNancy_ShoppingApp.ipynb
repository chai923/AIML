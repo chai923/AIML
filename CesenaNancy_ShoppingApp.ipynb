{
 "cells": [
  {
   "cell_type": "markdown",
   "metadata": {},
   "source": [
    "# Nancy's Shopping App"
   ]
  },
  {
   "cell_type": "markdown",
   "metadata": {},
   "source": [
    "##### Thank you for viewing my shoppint app! I have defined all required functionality for my shopping app in the first section. You may find my final shopping app in the last section of this document. "
   ]
  },
  {
   "cell_type": "markdown",
   "metadata": {},
   "source": [
    "### **Section 1: Defining User and Admin Functions**\n",
    "##### User and Admin Logins"
   ]
  },
  {
   "cell_type": "code",
   "execution_count": 877,
   "metadata": {},
   "outputs": [],
   "source": [
    "# user and admin login demo login\n",
    "\n",
    "user_access = {\n",
    "    # username : password\n",
    "    'userA': 'passA',\n",
    "    'userB': 'passB',\n",
    "    'userC': 'passC'\n",
    "}\n",
    "\n",
    "admin_access = {\n",
    "    # username : password\n",
    "    'auserA': 'apassA',\n",
    "    'auserB': 'apassB',\n",
    "    'auserC': 'apassC'\n",
    "}\n",
    "\n",
    "session_id = {\n",
    "    'userA': '12345',\n",
    "    'userB': '12346',\n",
    "    'userC': '12347',\n",
    "    'auserA': '12348',\n",
    "    'auserB': '12349',\n",
    "    'auserC': '12350'    \n",
    "}"
   ]
  },
  {
   "cell_type": "code",
   "execution_count": 878,
   "metadata": {},
   "outputs": [
    {
     "data": {
      "text/plain": [
       "80841"
      ]
     },
     "execution_count": 878,
     "metadata": {},
     "output_type": "execute_result"
    }
   ],
   "source": [
    "# create random number generator for new session IDs\n",
    "from random import randint\n",
    "def randNumGen():\n",
    "    randNum = randint(11111,99999)\n",
    "    if randNum in session_id.values(): #update use 'while' \n",
    "        randNum = randint(11111,99999)\n",
    "        return(randNum)\n",
    "    else:\n",
    "        return(randNum)\n",
    "\n",
    "randNumGen()"
   ]
  },
  {
   "cell_type": "code",
   "execution_count": 881,
   "metadata": {},
   "outputs": [
    {
     "name": "stdout",
     "output_type": "stream",
     "text": [
      "Welcome to Nancy's Marketplace,  auserA !\n",
      "Your session has been verified. Your session ID is: 12348 .\n"
     ]
    }
   ],
   "source": [
    "# admin login function \n",
    "\n",
    "def admin_login():\n",
    "    user = input('Enter your username.')\n",
    "    password = input('Enter your password.')\n",
    "    global sessionID\n",
    "\n",
    "    # check if the password is available in the user dictionary\n",
    "    if user in admin_access and admin_access[user] == password:\n",
    "        sessionID = session_id[user]\n",
    "        print(\"Welcome to Nancy's Marketplace, \", user,'!')\n",
    "        print(\"Your session has been verified. Your session ID is:\", sessionID, \".\")\n",
    "    else:\n",
    "        newAccount = input(\"Would you like to create a new user login?\")\n",
    "        if newAccount == 'Yes':\n",
    "            admin_access[user] = password\n",
    "            sessionID = randNumGen()\n",
    "            session_id[user] = sessionID\n",
    "            print(\"Congratulations, your new account has been created,\", user,\"!\")\n",
    "            print(\"Your new session ID is:\", sessionID,\".\")\n",
    "        else: \n",
    "            print(\"Access Denied: Incorrect username and password. \\nPlease review your username and password carefully and try agian.\")\n",
    "            sessionID = 0\n",
    "\n",
    "admin_login()"
   ]
  },
  {
   "cell_type": "code",
   "execution_count": 883,
   "metadata": {},
   "outputs": [
    {
     "name": "stdout",
     "output_type": "stream",
     "text": [
      "Welcome to Nancy's Marketplace, userA! \n",
      "Your session has been verified. Your session ID is: 12345.\n"
     ]
    }
   ],
   "source": [
    "\n",
    "# user logins function \n",
    "def user_login():\n",
    "    user = input('Enter your username.')\n",
    "    password = input('Enter your password.')\n",
    "    global sessionID\n",
    "\n",
    "    # check if the password is available in the user dictionary\n",
    "    if user in user_access and user_access[user] == password:\n",
    "        sessionID = session_id[user]\n",
    "        print(\"Welcome to Nancy's Marketplace, {}! \\nYour session has been verified. Your session ID is: {}.\".format(user,sessionID))\n",
    "    else:\n",
    "        newAccount = input(\"Account not recognized. Would you like to create a new user login? Please enter 'Yes' or 'No'.\")\n",
    "        if newAccount == 'Yes':\n",
    "            user_access[user] = password\n",
    "            sessionID = randNumGen()\n",
    "            session_id[user] = sessionID\n",
    "            print(\"Congratulations, your new account has been created, {}! \\nYour new session ID is: {}.\".format(user,sessionID))\n",
    "        else: \n",
    "            print(\"Access Denied: Incorrect username and password. \\nPlease review your username and password carefully and try agian.\")\n",
    "            sessionID = 0\n",
    "\n",
    "user_login()"
   ]
  },
  {
   "cell_type": "markdown",
   "metadata": {},
   "source": [
    "##### Define Sample Catalog"
   ]
  },
  {
   "cell_type": "code",
   "execution_count": 884,
   "metadata": {},
   "outputs": [
    {
     "data": {
      "text/plain": [
       "{1: {'productID': 1, 'categoryID': 'Soda', 'name': 'Coca Cola', 'price': 4.99},\n",
       " 2: {'productID': 2,\n",
       "  'categoryID': 'Soda',\n",
       "  'name': 'Diet Coca Cola',\n",
       "  'price': 4.99},\n",
       " 3: {'productID': 3, 'categoryID': 'Soda', 'name': 'Sprite', 'price': 4.99},\n",
       " 4: {'productID': 4,\n",
       "  'categoryID': 'Liquor',\n",
       "  'name': 'Tequila',\n",
       "  'price': 83.99},\n",
       " 5: {'productID': 5,\n",
       "  'categoryID': 'Liquor',\n",
       "  'name': 'Whiskey',\n",
       "  'price': 79.99},\n",
       " 6: {'productID': 6, 'categoryID': 'Liquor', 'name': 'Gin', 'price': 54.99},\n",
       " 7: {'productID': 7, 'categoryID': 'Beer', 'name': 'Stout', 'price': 8},\n",
       " 8: {'productID': 8, 'categoryID': 'Beer', 'name': 'Porter', 'price': 7},\n",
       " 9: {'productID': 9, 'categoryID': 'Beer', 'name': 'IPA', 'price': 9},\n",
       " 10: {'productID': 10,\n",
       "  'categoryID': 'Cider',\n",
       "  'name': 'Raspberry Cider',\n",
       "  'price': 7},\n",
       " 11: {'productID': 11,\n",
       "  'categoryID': 'Cider',\n",
       "  'name': 'Strawberry Cider',\n",
       "  'price': 8},\n",
       " 12: {'productID': 12,\n",
       "  'categoryID': 'Cider',\n",
       "  'name': 'Blueberry Cider',\n",
       "  'price': 7}}"
      ]
     },
     "execution_count": 884,
     "metadata": {},
     "output_type": "execute_result"
    }
   ],
   "source": [
    "# nested dict\n",
    "sample_catalog = {  \n",
    "    1: {'productID': 1, 'categoryID': 'Soda', 'name': 'Coca Cola', 'price': 4.99},\n",
    "    2: {'productID': 2, 'categoryID': 'Soda', 'name': 'Diet Coca Cola', 'price': 4.99},\n",
    "    3: {'productID': 3, 'categoryID': 'Soda', 'name': 'Sprite', 'price': 4.99},\n",
    "    4: {'productID': 4, 'categoryID': 'Liquor', 'name': 'Tequila', 'price': 83.99},\n",
    "    5: {'productID': 5, 'categoryID': 'Liquor', 'name': 'Whiskey', 'price': 79.99},\n",
    "    6: {'productID': 6, 'categoryID': 'Liquor', 'name': 'Gin', 'price': 54.99},\n",
    "    7: {'productID': 7, 'categoryID': 'Beer', 'name': 'Stout', 'price': 8},\n",
    "    8: {'productID': 8, 'categoryID': 'Beer', 'name': 'Porter', 'price': 7},\n",
    "    9: {'productID': 9, 'categoryID': 'Beer', 'name': 'IPA', 'price': 9},\n",
    "    10: {'productID': 10, 'categoryID': 'Cider', 'name': 'Raspberry Cider', 'price': 7},\n",
    "    11: {'productID': 11, 'categoryID': 'Cider', 'name': 'Strawberry Cider', 'price': 8},\n",
    "    12: {'productID': 12, 'categoryID': 'Cider', 'name': 'Blueberry Cider', 'price': 7}\n",
    "}\n",
    "\n",
    "sample_catalog"
   ]
  },
  {
   "cell_type": "code",
   "execution_count": 885,
   "metadata": {},
   "outputs": [
    {
     "name": "stdout",
     "output_type": "stream",
     "text": [
      "Nancy's Marketplace Catalog\n",
      "productID: 1, name: Coca Cola, categoryID: Soda, price: 4.99\n",
      "productID: 2, name: Diet Coca Cola, categoryID: Soda, price: 4.99\n",
      "productID: 3, name: Sprite, categoryID: Soda, price: 4.99\n",
      "productID: 4, name: Tequila, categoryID: Liquor, price: 83.99\n",
      "productID: 5, name: Whiskey, categoryID: Liquor, price: 79.99\n",
      "productID: 6, name: Gin, categoryID: Liquor, price: 54.99\n",
      "productID: 7, name: Stout, categoryID: Beer, price: 8\n",
      "productID: 8, name: Porter, categoryID: Beer, price: 7\n",
      "productID: 9, name: IPA, categoryID: Beer, price: 9\n",
      "productID: 10, name: Raspberry Cider, categoryID: Cider, price: 7\n",
      "productID: 11, name: Strawberry Cider, categoryID: Cider, price: 8\n",
      "productID: 12, name: Blueberry Cider, categoryID: Cider, price: 7\n"
     ]
    }
   ],
   "source": [
    "# build a  function to display the items in the catalog\n",
    "def displayCatalog():\n",
    "    print(\"Nancy's Marketplace Catalog\")\n",
    "    #loop through each item\n",
    "    for items in sample_catalog:\n",
    "        print(\"productID: {}, name: {}, categoryID: {}, price: {}\".format(sample_catalog[items][\"productID\"],sample_catalog[items][\"name\"],sample_catalog[items][\"categoryID\"],sample_catalog[items][\"price\"]))\n",
    "\n",
    "displayCatalog()"
   ]
  },
  {
   "cell_type": "markdown",
   "metadata": {},
   "source": [
    "#### User cart functionality Functions"
   ]
  },
  {
   "cell_type": "code",
   "execution_count": 1008,
   "metadata": {},
   "outputs": [],
   "source": [
    "#%pip install pandas\n",
    "import pandas as pd\n",
    "from pandas import DataFrame\n",
    "\n",
    "# build an empty cart\n",
    "cart_columns = [\"SessionID\", \"ProductID\", \"Quantity\", \"Price\", \"Category\", \"Name\"]\n",
    "cart = pd.DataFrame(columns=cart_columns)\n",
    "\n",
    "#create funtion for adding to cart\n",
    "def add_to_cart(productID, quantity, sessionID = sessionID):\n",
    "    global cart\n",
    "\n",
    "    if productID not in list(sample_catalog.keys()):\n",
    "        print(\"You are attempting to add a product that is not in the catalog. Please try again.\")\n",
    "    else: \n",
    "        category = sample_catalog[productID][\"categoryID\"]\n",
    "        name = sample_catalog[productID][\"name\"]   \n",
    "        priceByQuantity = float(sample_catalog[productID][\"price\"])*quantity\n",
    "\n",
    "        #check if product already exists for existing sessionID\n",
    "        if ((cart['ProductID'] == productID) & (cart[\"SessionID\"] == sessionID)).any():\n",
    "            # Update quantity for the existing product\n",
    "            cart.loc[(cart['ProductID'] == productID) & (cart[\"SessionID\"] == sessionID), 'Quantity'] += quantity\n",
    "            cart.loc[(cart['ProductID'] == productID) & (cart[\"SessionID\"] == sessionID), 'Price'] += priceByQuantity\n",
    "            sessionCart = cart[cart[\"SessionID\"] == sessionID]\n",
    "        else:\n",
    "            # Create a new entry for the product\n",
    "            newProduct = pd.DataFrame([[sessionID, productID, quantity, priceByQuantity, category,name]], columns=cart_columns)\n",
    "            if cart.empty:\n",
    "                cart = newProduct\n",
    "                # define what got added\n",
    "                sessionCart = cart[cart[\"SessionID\"] == sessionID]\n",
    "            else:\n",
    "                cart = pd.concat([cart, newProduct], ignore_index=True)\n",
    "                # define what got added\n",
    "                sessionCart = cart[cart[\"SessionID\"] == sessionID]\n",
    "            #print(newProduct)\n",
    "        print(\"You have added: {} {} {}(s).\\n Your cart contains: \\n{}\".format(quantity, category, name, sessionCart))\n"
   ]
  },
  {
   "cell_type": "code",
   "execution_count": 995,
   "metadata": {},
   "outputs": [
    {
     "name": "stdout",
     "output_type": "stream",
     "text": [
      "You are attempting to add a product that is not in the catalog. Please try again.\n"
     ]
    }
   ],
   "source": [
    "add_to_cart(16,4, sessionID)"
   ]
  },
  {
   "cell_type": "code",
   "execution_count": 1010,
   "metadata": {},
   "outputs": [],
   "source": [
    "#create funtion for removing items from cart\n",
    "def remove_from_cart(productID, quantity, sessionID = sessionID):\n",
    "    global cart\n",
    "    category = sample_catalog[productID][\"categoryID\"]\n",
    "    name = sample_catalog[productID][\"name\"]    \n",
    "    priceByQuantity = float(sample_catalog[productID][\"price\"])*quantity\n",
    "\n",
    "    #check if product already exists for existing sessionID\n",
    "    if ((cart['ProductID'] == productID) & (cart[\"SessionID\"] == sessionID) & (cart[\"Quantity\"] >= quantity)).any():\n",
    "        # Update quantity for the existing product\n",
    "        cart.loc[(cart['ProductID'] == productID) & (cart[\"SessionID\"] == sessionID), 'Quantity'] -= quantity\n",
    "        cart.loc[(cart['ProductID'] == productID) & (cart[\"SessionID\"] == sessionID), 'Price'] -= priceByQuantity\n",
    "        sessionCart = cart[(cart[\"SessionID\"] == sessionID) & (cart[\"Quantity\"] != 0)]\n",
    "        print(\"You have removed: {} {} {}(s).\".format(quantity, category, name))\n",
    "        if sessionCart.empty == True: \n",
    "            print(\"Your cart is now empty.\")\n",
    "        else: \n",
    "            print(\"Your cart contains: \\n{}\".format(sessionCart))\n",
    "    else:\n",
    "        # Error message\n",
    "        print(\"Unable to remove desired product from your cart. \\n Please make sure you have sufficient items in your cart to remove.\")\n"
   ]
  },
  {
   "cell_type": "code",
   "execution_count": 912,
   "metadata": {},
   "outputs": [
    {
     "name": "stdout",
     "output_type": "stream",
     "text": [
      "You have removed: 2 Soda Coca Cola(s).\n",
      "Your cart contains: \n",
      "  SessionID  ProductID  Quantity   Price Category             Name\n",
      "0     12345          1         6   29.94     Soda        Coca Cola\n",
      "1     12345          4         2  167.98   Liquor          Tequila\n",
      "2     12345         12         4   28.00    Cider  Blueberry Cider\n"
     ]
    }
   ],
   "source": [
    "remove_from_cart(1,2, sessionID)"
   ]
  },
  {
   "cell_type": "code",
   "execution_count": 895,
   "metadata": {},
   "outputs": [],
   "source": [
    "##Display session cart \n",
    "def displayCart(sessionID=sessionID):\n",
    "    sessionCart = cart[(cart[\"SessionID\"] == sessionID) & (cart[\"Quantity\"] != 0)]\n",
    "    return(sessionCart)\n"
   ]
  },
  {
   "cell_type": "code",
   "execution_count": 913,
   "metadata": {},
   "outputs": [
    {
     "data": {
      "text/html": [
       "<div>\n",
       "<style scoped>\n",
       "    .dataframe tbody tr th:only-of-type {\n",
       "        vertical-align: middle;\n",
       "    }\n",
       "\n",
       "    .dataframe tbody tr th {\n",
       "        vertical-align: top;\n",
       "    }\n",
       "\n",
       "    .dataframe thead th {\n",
       "        text-align: right;\n",
       "    }\n",
       "</style>\n",
       "<table border=\"1\" class=\"dataframe\">\n",
       "  <thead>\n",
       "    <tr style=\"text-align: right;\">\n",
       "      <th></th>\n",
       "      <th>SessionID</th>\n",
       "      <th>ProductID</th>\n",
       "      <th>Quantity</th>\n",
       "      <th>Price</th>\n",
       "      <th>Category</th>\n",
       "      <th>Name</th>\n",
       "    </tr>\n",
       "  </thead>\n",
       "  <tbody>\n",
       "    <tr>\n",
       "      <th>0</th>\n",
       "      <td>12345</td>\n",
       "      <td>1</td>\n",
       "      <td>6</td>\n",
       "      <td>29.94</td>\n",
       "      <td>Soda</td>\n",
       "      <td>Coca Cola</td>\n",
       "    </tr>\n",
       "    <tr>\n",
       "      <th>1</th>\n",
       "      <td>12345</td>\n",
       "      <td>4</td>\n",
       "      <td>2</td>\n",
       "      <td>167.98</td>\n",
       "      <td>Liquor</td>\n",
       "      <td>Tequila</td>\n",
       "    </tr>\n",
       "    <tr>\n",
       "      <th>2</th>\n",
       "      <td>12345</td>\n",
       "      <td>12</td>\n",
       "      <td>4</td>\n",
       "      <td>28.00</td>\n",
       "      <td>Cider</td>\n",
       "      <td>Blueberry Cider</td>\n",
       "    </tr>\n",
       "  </tbody>\n",
       "</table>\n",
       "</div>"
      ],
      "text/plain": [
       "  SessionID  ProductID  Quantity   Price Category             Name\n",
       "0     12345          1         6   29.94     Soda        Coca Cola\n",
       "1     12345          4         2  167.98   Liquor          Tequila\n",
       "2     12345         12         4   28.00    Cider  Blueberry Cider"
      ]
     },
     "execution_count": 913,
     "metadata": {},
     "output_type": "execute_result"
    }
   ],
   "source": [
    "displayCart(sessionID)"
   ]
  },
  {
   "cell_type": "code",
   "execution_count": 1034,
   "metadata": {},
   "outputs": [],
   "source": [
    "def checkout(sessionID = sessionID):\n",
    "    # sum total cost of session cart \n",
    "    totalPrice = round(sum(displayCart(sessionID)[\"Price\"]),2)\n",
    "\n",
    "    if totalPrice in (0,\"0\"):\n",
    "        print(\"Your cart is empty. Please make sure there are items in your cart before checking out. Thank you!\")\n",
    "    else: \n",
    "        print('''Your total is ${}. How would you like to pay?\n",
    "            1) Credit Card\n",
    "            2) PayPal\n",
    "            3) UPI'''.format(totalPrice))\n",
    "        \n",
    "\n",
    "\n",
    "        pay_meth = input(\"Please select your payment method from the available options.\")\n",
    "        if pay_meth in ('Credit Card', 1, \"1\"):\n",
    "            print(\"You will shortly be redirected to enter your credit card information. Thank you for shopping at Nancy's Marketplace!\")\n",
    "            # reset cart once payment is complete\n",
    "            cart.drop(index=cart.index, inplace=True)\n",
    "        elif pay_meth in ('PayPal', 2, \"2\"):\n",
    "            print(\"Your oder went through using PayPal. Thank you for shopping at Nancy's Marketplace!\")\n",
    "            # reset cart once payment is complete\n",
    "            cart.drop(index=cart.index, inplace=True)\n",
    "        elif pay_meth in ('UPI', 3, \"3\"):\n",
    "            print(\"You will be shortly redirected to the portal for Unified Payment Interface. Thank you for shopping at Nancy's Marketplace!\")\n",
    "            # reset cart once payment is complete\n",
    "            cart.drop(index=cart.index, inplace=True)\n",
    "        else: \n",
    "            print(\"Please try again. Make sure you are selecting between the available payment options.\")\n"
   ]
  },
  {
   "cell_type": "code",
   "execution_count": 1035,
   "metadata": {},
   "outputs": [
    {
     "name": "stdout",
     "output_type": "stream",
     "text": [
      "Your cart is empty. Please make sure there are items in your cart before checking out. Thank you!\n"
     ]
    }
   ],
   "source": [
    "checkout(sessionID)"
   ]
  },
  {
   "cell_type": "code",
   "execution_count": 926,
   "metadata": {},
   "outputs": [
    {
     "name": "stdout",
     "output_type": "stream",
     "text": [
      "\n",
      "        1. View Nancy's Marketplace shopping catalog.\n",
      "        2. Add item(s) to yout cart.\n",
      "        3. Remove item(s) from your cart.\n",
      "        4. View your shopping cart.\n",
      "        5. Checkout.\n",
      "\n",
      "You have added: 5 Soda Sprite(s).\n",
      " Your cart contains: \n",
      "  SessionID  ProductID  Quantity   Price Category             Name\n",
      "0     12345          1         6   29.94     Soda        Coca Cola\n",
      "1     12345          4         2  167.98   Liquor          Tequila\n",
      "2     12345         12         4   28.00    Cider  Blueberry Cider\n",
      "3     12345          3         5   24.95     Soda           Sprite\n"
     ]
    }
   ],
   "source": [
    "# user functionality -- I will be using this functionality in my final shopping App function to iterate through\n",
    "\n",
    "print('''\n",
    "        1. View Nancy's Marketplace shopping catalog.\n",
    "        2. Add item(s) to yout cart.\n",
    "        3. Remove item(s) from your cart.\n",
    "        4. View your shopping cart.\n",
    "        5. Checkout.\n",
    "''')\n",
    "choice = input('What would you like to do next?')\n",
    "if choice in (\"1\",1):\n",
    "    displayCatalog()\n",
    "elif choice in (\"2\", 2):\n",
    "    productID = int(input(\"What is the productID for the item you would like to add?\"))\n",
    "    quantity = int(input(\"How many of that item would you like to add?\"))\n",
    "    add_to_cart(productID,quantity, sessionID)\n",
    "elif choice in (\"3\", 3):\n",
    "    productID = int(input(\"What is the productID for the item you would like to remove?\"))\n",
    "    quantity = int(input(\"How many of that item would you like to remove?\"))\n",
    "    remove_from_cart(productID,quantity, sessionID)\n",
    "elif choice in (\"4\",4):\n",
    "    print(displayCart(sessionID))\n",
    "elif choice in (\"5\",5):\n",
    "    checkout(sessionID)\n",
    "else:\n",
    "    print(\"Action not supported. Please review the options carefully and select between the available options.\")        "
   ]
  },
  {
   "cell_type": "markdown",
   "metadata": {},
   "source": [
    "#### Admin Functionality Functions"
   ]
  },
  {
   "cell_type": "code",
   "execution_count": 963,
   "metadata": {},
   "outputs": [],
   "source": [
    "##Admin add product to catalog\n",
    "\n",
    "def add_product(sample_catalog=sample_catalog):\n",
    "    print(\"Please edit carefully as your modifications will permanently alter the catalog.\")\n",
    "\n",
    "    prodCat = input(\"What is the category of the item you would like to add?\")\n",
    "    prodName = input(\"What is the name of the item you would like to add?\")\n",
    "    prodPrice = input(\"What is the unit price for the item you would like to add?\")\n",
    "\n",
    "    # check to see if product category and name already exists within catalog\n",
    "    matching_entries = [product_id for product_id, product_info in sample_catalog.items() \n",
    "                    if product_info['categoryID'] == prodCat and product_info['name'] == prodName]\n",
    "    \n",
    "    # if it exists, ask admin to double check new item, or consider modifying the catalog\n",
    "    if matching_entries:\n",
    "        print(\"This product category and name already exists in your catalog. Review your new product details and try again.\\nIf product already exists and you would like to make changes, please go back and modify the catalog. Thank you.\")\n",
    "    else:\n",
    "        prodNum = list(sample_catalog.keys())[-1] + 1\n",
    "        newproduct = {'productID': prodNum, 'categoryID': prodCat, 'name': prodName, 'price': prodPrice}\n",
    "        sample_catalog[prodNum] = newproduct\n",
    "        print(\"You have successfully added a new product! New product added: \\n{}\".format(newproduct))\n"
   ]
  },
  {
   "cell_type": "code",
   "execution_count": 932,
   "metadata": {},
   "outputs": [
    {
     "name": "stdout",
     "output_type": "stream",
     "text": [
      "Please edit carefully as your modifications will permanently alter the catalog.\n",
      "You have successfully added a new product! New product added: \n",
      "{'productID': 14, 'categoryID': 'Drinks', 'name': 'Apple Juice', 'price': '2.50'}\n"
     ]
    }
   ],
   "source": [
    "add_product()"
   ]
  },
  {
   "cell_type": "code",
   "execution_count": 933,
   "metadata": {},
   "outputs": [],
   "source": [
    "## admin remove product from catalog \n",
    "\n",
    "def remove_product(sample_catalog=sample_catalog):\n",
    "    print(\"Please edit carefully as your modifications will permanently alter the catalog.\")\n",
    "\n",
    "    prodID = input(\"What is the productID of the item you would like to delete?\")\n",
    "\n",
    "    # check to see if product category and name already exists within catalog\n",
    "    matching_entries = [product_id for product_id, product_info in sample_catalog.items() \n",
    "                    if product_info['productID'] == int(prodID)]\n",
    "    \n",
    "    # if it exists, ask admin to double check new item, or consider modifying the catalog\n",
    "    if not matching_entries:\n",
    "        # productID does not exist\n",
    "        print(\"ProductID odes not exist in the catalog. Review the product details and try again.\")\n",
    "    else:\n",
    "        removedproduct = matching_entries[0]\n",
    "        product = sample_catalog[int(removedproduct)]\n",
    "        sample_catalog.pop(removedproduct)\n",
    "        print(\"You have successfully removed a product. Product removed: \\n{}\".format(product))"
   ]
  },
  {
   "cell_type": "code",
   "execution_count": 934,
   "metadata": {},
   "outputs": [
    {
     "name": "stdout",
     "output_type": "stream",
     "text": [
      "Please edit carefully as your modifications will permanently alter the catalog.\n",
      "You have successfully removed a product. Product removed: \n",
      "{'productID': 13, 'categoryID': 'Drinks', 'name': 'Water', 'price': '1.99'}\n"
     ]
    }
   ],
   "source": [
    "remove_product()"
   ]
  },
  {
   "cell_type": "code",
   "execution_count": 935,
   "metadata": {},
   "outputs": [],
   "source": [
    "## modify product from catalog\n",
    "\n",
    "def modify_product(sample_catalog=sample_catalog):\n",
    "    print(\"Please edit carefully as your modifications will permanently alter the catalog.\")\n",
    "    \n",
    "    # identify the productID\n",
    "    prodID = input(\"What is the productID of the item you would like to modify?\")\n",
    "    \n",
    "    matching_entries = [product_id for product_id, product_info in sample_catalog.items() \n",
    "                    if product_info['productID'] == int(prodID)]\n",
    "    \n",
    "    if not matching_entries:\n",
    "        # productID does not exist\n",
    "        print(\"ProductID odes not exist. Review your new product details and try again.\")\n",
    "    else:\n",
    "        # save original product info for comparison after successful product modification\n",
    "        originalproduct = sample_catalog[int(prodID)]\n",
    "        print(\"You have selected to modify product: \\n{}\".format(originalproduct))\n",
    "        \n",
    "        # identify what the admin would like to edit\n",
    "        prodNameEdit = input(\"Would you like to modify the product name? (Yes/No)\")\n",
    "        prodCatEdit = input(\"Would you like to modify the product category? (Yes/No)\")\n",
    "        prodPriceEdit = input(\"Would you like to modify the product price? (Yes/No)\")\n",
    "\n",
    "        # modify product details\n",
    "        if prodNameEdit in (\"Yes\", \"yes\"):\n",
    "            newprodName = input(\"What would you like to update the product name to?\")\n",
    "            sample_catalog[int(prodID)][\"name\"] = newprodName\n",
    "        if prodCatEdit in (\"Yes\", \"yes\"):\n",
    "            newprodCat = input(\"What would you like to update the product category to?\")\n",
    "            sample_catalog[int(prodID)][\"categoryID\"] = newprodCat\n",
    "        if prodPriceEdit in (\"Yes\", \"yes\"):\n",
    "            newprodPrice = input(\"What would you like to update the product price to?\")\n",
    "            sample_catalog[int(prodID)][\"price\"] = newprodPrice\n",
    "\n",
    "        # save new product details for comparison after successful product modification\n",
    "        modifiedproduct = sample_catalog[int(prodID)]\n",
    "\n",
    "        print(\"You have successfully modified this product to: \\n{}\".format(modifiedproduct))"
   ]
  },
  {
   "cell_type": "code",
   "execution_count": 936,
   "metadata": {},
   "outputs": [
    {
     "name": "stdout",
     "output_type": "stream",
     "text": [
      "Please edit carefully as your modifications will permanently alter the catalog.\n",
      "You have selected to modify product: \n",
      "{'productID': 14, 'categoryID': 'Drinks', 'name': 'Apple Juice', 'price': '2.50'}\n",
      "You have successfully modified this product to: \n",
      "{'productID': 14, 'categoryID': 'Drinks', 'name': 'Water', 'price': '1.99'}\n"
     ]
    }
   ],
   "source": [
    "modify_product()"
   ]
  },
  {
   "cell_type": "code",
   "execution_count": 966,
   "metadata": {},
   "outputs": [
    {
     "name": "stdout",
     "output_type": "stream",
     "text": [
      "\n",
      "        1. View Nancy's Marketplace shopping catalog.\n",
      "        2. Add item(s) to the catalog.\n",
      "        3. Remove item(s) from the catalog.\n",
      "        4. Modify item(s) in the catalog.\n",
      "        5. Exit.\n",
      "\n",
      "Please edit carefully as your modifications will permanently alter the catalog.\n",
      "You have successfully added a new product! New product added: \n",
      "{'productID': 15, 'categoryID': 'Drinks', 'name': 'Apple Juice', 'price': '2.50'}\n"
     ]
    }
   ],
   "source": [
    "# admin functionality - I will be using this functionality in my final shopping App function to iterate through\n",
    "\n",
    "print('''\n",
    "        1. View Nancy's Marketplace shopping catalog.\n",
    "        2. Add item(s) to the catalog.\n",
    "        3. Remove item(s) from the catalog.\n",
    "        4. Modify item(s) in the catalog.\n",
    "        5. Exit.\n",
    "''')\n",
    "choice = input('What would you like to do next? Please select from the available options.')\n",
    "if choice in (\"1\",1):\n",
    "    displayCatalog()\n",
    "elif choice in (\"2\", 2):\n",
    "    add_product()\n",
    "elif choice in (\"3\", 3):\n",
    "    remove_product()\n",
    "elif choice in (\"4\",4):\n",
    "    modify_product()\n",
    "elif choice in (\"5\",5):\n",
    "    breakpoint\n",
    "else:\n",
    "    print(\"Action not supported. Please review the options carefully and select between the available options.\")        "
   ]
  },
  {
   "cell_type": "markdown",
   "metadata": {},
   "source": [
    "#### Defining user type: user vs admin Function"
   ]
  },
  {
   "cell_type": "code",
   "execution_count": 972,
   "metadata": {},
   "outputs": [
    {
     "name": "stdout",
     "output_type": "stream",
     "text": [
      "Congratulations, your new account has been created, newUser! \n",
      "Your new session ID is: 20686.\n"
     ]
    },
    {
     "data": {
      "text/plain": [
       "'user'"
      ]
     },
     "execution_count": 972,
     "metadata": {},
     "output_type": "execute_result"
    }
   ],
   "source": [
    "# mechanism for user type admin vs user\n",
    "def UserAccessType():\n",
    "    login_type = input('Pleasse enter your user type.')\n",
    "\n",
    "    if login_type == 'user':\n",
    "        user_login()\n",
    "        #print(\"Your session is now active. Happy Shopping!\")\n",
    "        return login_type\n",
    "    elif login_type =='admin':\n",
    "        admin_login()\n",
    "        #print(\"Your session is now active. Happy Shopping!\") ##don't think admin needs this text. maybe editing itemized list from store?\n",
    "        return login_type            \n",
    "    else:\n",
    "        print(\"Unsupported user type. Please select between user and admin.\")\n",
    "\n",
    "UserAccessType()"
   ]
  },
  {
   "cell_type": "markdown",
   "metadata": {},
   "source": [
    "#### **Final Shopping App Function**"
   ]
  },
  {
   "cell_type": "code",
   "execution_count": 1038,
   "metadata": {},
   "outputs": [],
   "source": [
    "def shoppingApp():\n",
    "    print('--------------------------------------------------------')\n",
    "    print(\"Welcome to Nancy's Marketplace - we are thrilled to have you! \\nPlease browse around, and don't be shy to add items into your cart. \\nWe have a flexible return policy!\")\n",
    "    print('--------------------------------------------------------')\n",
    "\n",
    "    ##select user access type\n",
    "    user_type = UserAccessType()\n",
    "\n",
    "    if sessionID in (0,\"0\"):\n",
    "        breakpoint\n",
    "    else:\n",
    "        if user_type == 'user':\n",
    "            print('''\n",
    "            1. View Nancy's Marketplace shopping catalog.\n",
    "            2. Add item(s) to yout cart.\n",
    "            3. Remove item(s) from your cart.\n",
    "            4. View your shopping cart.\n",
    "            5. Checkout and exit.\n",
    "            ''')\n",
    "            choice = input('What would you like to do first? Please select from the available options. (1-5)')\n",
    "\n",
    "            while choice in (1,2,3,4,5,\"1\",\"2\",\"3\",\"4\",\"5\"):\n",
    "                if choice in (\"1\",1):\n",
    "                    displayCatalog()\n",
    "                    choice = input('What would you like to do next? Please select from the available options. (1-5)')\n",
    "                elif choice in (\"2\", 2):\n",
    "                    productID = int(input(\"What is the productID for the item you would like to add?\"))\n",
    "                    quantity = int(input(\"How many of that item would you like to add?\"))\n",
    "                    add_to_cart(productID,quantity, sessionID)\n",
    "                    choice = input('What would you like to do next? Please select from the available options. (1-5)')\n",
    "                elif choice in (\"3\", 3):\n",
    "                    productID = int(input(\"What is the productID for the item you would like to remove?\"))\n",
    "                    quantity = int(input(\"How many of that item would you like to remove?\"))\n",
    "                    remove_from_cart(productID,quantity, sessionID)\n",
    "                    choice = input('What would you like to do next? Please select from the available options. (1-5)')\n",
    "                elif choice in (\"4\",4):\n",
    "                    print(displayCart(sessionID))\n",
    "                    choice = input('What would you like to do next? Please select from the available options. (1-5)')\n",
    "                elif choice in (\"5\",5):\n",
    "                    checkout(sessionID)\n",
    "                    break\n",
    "            else:\n",
    "                print(\"Action not supported. Please review the options carefully and select between the available options.\")        \n",
    "        elif user_type == 'admin':\n",
    "            print('''\n",
    "            1. View Nancy's Marketplace shopping catalog.\n",
    "            2. Add item(s) to the catalog.\n",
    "            3. Remove item(s) from the catalog.\n",
    "            4. Modify item(s) in the catalog.\n",
    "            5. Sign out and exit.\n",
    "            ''')\n",
    "\n",
    "            choice = input('What would you like to do first? Please select from the available options. (1-5)')\n",
    "\n",
    "            while choice in (1,2,3,4,5,\"1\",\"2\",\"3\",\"4\",\"5\"):\n",
    "\n",
    "                if choice in (\"1\",1):\n",
    "                    displayCatalog()\n",
    "                    choice = input('What would you like to do next? Please select from the available options. (1-5)')\n",
    "                elif choice in (\"2\", 2):\n",
    "                    add_product()\n",
    "                    choice = input('What would you like to do next? Please select from the available options. (1-5)')\n",
    "                elif choice in (\"3\", 3):\n",
    "                    remove_product()\n",
    "                    choice = input('What would you like to do next? Please select from the available options. (1-5)')\n",
    "                elif choice in (\"4\",4):\n",
    "                    modify_product()\n",
    "                    choice = input('What would you like to do next? Please select from the available options. (1-5)')\n",
    "                elif choice in (\"5\",5):\n",
    "                    print(\"Your session is now over. Thank you!\")\n",
    "                    break\n",
    "            else:\n",
    "                print(\"Action not supported. Please review the options carefully and select between the available options.\")        \n",
    "\n",
    "        else:\n",
    "            print(\"Unsupported user type. Please select between user and admin.\")\n",
    "            breakpoint\n",
    "\n",
    "        \n"
   ]
  },
  {
   "cell_type": "code",
   "execution_count": 1039,
   "metadata": {},
   "outputs": [
    {
     "name": "stdout",
     "output_type": "stream",
     "text": [
      "--------------------------------------------------------\n",
      "Welcome to Nancy's Marketplace - we are thrilled to have you! \n",
      "Please browse around, and don't be shy to add items into your cart. \n",
      "We have a flexible return policy!\n",
      "--------------------------------------------------------\n",
      "Welcome to Nancy's Marketplace,  auserA !\n",
      "Your session has been verified. Your session ID is: 12348 .\n",
      "\n",
      "            1. View Nancy's Marketplace shopping catalog.\n",
      "            2. Add item(s) to the catalog.\n",
      "            3. Remove item(s) from the catalog.\n",
      "            4. Modify item(s) in the catalog.\n",
      "            5. Sign out and exit.\n",
      "            \n",
      "Nancy's Marketplace Catalog\n",
      "productID: 1, name: Coca Cola, categoryID: Soda, price: 4.99\n",
      "productID: 2, name: Diet Coca Cola, categoryID: Soda, price: 4.99\n",
      "productID: 3, name: Sprite, categoryID: Soda, price: 4.99\n",
      "productID: 4, name: Tequila, categoryID: Liquor, price: 83.99\n",
      "productID: 5, name: Whiskey, categoryID: Liquor, price: 79.99\n",
      "productID: 6, name: Gin, categoryID: Liquor, price: 54.99\n",
      "productID: 7, name: Stout, categoryID: Beer, price: 8\n",
      "productID: 8, name: Porter, categoryID: Beer, price: 7\n",
      "productID: 9, name: IPA, categoryID: Beer, price: 9\n",
      "productID: 10, name: Raspberry Cider, categoryID: Cider, price: 7\n",
      "productID: 11, name: Strawberry Cider, categoryID: Cider, price: 8\n",
      "productID: 12, name: Blueberry Cider, categoryID: Cider, price: 7\n",
      "productID: 14, name: Water, categoryID: Drinks, price: 1.99\n",
      "productID: 15, name: Apple Juice, categoryID: Drinks, price: 2.50\n",
      "productID: 16, name: Orange Juice, categoryID: Drinks, price: 3.50\n",
      "Please edit carefully as your modifications will permanently alter the catalog.\n",
      "This product category and name already exists in your catalog. Review your new product details and try again.\n",
      "If product already exists and you would like to make changes, please go back and modify the catalog. Thank you.\n",
      "Please edit carefully as your modifications will permanently alter the catalog.\n",
      "This product category and name already exists in your catalog. Review your new product details and try again.\n",
      "If product already exists and you would like to make changes, please go back and modify the catalog. Thank you.\n",
      "Nancy's Marketplace Catalog\n",
      "productID: 1, name: Coca Cola, categoryID: Soda, price: 4.99\n",
      "productID: 2, name: Diet Coca Cola, categoryID: Soda, price: 4.99\n",
      "productID: 3, name: Sprite, categoryID: Soda, price: 4.99\n",
      "productID: 4, name: Tequila, categoryID: Liquor, price: 83.99\n",
      "productID: 5, name: Whiskey, categoryID: Liquor, price: 79.99\n",
      "productID: 6, name: Gin, categoryID: Liquor, price: 54.99\n",
      "productID: 7, name: Stout, categoryID: Beer, price: 8\n",
      "productID: 8, name: Porter, categoryID: Beer, price: 7\n",
      "productID: 9, name: IPA, categoryID: Beer, price: 9\n",
      "productID: 10, name: Raspberry Cider, categoryID: Cider, price: 7\n",
      "productID: 11, name: Strawberry Cider, categoryID: Cider, price: 8\n",
      "productID: 12, name: Blueberry Cider, categoryID: Cider, price: 7\n",
      "productID: 14, name: Water, categoryID: Drinks, price: 1.99\n",
      "productID: 15, name: Apple Juice, categoryID: Drinks, price: 2.50\n",
      "productID: 16, name: Orange Juice, categoryID: Drinks, price: 3.50\n",
      "Please edit carefully as your modifications will permanently alter the catalog.\n",
      "You have successfully removed a product. Product removed: \n",
      "{'productID': 15, 'categoryID': 'Drinks', 'name': 'Apple Juice', 'price': '2.50'}\n",
      "Please edit carefully as your modifications will permanently alter the catalog.\n",
      "You have successfully added a new product! New product added: \n",
      "{'productID': 17, 'categoryID': 'Drinks', 'name': 'Apple Juice', 'price': '2.50'}\n",
      "Please edit carefully as your modifications will permanently alter the catalog.\n",
      "You have selected to modify product: \n",
      "{'productID': 17, 'categoryID': 'Drinks', 'name': 'Apple Juice', 'price': '2.50'}\n",
      "You have successfully modified this product to: \n",
      "{'productID': 17, 'categoryID': 'Drinks', 'name': 'Apple Juice', 'price': '3.50'}\n",
      "Your session is now over. Thank you!\n"
     ]
    }
   ],
   "source": [
    "shoppingApp()"
   ]
  }
 ],
 "metadata": {
  "kernelspec": {
   "display_name": "Python 3",
   "language": "python",
   "name": "python3"
  },
  "language_info": {
   "codemirror_mode": {
    "name": "ipython",
    "version": 3
   },
   "file_extension": ".py",
   "mimetype": "text/x-python",
   "name": "python",
   "nbconvert_exporter": "python",
   "pygments_lexer": "ipython3",
   "version": "3.12.0"
  }
 },
 "nbformat": 4,
 "nbformat_minor": 2
}
