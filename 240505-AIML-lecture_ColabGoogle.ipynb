{
  "nbformat": 4,
  "nbformat_minor": 0,
  "metadata": {
    "colab": {
      "provenance": [],
      "authorship_tag": "ABX9TyNo7rL5WkwwTfJCj/MJkqch",
      "include_colab_link": true
    },
    "kernelspec": {
      "name": "python3",
      "display_name": "Python 3"
    },
    "language_info": {
      "name": "python"
    }
  },
  "cells": [
    {
      "cell_type": "markdown",
      "metadata": {
        "id": "view-in-github",
        "colab_type": "text"
      },
      "source": [
        "<a href=\"https://colab.research.google.com/github/chai923/AIML/blob/main/240505-AIML-lecture_ColabGoogle.ipynb\" target=\"_parent\"><img src=\"https://colab.research.google.com/assets/colab-badge.svg\" alt=\"Open In Colab\"/></a>"
      ]
    },
    {
      "cell_type": "markdown",
      "source": [
        "Advantages of using Google Colab:\n",
        "- libraries are preinstalled\n",
        "- optimized for the best performance\n",
        "- good balance of library version compatibility\n",
        "- fast execution\n",
        "- ability to leverage GPUs\n",
        "\n",
        "Disadvantages:\n",
        "- sometimes the performance slows down depending on the network overload\n",
        "- loss of information"
      ],
      "metadata": {
        "id": "lngHR7oNgU4A"
      }
    },
    {
      "cell_type": "code",
      "execution_count": null,
      "metadata": {
        "id": "7XEViqzZe42u"
      },
      "outputs": [],
      "source": []
    }
  ]
}