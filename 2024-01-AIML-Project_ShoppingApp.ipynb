{
 "cells": [
  {
   "cell_type": "markdown",
   "metadata": {},
   "source": [
    "# Project: shopping app"
   ]
  },
  {
   "cell_type": "markdown",
   "metadata": {},
   "source": [
    "# Welcome message"
   ]
  },
  {
   "cell_type": "code",
   "execution_count": 6,
   "metadata": {},
   "outputs": [
    {
     "name": "stdout",
     "output_type": "stream",
     "text": [
      "--------------------------------\n",
      "Welcome to Chandni's Marketplace\n",
      "--------------------------------\n"
     ]
    }
   ],
   "source": [
    "def startshopping(): \n",
    "    print('--------------------------------')\n",
    "    print(\"Welcome to Chandni's Marketplace\")\n",
    "    print('--------------------------------')\n",
    "\n",
    "startshopping()\n",
    "\n"
   ]
  },
  {
   "cell_type": "markdown",
   "metadata": {},
   "source": [
    "# Admin credentials\n",
    "Build 2 dictionaries for user and admin credentials"
   ]
  },
  {
   "cell_type": "code",
   "execution_count": 7,
   "metadata": {},
   "outputs": [],
   "source": [
    "#user acccess dictionary \n",
    "user_access = {\n",
    "    #username; pw\n",
    "    'userA':'passA',\n",
    "    'userB':'passB',\n",
    "    'userC':'passC',\n",
    "    'userD':'passD',\n",
    "    'userE':'passE'\n",
    "}\n",
    "\n",
    "#adin access dictionary\n",
    "admin_access = {\n",
    "    'adminA':'apassA',\n",
    "    'adminB':'apassB',\n",
    "    'adminC':'apassC'\n",
    "\n",
    "}\n"
   ]
  },
  {
   "cell_type": "markdown",
   "metadata": {},
   "source": [
    "#after creating databases, define functions for the login"
   ]
  },
  {
   "cell_type": "code",
   "execution_count": 10,
   "metadata": {},
   "outputs": [
    {
     "name": "stdout",
     "output_type": "stream",
     "text": [
      "login authenticated\n",
      "your cart session id is:  1001\n"
     ]
    }
   ],
   "source": [
    "def user_login():\n",
    "    user = input('Enter User Name')\n",
    "    password = input('Enter password')\n",
    "    \n",
    "    #Check if username and password is available in the user dict\n",
    "    if(user in user_access and user_access[user] in password):\n",
    "        print('login authenticated')\n",
    "        session_id = '1001'\n",
    "        print(\"your cart session id is: \",session_id)\n",
    "    else: \n",
    "        print('incorrect username or login, try again')\n",
    "\n",
    "\n",
    "def admin_login():\n",
    "    admin = input('Enter your Admin name')\n",
    "    password = input('Enter password')\n",
    "    \n",
    "    #Check if username and password is available in the user dict\n",
    "    if(admin in admin_access and admin_access[admin] in password):\n",
    "        print('Admin login authenticated')\n",
    "    else: \n",
    "        print('incorrect admin name or login, try again')\n",
    "\n",
    "\n",
    "user_login()\n",
    "#k=user\n",
    "#p=password \n",
    "#\n",
    "#if k in user_access and user_access[user]==p: "
   ]
  },
  {
   "cell_type": "code",
   "execution_count": 20,
   "metadata": {},
   "outputs": [],
   "source": [
    "#Build a catalog using a dictionary \n",
    "#nested dictionary \n",
    "catalog = {\n",
    "    1: {\"item\":1, 'name':\"Black Tall Boots\",\"category\":\"Boots\",\"Price\":301},\n",
    "    2: {\"item\":2, 'name':\"Black Short Boots\",\"category\":\"Boots\",\"Price\":202},\n",
    "    3: {\"item\":3, 'name':\"Brown Short Boots\",\"category\":\"Boots\",\"Price\":103},\n",
    "    4: {\"item\":4, 'name':\"Yellow Long Coat\",\"category\":\"Coats\",\"Price\":104},\n",
    "    5: {\"item\":5, 'name':\"Green Mini Coat\",\"category\":\"Coats\",\"Price\":105},\n",
    "    6: {\"item\":6, 'name':\"Black Coat\",\"category\":\"Coats\",\"Price\":106},\n",
    "    7: {\"item\":7, 'name':\"Ski Jacket\",\"category\":\"Jackets\",\"Price\":107},\n",
    "    8: {\"item\":8, 'name':\"Shirt Jacket\",\"category\":\"Jackets\",\"Price\":108},\n",
    "    9: {\"item\":9, 'name':\"Baseball Cap\",\"category\":\"Caps\",\"Price\":109},\n",
    "    10:{\"item\":10, 'name':\"Beanie Cap\",\"category\":\"Caps\",\"Price\":110}\n",
    "}\n",
    "\n"
   ]
  },
  {
   "cell_type": "code",
   "execution_count": 24,
   "metadata": {},
   "outputs": [
    {
     "name": "stdout",
     "output_type": "stream",
     "text": [
      "additional login types not supported. Must select user or admin to continue\n"
     ]
    }
   ],
   "source": [
    "#Mechanism for user type admin vs user \n",
    "def UserAccessType(): \n",
    "    login_type = input('Are you a user or admin?')\n",
    "    if login_type == 'user': \n",
    "        user_login()\n",
    "    elif login_type == 'admin': \n",
    "        admin_login()\n",
    "    else: \n",
    "        print('additional login types not supported. Must select user or admin to continue')\n",
    "\n",
    "UserAccessType()"
   ]
  },
  {
   "cell_type": "code",
   "execution_count": 21,
   "metadata": {},
   "outputs": [
    {
     "data": {
      "text/plain": [
       "{'item': 2, 'name': 'Black Short Boots', 'category': 'Boots', 'Price': 202}"
      ]
     },
     "execution_count": 21,
     "metadata": {},
     "output_type": "execute_result"
    }
   ],
   "source": [
    "#Build a function to display the items in the catalog \n"
   ]
  },
  {
   "cell_type": "code",
   "execution_count": 26,
   "metadata": {},
   "outputs": [
    {
     "data": {
      "text/plain": [
       "[{'item': 2, 'name': 'Black Short Boots', 'category': 'Boots', 'Price': 202},\n",
       " {'item': 2, 'name': 'Black Short Boots', 'category': 'Boots', 'Price': 202},\n",
       " {'item': 2, 'name': 'Black Short Boots', 'category': 'Boots', 'Price': 202},\n",
       " {'item': 2, 'name': 'Black Short Boots', 'category': 'Boots', 'Price': 202}]"
      ]
     },
     "execution_count": 26,
     "metadata": {},
     "output_type": "execute_result"
    }
   ],
   "source": [
    "#Build an empty cart \n",
    "cart = []\n",
    "def addToCart(yoursessid,additem,itemquant): \n",
    "    while itemquant > 0: \n",
    "        cart.append(catalog[additem])\n",
    "        itemquant -= 1\n",
    "    return(cart)\n",
    "\n",
    "yoursessid = input(\"what is your cart session id?\")\n",
    "additem = int(input(\"which item would you like to add to the cart? 1-10\"))\n",
    "itemquant = int(input(\"how many of that item would you like to add?\"))\n",
    "\n",
    "addToCart(yoursessid,additem,itemquant)"
   ]
  },
  {
   "cell_type": "code",
   "execution_count": null,
   "metadata": {},
   "outputs": [],
   "source": [
    "def deleteFromCart(sessionid,item,quantity):\n",
    "    "
   ]
  },
  {
   "cell_type": "code",
   "execution_count": null,
   "metadata": {},
   "outputs": [],
   "source": [
    "def checkout(sessionid):\n",
    "    "
   ]
  },
  {
   "cell_type": "code",
   "execution_count": null,
   "metadata": {},
   "outputs": [],
   "source": [
    "#User functionality \n",
    "\n",
    "print('''\n",
    "        1. to add to cart \n",
    "        2. to delete from cart \n",
    "        3. checkout \n",
    "      ''')\n",
    "\n",
    "choice = input('insert your option from the menu')\n",
    "\n",
    "\n",
    "\n",
    "if choice == 1: \n",
    "    addToCart()\n",
    "elif choice ==2: \n",
    "    deleteFromCart()\n",
    "elif choice == 3:     \n",
    "    checkout() \n",
    "else: \n",
    "    \"Not a possible command. Choose 1,2,3 from the menu.\""
   ]
  },
  {
   "cell_type": "code",
   "execution_count": null,
   "metadata": {},
   "outputs": [],
   "source": [
    "#Payment method \n",
    "def checkout(): \n",
    "    payment_method = input(\"How would you like to pay?\")\n",
    "    if payment_method == \"paypal\": \n",
    "        print(\"your order went through using paypal\")"
   ]
  },
  {
   "cell_type": "code",
   "execution_count": null,
   "metadata": {},
   "outputs": [],
   "source": [
    "#All functions \n",
    "startshopping()\n",
    "UserAccessType()\n",
    "    #user_login()\n",
    "        #session_id\n",
    "    #admin_login()\n",
    "addToCart()\n",
    "deleteFromCart()\n"
   ]
  },
  {
   "cell_type": "code",
   "execution_count": null,
   "metadata": {},
   "outputs": [],
   "source": [
    "#All dictionaries \n",
    "user_access\n",
    "admin_access\n",
    "catalog\n"
   ]
  }
 ],
 "metadata": {
  "kernelspec": {
   "display_name": "Python 3",
   "language": "python",
   "name": "python3"
  },
  "language_info": {
   "codemirror_mode": {
    "name": "ipython",
    "version": 3
   },
   "file_extension": ".py",
   "mimetype": "text/x-python",
   "name": "python",
   "nbconvert_exporter": "python",
   "pygments_lexer": "ipython3",
   "version": "3.12.1"
  }
 },
 "nbformat": 4,
 "nbformat_minor": 2
}
