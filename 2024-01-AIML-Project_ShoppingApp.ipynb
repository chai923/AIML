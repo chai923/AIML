{
 "cells": [
  {
   "cell_type": "markdown",
   "metadata": {},
   "source": [
    "# Project: shopping app"
   ]
  },
  {
   "cell_type": "markdown",
   "metadata": {},
   "source": [
    "# Welcome Message\n",
    "A welcome message should initially be displayed in the e-commerce application, such as \"Welcome to the Demo Marketplace.\" "
   ]
  },
  {
   "cell_type": "code",
   "execution_count": 586,
   "metadata": {},
   "outputs": [
    {
     "name": "stdout",
     "output_type": "stream",
     "text": [
      "--------------------------------\n",
      "Welcome to Chandni's Marketplace\n",
      "--------------------------------\n"
     ]
    }
   ],
   "source": [
    "def startshopping(): \n",
    "    print('--------------------------------')\n",
    "    print(\"Welcome to Chandni's Marketplace\")\n",
    "    print('--------------------------------')\n",
    "\n",
    "startshopping()\n",
    "\n"
   ]
  },
  {
   "cell_type": "markdown",
   "metadata": {},
   "source": [
    "# User and Admin Credentials\n",
    "User login and admin login should be created once the code for the welcome message has been written. "
   ]
  },
  {
   "cell_type": "code",
   "execution_count": 587,
   "metadata": {},
   "outputs": [],
   "source": [
    "#user acccess dictionary \n",
    "user_access = {\n",
    "    \"user1\": {\"password\":\"pass1\" ,'sessionid':10001,\"cart\":[]},\n",
    "    \"user2\": {\"password\":\"pass2\" ,'sessionid':10002,\"cart\":[]},\n",
    "    \"user3\": {\"password\": \"pass3\",'sessionid':10003,\"cart\":[]},\n",
    "    \"user4\": {\"password\": \"pass4\",'sessionid':10004,\"cart\":[]},\n",
    "    \"user5\": {\"password\":\"pass5\",'sessionid':10005,\"cart\":[]}}\n",
    "\n",
    "#admin access dictionary\n",
    "admin_access = {\n",
    "    \"admin1\": {\"password\":\"passA\" ,'sessionid':101},\n",
    "    \"admin2\": {\"password\":\"passB\" ,'sessionid':102},\n",
    "    \"admin3\": {\"password\":\"passC\",'sessionid':103}}"
   ]
  },
  {
   "cell_type": "markdown",
   "metadata": {},
   "source": [
    "For the creation of demo login and admin login, demo databases for those should be created for the user and admin verification, and session id creation.\n",
    "\n",
    "After databases are created, create admin and user logins.\n",
    "\n",
    "Additionally, the admin can only log in using their credentials, and if the admin attempts to log in using another set of credentials, an error notice must appear."
   ]
  },
  {
   "cell_type": "code",
   "execution_count": 588,
   "metadata": {},
   "outputs": [],
   "source": [
    "counter = 10005 \n",
    "def user_login():\n",
    "    user = input('Enter User Name')\n",
    "    password = input('Enter password')\n",
    "    global counter \n",
    "    counter += 1\n",
    "    #Check if username and password is available in the user dict\n",
    "    if(user in user_access and password in user_access[user][\"password\"]):\n",
    "        print('login authenticated')\n",
    "    elif(user not in user_access): \n",
    "        newLogin = input(\"Do you want to create a new user account? Yes or No\")\n",
    "        if newLogin == \"Yes\": \n",
    "            user_access[user] = {\"password\":password,\"sessionid\":counter}\n",
    "            print(\"Your new login has been created\")\n",
    "    else: \n",
    "        print('incorrect username or login, try again')\n",
    "    \n",
    "\n",
    "def admin_login():\n",
    "    admin = input('Enter your Admin name')\n",
    "    password = input('Enter password')\n",
    "    \n",
    "    #Check if username and password is available in the user dict\n",
    "    if(admin in admin_access and password in admin_access[admin][\"password\"]):\n",
    "        print('Admin login authenticated')\n",
    "    else: \n",
    "        print('Incorrect admin name or login, try again')\n"
   ]
  },
  {
   "cell_type": "code",
   "execution_count": null,
   "metadata": {},
   "outputs": [],
   "source": [
    "user_login()"
   ]
  },
  {
   "cell_type": "markdown",
   "metadata": {},
   "source": [
    "# Sample Product Catalog\n",
    "It is necessary to construct a sample product catalog with three to four product categories, such as Boots, Coats, Jackets, and Caps. The product id, name, category id, and price should all be present for each item in the dummy database of the catalog. Both users and administrators can view the catalog.\n"
   ]
  },
  {
   "cell_type": "code",
   "execution_count": 589,
   "metadata": {},
   "outputs": [],
   "source": [
    "#Build a catalog using a dictionary \n",
    "#nested dictionary \n",
    "catalog = {\n",
    "    1: {\"item\":1, 'name':\"Black Tall Boots\",\"category\":\"Boots\",\"Price\":301},\n",
    "    2: {\"item\":2, 'name':\"Black Short Boots\",\"category\":\"Boots\",\"Price\":202},\n",
    "    3: {\"item\":3, 'name':\"Brown Short Boots\",\"category\":\"Boots\",\"Price\":103},\n",
    "    4: {\"item\":4, 'name':\"Yellow Long Coat\",\"category\":\"Coats\",\"Price\":104},\n",
    "    5: {\"item\":5, 'name':\"Green Mini Coat\",\"category\":\"Coats\",\"Price\":105},\n",
    "    6: {\"item\":6, 'name':\"Black Coat\",\"category\":\"Coats\",\"Price\":106},\n",
    "    7: {\"item\":7, 'name':\"Ski Jacket\",\"category\":\"Jackets\",\"Price\":107},\n",
    "    8: {\"item\":8, 'name':\"Shirt Jacket\",\"category\":\"Jackets\",\"Price\":108},\n",
    "    9: {\"item\":9, 'name':\"Baseball Cap\",\"category\":\"Caps\",\"Price\":109},\n",
    "    10:{\"item\":10, 'name':\"Beanie Cap\",\"category\":\"Caps\",\"Price\":110}\n",
    "}\n",
    "\n"
   ]
  },
  {
   "cell_type": "markdown",
   "metadata": {},
   "source": [
    "# User Login Rights "
   ]
  },
  {
   "cell_type": "code",
   "execution_count": 590,
   "metadata": {},
   "outputs": [],
   "source": [
    "#Mechanism for user type admin vs user \n",
    "def UserAccessType(): \n",
    "    login_type = input('Are you a user or admin?')\n",
    "    if login_type == 'user': \n",
    "        user_login()\n",
    "    elif login_type == 'admin': \n",
    "        admin_login()\n",
    "    else: \n",
    "        print('additional login types not supported. Must select user or admin to continue')\n",
    "\n",
    "#UserAccessType()"
   ]
  },
  {
   "cell_type": "markdown",
   "metadata": {},
   "source": [
    "# User Functions and Functionality "
   ]
  },
  {
   "cell_type": "code",
   "execution_count": 591,
   "metadata": {},
   "outputs": [],
   "source": [
    "#Add to cart\n",
    "def addToCart(user,productid,itemquant):   \n",
    "    print(\"Items have been added. Here is your updated cart:\")\n",
    "    user_access[user][\"cart\"].extend([catalog.get(productid)]*itemquant)\n",
    "    print(user_access[user][\"cart\"])\n",
    "    \n",
    "    #return(session_cart, cart)\n"
   ]
  },
  {
   "cell_type": "code",
   "execution_count": 595,
   "metadata": {},
   "outputs": [
    {
     "name": "stdout",
     "output_type": "stream",
     "text": [
      "Items have been added. Here is your updated cart:\n",
      "[{'item': 1, 'name': 'Black Tall Boots', 'category': 'Boots', 'Price': 301}, {'item': 2, 'name': 'Black Short Boots', 'category': 'Boots', 'Price': 202}, {'item': 2, 'name': 'Black Short Boots', 'category': 'Boots', 'Price': 202}, {'item': 3, 'name': 'Brown Short Boots', 'category': 'Boots', 'Price': 103}, {'item': 3, 'name': 'Brown Short Boots', 'category': 'Boots', 'Price': 103}, {'item': 3, 'name': 'Brown Short Boots', 'category': 'Boots', 'Price': 103}]\n"
     ]
    }
   ],
   "source": [
    "#User inputs\n",
    "user = input(\"what is your cart session id?\")\n",
    "productid = int(input(\"which item would you like to add to the cart? 1-10\"))\n",
    "itemquant = int(input(\"how many of that item would you like to add?\"))\n",
    "addToCart(user,productid,itemquant)"
   ]
  },
  {
   "cell_type": "code",
   "execution_count": 592,
   "metadata": {},
   "outputs": [],
   "source": [
    "#Delete from cart\n",
    "def deleteFromCart(user,productid,itemquant):   \n",
    "    if not user_access[user][\"cart\"]:\n",
    "        print(\"Your cart is empty, there is nothing to delete.\")\n",
    "    elif catalog[productid] not in user_access[user][\"cart\"]:\n",
    "        print(\"The item isn't in your cart. Here is what you have in your cart:\")\n",
    "        print(user_access[user][\"cart\"])\n",
    "    else: \n",
    "        print(\"Items have been removed. Here is your updated cart:\")\n",
    "        while itemquant > 0: \n",
    "            user_access[user][\"cart\"].remove(catalog[productid])\n",
    "            itemquant -= 1\n",
    "        print(user_access[user][\"cart\"])\n",
    "    \n",
    "    #return(session_cart, cart)"
   ]
  },
  {
   "cell_type": "code",
   "execution_count": 597,
   "metadata": {},
   "outputs": [
    {
     "name": "stdout",
     "output_type": "stream",
     "text": [
      "Items have been removed. Here is your updated cart:\n",
      "[{'item': 2, 'name': 'Black Short Boots', 'category': 'Boots', 'Price': 202}, {'item': 2, 'name': 'Black Short Boots', 'category': 'Boots', 'Price': 202}]\n"
     ]
    }
   ],
   "source": [
    "#User inputs\n",
    "user = input(\"what is your username?\")\n",
    "productid = int(input(\"which item would you like to delete from the cart? 1-10\"))\n",
    "itemquant = int(input(\"how many of that item would you like to remove?\"))\n",
    "deleteFromCart(user,productid,itemquant)\n"
   ]
  },
  {
   "cell_type": "code",
   "execution_count": 603,
   "metadata": {},
   "outputs": [
    {
     "name": "stdout",
     "output_type": "stream",
     "text": [
      "{'item': 2, 'name': 'Black Short Boots', 'category': 'Boots', 'Price': 202}\n",
      "{'item': 2, 'name': 'Black Short Boots', 'category': 'Boots', 'Price': 202}\n"
     ]
    }
   ],
   "source": [
    "user_access[\"user1\"][\"cart\"]\n",
    "for item_list in user_access[\"user1\"][\"cart\"]: \n",
    "        print(item_list) "
   ]
  },
  {
   "cell_type": "code",
   "execution_count": 633,
   "metadata": {},
   "outputs": [
    {
     "name": "stdout",
     "output_type": "stream",
     "text": [
      "Your cart is empty, please add items to your cart to checkout.\n"
     ]
    }
   ],
   "source": [
    "#Checkout and pay\n",
    "def checkout():\n",
    "    user = input(\"What is your user name?\")\n",
    "    cart_items = user_access[user][\"cart\"]\n",
    "    if not cart_items:\n",
    "        print(\"Your cart is empty, please add items to your cart to checkout.\")\n",
    "        return\n",
    "    \n",
    "    for item in cart_items: \n",
    "        print(item)      \n",
    "    \n",
    "    finalcart = input(\"Is this your final cart? Yes/No\")\n",
    "    \n",
    "    if finalcart in (\"Yes\",\"yes\"): \n",
    "        total_price = sum(item[\"Price\"] for item in cart_items)    \n",
    "        print(\"Your total is\",total_price)\n",
    "        print('''These are your payment options: \n",
    "             1. Paypal\n",
    "             2. Net banking\n",
    "             3. UPI \n",
    "             ''')\n",
    "        paymenttype = int(input(\"How do you want to pay?\"))\n",
    "        if paymenttype in (1,2):\n",
    "            print(\"Your order is successfully place. Thank you for shopping with us!\")\n",
    "        elif paymenttype == 3: \n",
    "            print(\"You will be shortly redirected to the portal for Unified Payment Interface to make your payment. Thank you for your business.\")\n",
    "        else: \n",
    "            print(\"Not an option, please chose from the menu.\")\n",
    "    else: \n",
    "        print(\"Please continue to shop\")\n",
    "\n",
    "checkout()"
   ]
  },
  {
   "cell_type": "code",
   "execution_count": 635,
   "metadata": {},
   "outputs": [
    {
     "name": "stdout",
     "output_type": "stream",
     "text": [
      "\n",
      "        1. View shopping catalog\n",
      "        2. Add item(s) to your cart \n",
      "        3. Delete item(s) from your cart \n",
      "        4. Checkout \n",
      "      \n",
      "You chose option 4\n",
      "{'item': 2, 'name': 'Black Short Boots', 'category': 'Boots', 'Price': 202}\n",
      "{'item': 2, 'name': 'Black Short Boots', 'category': 'Boots', 'Price': 202}\n",
      "{'item': 1, 'name': 'Black Tall Boots', 'category': 'Boots', 'Price': 301}\n",
      "Your total is 705\n",
      "These are your payment options: \n",
      "             1. Paypal\n",
      "             2. Net banking\n",
      "             3. UPI \n",
      "             \n",
      "Your order is successfully place. Thank you for shopping with us!\n"
     ]
    }
   ],
   "source": [
    "#User functionality \n",
    "\n",
    "print('''\n",
    "        1. View shopping catalog\n",
    "        2. Add item(s) to your cart \n",
    "        3. Delete item(s) from your cart \n",
    "        4. Checkout \n",
    "      ''')\n",
    "\n",
    "choice = int(input('insert your option from the menu'))\n",
    "\n",
    "print(\"You chose option\",choice)\n",
    "\n",
    "if choice == 1: \n",
    "    print(\"Here is the shopping catalog:\",catalog)\n",
    "elif choice ==2: \n",
    "    yoursessid = input(\"what is your cart session id?\")\n",
    "    productid = int(input(\"which item would you like to add to the cart? 1-10\"))\n",
    "    itemquant = int(input(\"how many of that item would you like to add?\"))\n",
    "    updatedcart = addToCart(yoursessid,productid,itemquant)\n",
    "    print(updatedcart)\n",
    "elif choice == 3:     \n",
    "    yoursessid = input(\"what is your cart session id?\")\n",
    "    productid = int(input(\"which item would you like to remove from the cart? 1-10\"))\n",
    "    itemquant = int(input(\"how many of that item would you like to remove?\"))   \n",
    "    updatedcart = deleteFromCart(yoursessid,productid,itemquant)   \n",
    "    print(updatedcart)\n",
    "elif choice == 4: \n",
    "    checkout() \n",
    "else: \n",
    "    print(\"Not a possible command. Choose 1,2,3 from the menu.\")"
   ]
  },
  {
   "cell_type": "markdown",
   "metadata": {},
   "source": [
    "# Admin Functions and Functionality"
   ]
  },
  {
   "cell_type": "code",
   "execution_count": 656,
   "metadata": {},
   "outputs": [],
   "source": [
    "#Admin add new products to the catalog and new category of product to the catalog\n",
    "catalogcounter = 10\n",
    "def adminAddProd(catalog, newProdName,newProdCat,newProdPrice): \n",
    "    \n",
    "    matching_items = [item_id for item_id, item_details in catalog.items() if item_details['name'] == newProdName and item_details['category'] == newProdCat]\n",
    "    if matching_items: \n",
    "       print(\"Product already exists. Try again.\") \n",
    "    else: \n",
    "        global catalogcounter\n",
    "        catalogcounter +=1\n",
    "        print(\"Product has been added. Here is the updated catalog:\")\n",
    "        next_item_no = catalogcounter\n",
    "        new_item = {\"item\":next_item_no,\"name\":newProdName,\"category\":newProdCat,\"Price\":newProdPrice}    \n",
    "        catalog[next_item_no] = new_item\n",
    "        print(catalog)\n",
    "        return(catalog)\n"
   ]
  },
  {
   "cell_type": "code",
   "execution_count": 663,
   "metadata": {},
   "outputs": [
    {
     "data": {
      "text/plain": [
       "{1: {'item': 1, 'name': 'Black Tall Boots', 'category': 'Boots', 'Price': 301},\n",
       " 2: {'item': 2,\n",
       "  'name': 'Black Short Boots',\n",
       "  'category': 'Boots',\n",
       "  'Price': 202},\n",
       " 3: {'item': 3,\n",
       "  'name': 'Brown Short Boots',\n",
       "  'category': 'Boots',\n",
       "  'Price': 103},\n",
       " 4: {'item': 4, 'name': 'Yellow Long Coat', 'category': 'Coats', 'Price': 104},\n",
       " 5: {'item': 5, 'name': 'Green Mini Coat', 'category': 'Coats', 'Price': 105},\n",
       " 6: {'item': 6, 'name': 'Black Coat', 'category': 'Coats', 'Price': 106},\n",
       " 7: {'item': 7, 'name': 'Ski Jacket', 'category': 'Jackets', 'Price': 107},\n",
       " 8: {'item': 8, 'name': 'Shirt Jacket', 'category': 'Jackets', 'Price': 108},\n",
       " 9: {'item': 9, 'name': 'Baseball Cap', 'category': 'Caps', 'Price': 109},\n",
       " 10: {'item': 10, 'name': 'Beanie Cap', 'category': 'Caps', 'Price': 110},\n",
       " 11: {'item': 11, 'name': 'slippers', 'category': 'shoes', 'Price': '100'}}"
      ]
     },
     "execution_count": 663,
     "metadata": {},
     "output_type": "execute_result"
    }
   ],
   "source": [
    "catalog"
   ]
  },
  {
   "cell_type": "code",
   "execution_count": 657,
   "metadata": {},
   "outputs": [
    {
     "data": {
      "text/plain": [
       "<function __main__.adminAddProd(catalog, newProdName, newProdCat, newProdPrice)>"
      ]
     },
     "execution_count": 657,
     "metadata": {},
     "output_type": "execute_result"
    }
   ],
   "source": [
    "newProdName = input(\"What is the new product's name?\")\n",
    "newProdCat = input(\"What is the new product's category?\")\n",
    "newProdPrice = input(\"What is the new product's price?\")"
   ]
  },
  {
   "cell_type": "code",
   "execution_count": 662,
   "metadata": {},
   "outputs": [
    {
     "name": "stdout",
     "output_type": "stream",
     "text": [
      "Product already exists. Try again.\n"
     ]
    }
   ],
   "source": [
    "adminAddProd(catalog,newProdName,newProdCat,newProdPrice)"
   ]
  },
  {
   "cell_type": "code",
   "execution_count": 698,
   "metadata": {},
   "outputs": [],
   "source": [
    "#Admin can modify an existing product in the catalog\n",
    "def adminModifyProd(catalog, modifyProdNo,modifyWhatPart,newProdName=None,newProdCat=None,newProdPrice=None):\n",
    "    if modifyWhatPart == 1: \n",
    "        try: \n",
    "            del catalog[modifyProdNo]\n",
    "            print(\"Product has been deleted. Here's the updated catalog.\")\n",
    "        except KeyError: \n",
    "            print(\"Item doesn't exist in catalog. No changes made.\")\n",
    "\n",
    "    elif modifyWhatPart == 2: \n",
    "        catalog[modifyProdNo]['name'] = newProdName\n",
    "    elif modifyWhatPart == 3:\n",
    "        catalog[modifyProdNo]['category'] = newProdCat\n",
    "    elif modifyWhatPart == 4:    \n",
    "        catalog[modifyProdNo]['Price'] = newProdPrice\n",
    "    else: \n",
    "        print(\"Not an option. Please choose from the menu. \")\n",
    "    return(catalog)"
   ]
  },
  {
   "cell_type": "code",
   "execution_count": 699,
   "metadata": {},
   "outputs": [
    {
     "name": "stdout",
     "output_type": "stream",
     "text": [
      "Choose from this menu:\n",
      "        1. Delete a product from the catalog? \n",
      "        2. Modify a product's name?  \n",
      "        3. Modify a product's category?  \n",
      "        4. Modify a product's price?\n",
      "      \n",
      "Product has been deleted. Here's the updated catalog.\n",
      "{1: {'item': 1, 'name': 'test', 'category': 'testcat', 'Price': 12}, 2: {'item': 2, 'name': 'Black Short Boots', 'category': 'Boots', 'Price': 202}, 3: {'item': 3, 'name': 'Brown Short Boots', 'category': 'Boots', 'Price': 103}, 4: {'item': 4, 'name': 'Yellow Long Coat', 'category': 'Coats', 'Price': 104}, 5: {'item': 5, 'name': 'Green Mini Coat', 'category': 'Coats', 'Price': 105}, 6: {'item': 6, 'name': 'Black Coat', 'category': 'Coats', 'Price': 106}, 7: {'item': 7, 'name': 'Ski Jacket', 'category': 'Jackets', 'Price': 107}, 8: {'item': 8, 'name': 'Shirt Jacket', 'category': 'Jackets', 'Price': 108}, 9: {'item': 9, 'name': 'Baseball Cap', 'category': 'Caps', 'Price': 109}}\n"
     ]
    }
   ],
   "source": [
    "print('''Choose from this menu:\n",
    "        1. Delete a product from the catalog? \n",
    "        2. Modify a product's name?  \n",
    "        3. Modify a product's category?  \n",
    "        4. Modify a product's price?\n",
    "      ''')\n",
    "\n",
    "modifyWhatPart = int(input(\"From the menu, how do you want to modify the catalog?\"))\n",
    "modifyProdNo = int(input(\"Which product number do you want to modify?\"))\n",
    "\n",
    "if modifyWhatPart == 1: \n",
    "    adminModifyProd(catalog,modifyProdNo,modifyWhatPart)\n",
    "    print(catalog)\n",
    "elif modifyWhatPart == 2: \n",
    "    newProdName = input(\"what is the product's new name?\")\n",
    "    adminModifyProd(catalog,modifyProdNo,modifyWhatPart,newProdName=newProdName)\n",
    "    print(\"product has been modified. Here is the updated catalog:\")\n",
    "    print(catalog)\n",
    "elif modifyWhatPart == 3: \n",
    "    newProdCat = input(\"What is the product's new category?\")\n",
    "    adminModifyProd(catalog,modifyProdNo,modifyWhatPart,newProdCat=newProdCat)\n",
    "    print(\"product has been modified. Here is the updated catalog:\")\n",
    "    print(catalog)\n",
    "elif modifyWhatPart == 4: \n",
    "    newProdPrice = int(input(\"What is the product's new price?\"))\n",
    "    adminModifyProd(catalog,modifyProdNo,modifyWhatPart,newProdPrice=newProdPrice)\n",
    "    print(\"product has been modified. Here is the updated catalog:\")\n",
    "    print(catalog)\n",
    "else: \n",
    "    print(\"Not an option. Please choose from the menu again.\")"
   ]
  },
  {
   "cell_type": "code",
   "execution_count": 692,
   "metadata": {},
   "outputs": [
    {
     "data": {
      "text/plain": [
       "{1: {'item': 1, 'name': 'test', 'category': 'testcat', 'Price': 12},\n",
       " 2: {'item': 2,\n",
       "  'name': 'Black Short Boots',\n",
       "  'category': 'Boots',\n",
       "  'Price': 202},\n",
       " 3: {'item': 3,\n",
       "  'name': 'Brown Short Boots',\n",
       "  'category': 'Boots',\n",
       "  'Price': 103},\n",
       " 4: {'item': 4, 'name': 'Yellow Long Coat', 'category': 'Coats', 'Price': 104},\n",
       " 5: {'item': 5, 'name': 'Green Mini Coat', 'category': 'Coats', 'Price': 105},\n",
       " 6: {'item': 6, 'name': 'Black Coat', 'category': 'Coats', 'Price': 106},\n",
       " 7: {'item': 7, 'name': 'Ski Jacket', 'category': 'Jackets', 'Price': 107},\n",
       " 8: {'item': 8, 'name': 'Shirt Jacket', 'category': 'Jackets', 'Price': 108},\n",
       " 9: {'item': 9, 'name': 'Baseball Cap', 'category': 'Caps', 'Price': 109},\n",
       " 11: {'item': 11, 'name': 'slippers', 'category': 'shoes', 'Price': '100'}}"
      ]
     },
     "execution_count": 692,
     "metadata": {},
     "output_type": "execute_result"
    }
   ],
   "source": [
    "#Admin can remove existing products from the catalog\n",
    "catalog"
   ]
  },
  {
   "cell_type": "code",
   "execution_count": 700,
   "metadata": {},
   "outputs": [],
   "source": [
    "#Admin can delete a category of product from the catalog\n",
    "def adminDeleteCategory(catalog, deleteCatCatalog):\n",
    "    items_to_remove = [item_id for item_id, item_details in catalog.items() if item_details['category'] == deleteCatCatalog]\n",
    "    for item_id in items_to_remove: \n",
    "        catalog.pop(item_id)\n",
    "    print(\"Updated catalog:\")\n",
    "    print(catalog)"
   ]
  },
  {
   "cell_type": "code",
   "execution_count": 693,
   "metadata": {},
   "outputs": [],
   "source": [
    "deleteCatCatalog = input(\"Which category do you want to delete from the catalog?\")\n",
    "adminModifyProd"
   ]
  },
  {
   "cell_type": "code",
   "execution_count": 703,
   "metadata": {},
   "outputs": [
    {
     "name": "stdout",
     "output_type": "stream",
     "text": [
      "Updated catalog:\n",
      "{1: {'item': 1, 'name': 'test', 'category': 'testcat', 'Price': 12}, 7: {'item': 7, 'name': 'Ski Jacket', 'category': 'Jackets', 'Price': 107}, 8: {'item': 8, 'name': 'Shirt Jacket', 'category': 'Jackets', 'Price': 108}, 9: {'item': 9, 'name': 'Baseball Cap', 'category': 'Caps', 'Price': 109}}\n"
     ]
    }
   ],
   "source": [
    "deleteCatCatalog = \"Boots\"\n",
    "adminDeleteCategory(catalog,deleteCatCatalog)"
   ]
  },
  {
   "cell_type": "code",
   "execution_count": null,
   "metadata": {},
   "outputs": [],
   "source": [
    "#Admin functionality "
   ]
  },
  {
   "cell_type": "code",
   "execution_count": null,
   "metadata": {},
   "outputs": [],
   "source": []
  },
  {
   "cell_type": "markdown",
   "metadata": {},
   "source": [
    "## All functions \n",
    "startshopping()                 #welcome message \n",
    "UserAccessType()                #are you a user or admin?\n",
    "    #user_login()                   #If user, give credentials to: \n",
    "                                            #View catalog\n",
    "        addToCart()                         #Add to cart \n",
    "        deleteFromCart()                    #Delete from cart \n",
    "        checkout()                          #Checkout \n",
    "        \n",
    "    #admin_login()                  #If admin, give credentials to: \n",
    "                                            #View catalog       \n",
    "        #addToCatalog()                     #add to catalog\n",
    "        #deleteFromCatalog()                #delete from catalog\n",
    "        #modifyCatalog()                    #modify catalog item \n",
    "        #createNewProductCategory()         #create a new product category\n",
    "        #deleteOldProductCategory()         #delete a previous product category \n"
   ]
  },
  {
   "cell_type": "markdown",
   "metadata": {},
   "source": [
    "## All dictionaries \n",
    "user_access: usernames and passwords for all users \n",
    "admin_access: usernames and passwords for all admins \n",
    "catalog: all the shopping materials\n",
    "cart: subset of items from catalog \n",
    "\n",
    "\n"
   ]
  }
 ],
 "metadata": {
  "kernelspec": {
   "display_name": "Python 3",
   "language": "python",
   "name": "python3"
  },
  "language_info": {
   "codemirror_mode": {
    "name": "ipython",
    "version": 3
   },
   "file_extension": ".py",
   "mimetype": "text/x-python",
   "name": "python",
   "nbconvert_exporter": "python",
   "pygments_lexer": "ipython3",
   "version": "3.12.1"
  }
 },
 "nbformat": 4,
 "nbformat_minor": 2
}
