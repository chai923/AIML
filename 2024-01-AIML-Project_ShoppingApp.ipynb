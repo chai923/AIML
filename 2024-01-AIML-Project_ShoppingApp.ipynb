{
 "cells": [
  {
   "cell_type": "markdown",
   "metadata": {},
   "source": [
    "# Project: shopping app"
   ]
  },
  {
   "cell_type": "markdown",
   "metadata": {},
   "source": [
    "# Welcome Message\n",
    "A welcome message should initially be displayed in the e-commerce application, such as \"Welcome to the Demo Marketplace.\" "
   ]
  },
  {
   "cell_type": "code",
   "execution_count": 2,
   "metadata": {},
   "outputs": [
    {
     "name": "stdout",
     "output_type": "stream",
     "text": [
      "--------------------------------\n",
      "Welcome to Chandni's Marketplace\n",
      "--------------------------------\n"
     ]
    }
   ],
   "source": [
    "def startshopping(): \n",
    "    print('--------------------------------')\n",
    "    print(\"Welcome to Chandni's Marketplace\")\n",
    "    print('--------------------------------')\n",
    "\n",
    "startshopping()\n",
    "\n"
   ]
  },
  {
   "cell_type": "markdown",
   "metadata": {},
   "source": [
    "# User and Admin Credentials\n",
    "User login and admin login should be created once the code for the welcome message has been written. "
   ]
  },
  {
   "cell_type": "code",
   "execution_count": 3,
   "metadata": {},
   "outputs": [],
   "source": [
    "#user acccess dictionary \n",
    "user_access = {\n",
    "    #username; pw\n",
    "    'userA':'passA',\n",
    "    'userB':'passB',\n",
    "    'userC':'passC',\n",
    "    'userD':'passD',\n",
    "    'userE':'passE'\n",
    "}\n",
    "\n",
    "#admin access dictionary\n",
    "admin_access = {\n",
    "    'adminA':'apassA',\n",
    "    'adminB':'apassB',\n",
    "    'adminC':'apassC'\n",
    "\n",
    "}"
   ]
  },
  {
   "cell_type": "markdown",
   "metadata": {},
   "source": [
    "For the creation of demo login and admin login, demo databases for those should be created for the user and admin verification, and session id creation.\n",
    "\n",
    "After databases are created, create admin and user logins."
   ]
  },
  {
   "cell_type": "code",
   "execution_count": 4,
   "metadata": {},
   "outputs": [
    {
     "name": "stdout",
     "output_type": "stream",
     "text": [
      "login authenticated\n",
      "your cart session id is:  1001\n"
     ]
    }
   ],
   "source": [
    "def user_login():\n",
    "    user = input('Enter User Name')\n",
    "    password = input('Enter password')\n",
    "    \n",
    "    #Check if username and password is available in the user dict\n",
    "    if(user in user_access and user_access[user] in password):\n",
    "        print('login authenticated')\n",
    "        global session_id\n",
    "        session_id = '1001'\n",
    "        print(\"your cart session id is: \",session_id)\n",
    "    else: \n",
    "        print('incorrect username or login, try again')\n",
    "\n",
    "\n",
    "def admin_login():\n",
    "    admin = input('Enter your Admin name')\n",
    "    password = input('Enter password')\n",
    "    \n",
    "    #Check if username and password is available in the user dict\n",
    "    if(admin in admin_access and admin_access[admin] in password):\n",
    "        print('Admin login authenticated')\n",
    "    else: \n",
    "        print('Incorrect admin name or login, try again')\n",
    "\n",
    "\n",
    "user_login()"
   ]
  },
  {
   "cell_type": "markdown",
   "metadata": {},
   "source": [
    "# Sample Product Catalog\n",
    "It is necessary to construct a sample product catalog with three to four product categories, such as Boots, Coats, Jackets, and Caps. The product id, name, category id, and price should all be present for each item in the dummy database of the catalog. Both users and administrators can view the catalog.\n"
   ]
  },
  {
   "cell_type": "code",
   "execution_count": 5,
   "metadata": {},
   "outputs": [],
   "source": [
    "#Build a catalog using a dictionary \n",
    "#nested dictionary \n",
    "catalog = {\n",
    "    1: {\"item\":1, 'name':\"Black Tall Boots\",\"category\":\"Boots\",\"Price\":301},\n",
    "    2: {\"item\":2, 'name':\"Black Short Boots\",\"category\":\"Boots\",\"Price\":202},\n",
    "    3: {\"item\":3, 'name':\"Brown Short Boots\",\"category\":\"Boots\",\"Price\":103},\n",
    "    4: {\"item\":4, 'name':\"Yellow Long Coat\",\"category\":\"Coats\",\"Price\":104},\n",
    "    5: {\"item\":5, 'name':\"Green Mini Coat\",\"category\":\"Coats\",\"Price\":105},\n",
    "    6: {\"item\":6, 'name':\"Black Coat\",\"category\":\"Coats\",\"Price\":106},\n",
    "    7: {\"item\":7, 'name':\"Ski Jacket\",\"category\":\"Jackets\",\"Price\":107},\n",
    "    8: {\"item\":8, 'name':\"Shirt Jacket\",\"category\":\"Jackets\",\"Price\":108},\n",
    "    9: {\"item\":9, 'name':\"Baseball Cap\",\"category\":\"Caps\",\"Price\":109},\n",
    "    10:{\"item\":10, 'name':\"Beanie Cap\",\"category\":\"Caps\",\"Price\":110}\n",
    "}\n",
    "\n"
   ]
  },
  {
   "cell_type": "markdown",
   "metadata": {},
   "source": [
    "# User Login Rights "
   ]
  },
  {
   "cell_type": "code",
   "execution_count": 6,
   "metadata": {},
   "outputs": [
    {
     "name": "stdout",
     "output_type": "stream",
     "text": [
      "login authenticated\n",
      "your cart session id is:  1001\n"
     ]
    }
   ],
   "source": [
    "#Mechanism for user type admin vs user \n",
    "def UserAccessType(): \n",
    "    login_type = input('Are you a user or admin?')\n",
    "    if login_type == 'user': \n",
    "        user_login()\n",
    "    elif login_type == 'admin': \n",
    "        admin_login()\n",
    "    else: \n",
    "        print('additional login types not supported. Must select user or admin to continue')\n",
    "\n",
    "UserAccessType()"
   ]
  },
  {
   "cell_type": "code",
   "execution_count": 7,
   "metadata": {},
   "outputs": [],
   "source": [
    "#Build a function to display the items in the catalog \n"
   ]
  },
  {
   "cell_type": "code",
   "execution_count": 29,
   "metadata": {},
   "outputs": [],
   "source": [
    "# Initialize an empty cart\n",
    "cart = []"
   ]
  },
  {
   "cell_type": "code",
   "execution_count": 31,
   "metadata": {},
   "outputs": [
    {
     "name": "stdout",
     "output_type": "stream",
     "text": [
      "[{'item': 1, 'name': 'Black Tall Boots', 'category': 'Boots', 'Price': 301}, {'item': 1, 'name': 'Black Tall Boots', 'category': 'Boots', 'Price': 301}, {'item': 1, 'name': 'Black Tall Boots', 'category': 'Boots', 'Price': 301}, {'item': 1, 'name': 'Black Tall Boots', 'category': 'Boots', 'Price': 301}]\n",
      "Items have been added. Here is your updated cart:\n"
     ]
    },
    {
     "data": {
      "text/plain": [
       "[{'item': 1, 'name': 'Black Tall Boots', 'category': 'Boots', 'Price': 301},\n",
       " {'item': 1, 'name': 'Black Tall Boots', 'category': 'Boots', 'Price': 301},\n",
       " {'item': 1, 'name': 'Black Tall Boots', 'category': 'Boots', 'Price': 301},\n",
       " {'item': 1, 'name': 'Black Tall Boots', 'category': 'Boots', 'Price': 301},\n",
       " {'item': 2, 'name': 'Black Short Boots', 'category': 'Boots', 'Price': 202},\n",
       " {'item': 2, 'name': 'Black Short Boots', 'category': 'Boots', 'Price': 202}]"
      ]
     },
     "execution_count": 31,
     "metadata": {},
     "output_type": "execute_result"
    }
   ],
   "source": [
    "#Build an empty cart \n",
    "def addToCart(yoursessid,productid,itemquant): \n",
    "    print(\"Items have been added. Here is your updated cart:\")\n",
    "    while itemquant > 0: \n",
    "        cart.append(catalog[productid])\n",
    "        itemquant -= 1\n",
    "    return(cart)\n",
    "print(cart)\n",
    "\n",
    "#User inputs\n",
    "yoursessid = input(\"what is your cart session id?\")\n",
    "productid = int(input(\"which item would you like to add to the cart? 1-10\"))\n",
    "itemquant = int(input(\"how many of that item would you like to add?\"))\n",
    "\n",
    "addToCart(yoursessid,productid,itemquant)"
   ]
  },
  {
   "cell_type": "code",
   "execution_count": 37,
   "metadata": {},
   "outputs": [
    {
     "name": "stdout",
     "output_type": "stream",
     "text": [
      "The item isn't in your cart. Here is what you have in your cart:\n",
      "[{'item': 2, 'name': 'Black Short Boots', 'category': 'Boots', 'Price': 202}, {'item': 2, 'name': 'Black Short Boots', 'category': 'Boots', 'Price': 202}]\n"
     ]
    }
   ],
   "source": [
    "def deleteFromCart(sessionid,productid,itemquant):\n",
    "    if not cart: \n",
    "        print(\"Your cart is empty, there is nothing to delete.\")\n",
    "    elif catalog[productid] not in cart: \n",
    "        print(\"The item isn't in your cart. Here is what you have in your cart:\")\n",
    "    else: \n",
    "        print(\"The\",itemquant,\"Items have been removed. Here is your updated cart:\")\n",
    "        while itemquant > 0: \n",
    "            cart.remove(catalog[productid])\n",
    "            itemquant -= 1\n",
    "        return(cart)\n",
    "    print(cart)\n",
    "\n",
    "#User inputs\n",
    "yoursessid = input(\"what is your cart session id?\")\n",
    "productid = int(input(\"which item would you like to remove from the cart? 1-10\"))\n",
    "itemquant = int(input(\"how many of that item would you like to remove?\"))  \n",
    "\n",
    "deleteFromCart(yoursessid,productid,itemquant)"
   ]
  },
  {
   "cell_type": "code",
   "execution_count": null,
   "metadata": {},
   "outputs": [],
   "source": [
    "def checkout(sessionid):\n",
    "    "
   ]
  },
  {
   "cell_type": "code",
   "execution_count": 41,
   "metadata": {},
   "outputs": [
    {
     "name": "stdout",
     "output_type": "stream",
     "text": [
      "\n",
      "        1. View shopping catalog\n",
      "        2. Add item(s) to your cart \n",
      "        3. Delete item(s) from your cart \n",
      "        4. Checkout \n",
      "      \n",
      "You chose option 3\n",
      "The 1 Items have been removed. Here is your updated cart:\n",
      "[{'item': 2, 'name': 'Black Short Boots', 'category': 'Boots', 'Price': 202}, {'item': 5, 'name': 'Green Mini Coat', 'category': 'Coats', 'Price': 105}, {'item': 5, 'name': 'Green Mini Coat', 'category': 'Coats', 'Price': 105}, {'item': 5, 'name': 'Green Mini Coat', 'category': 'Coats', 'Price': 105}]\n"
     ]
    }
   ],
   "source": [
    "#User functionality \n",
    "\n",
    "print('''\n",
    "        1. View shopping catalog\n",
    "        2. Add item(s) to your cart \n",
    "        3. Delete item(s) from your cart \n",
    "        4. Checkout \n",
    "      ''')\n",
    "\n",
    "choice = int(input('insert your option from the menu'))\n",
    "\n",
    "print(\"You chose option\",choice)\n",
    "\n",
    "if choice == 1: \n",
    "    print(\"Here is the shopping catalog:\",catalog)\n",
    "elif choice ==2: \n",
    "    yoursessid = input(\"what is your cart session id?\")\n",
    "    productid = int(input(\"which item would you like to add to the cart? 1-10\"))\n",
    "    itemquant = int(input(\"how many of that item would you like to add?\"))\n",
    "    updatedcart = addToCart(yoursessid,productid,itemquant)\n",
    "    print(updatedcart)\n",
    "elif choice == 3:     \n",
    "    yoursessid = input(\"what is your cart session id?\")\n",
    "    productid = int(input(\"which item would you like to remove from the cart? 1-10\"))\n",
    "    itemquant = int(input(\"how many of that item would you like to remove?\"))   \n",
    "    updatedcart = deleteFromCart(yoursessid,productid,itemquant)   \n",
    "    print(updatedcart)\n",
    "elif choice == 4: \n",
    "    checkout() \n",
    "else: \n",
    "    print(\"Not a possible command. Choose 1,2,3 from the menu.\")"
   ]
  },
  {
   "cell_type": "code",
   "execution_count": null,
   "metadata": {},
   "outputs": [],
   "source": [
    "#Payment method \n",
    "def checkout(): \n",
    "    payment_method = input(\"How would you like to pay?\")\n",
    "    if payment_method == \"paypal\": \n",
    "        print(\"your order went through using paypal\")"
   ]
  },
  {
   "cell_type": "code",
   "execution_count": null,
   "metadata": {},
   "outputs": [],
   "source": [
    "#All functions \n",
    "startshopping()\n",
    "UserAccessType()\n",
    "    #user_login()\n",
    "        #session_id\n",
    "    #admin_login()\n",
    "addToCart()\n",
    "deleteFromCart()\n"
   ]
  },
  {
   "cell_type": "code",
   "execution_count": null,
   "metadata": {},
   "outputs": [],
   "source": [
    "#All dictionaries \n",
    "user_access\n",
    "admin_access\n",
    "catalog\n"
   ]
  }
 ],
 "metadata": {
  "kernelspec": {
   "display_name": "Python 3",
   "language": "python",
   "name": "python3"
  },
  "language_info": {
   "codemirror_mode": {
    "name": "ipython",
    "version": 3
   },
   "file_extension": ".py",
   "mimetype": "text/x-python",
   "name": "python",
   "nbconvert_exporter": "python",
   "pygments_lexer": "ipython3",
   "version": "3.12.1"
  }
 },
 "nbformat": 4,
 "nbformat_minor": 2
}
