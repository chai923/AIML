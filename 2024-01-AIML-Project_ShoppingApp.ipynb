{
 "cells": [
  {
   "cell_type": "markdown",
   "metadata": {},
   "source": [
    "# Chandni Kazi's Shopping App Project"
   ]
  },
  {
   "cell_type": "markdown",
   "metadata": {},
   "source": [
    "### Define necessary dictionaries "
   ]
  },
  {
   "cell_type": "code",
   "execution_count": 2,
   "metadata": {},
   "outputs": [],
   "source": [
    "#Create user access dictionary \n",
    "user_access = {\n",
    "\"user1\": {\"password\":\"pass1\" ,'sessionid':10001,\"cart\":[]},\n",
    "\"user2\": {\"password\":\"pass2\" ,'sessionid':10002,\"cart\":[]},\n",
    "\"user3\": {\"password\":\"pass3\",'sessionid':10003,\"cart\":[]},\n",
    "\"user4\": {\"password\":\"pass4\",'sessionid':10004,\"cart\":[]},\n",
    "\"user5\": {\"password\":\"pass5\",'sessionid':10005,\"cart\":[]}\n",
    "}"
   ]
  },
  {
   "cell_type": "code",
   "execution_count": 3,
   "metadata": {},
   "outputs": [],
   "source": [
    "#Create admin access dictionary\n",
    "admin_access = {\n",
    "    \"admin1\": {\"password\":\"passA\" ,'sessionid':101},\n",
    "    \"admin2\": {\"password\":\"passB\" ,'sessionid':102},\n",
    "    \"admin3\": {\"password\":\"passC\",'sessionid':103}\n",
    "    }"
   ]
  },
  {
   "cell_type": "code",
   "execution_count": 4,
   "metadata": {},
   "outputs": [],
   "source": [
    "#Build a shopping catalog dictionary \n",
    "catalog = {\n",
    "    1: {\"item\":1, 'name':\"Black Tall Boots\",\"category\":\"Boots\",\"Price\":301},\n",
    "    2: {\"item\":2, 'name':\"Black Short Boots\",\"category\":\"Boots\",\"Price\":202},\n",
    "    3: {\"item\":3, 'name':\"Brown Short Boots\",\"category\":\"Boots\",\"Price\":103},\n",
    "    4: {\"item\":4, 'name':\"Yellow Long Coat\",\"category\":\"Coats\",\"Price\":104},\n",
    "    5: {\"item\":5, 'name':\"Green Mini Coat\",\"category\":\"Coats\",\"Price\":105},\n",
    "    6: {\"item\":6, 'name':\"Black Coat\",\"category\":\"Coats\",\"Price\":106},\n",
    "    7: {\"item\":7, 'name':\"Ski Jacket\",\"category\":\"Jackets\",\"Price\":107},\n",
    "    8: {\"item\":8, 'name':\"Shirt Jacket\",\"category\":\"Jackets\",\"Price\":108},\n",
    "    9: {\"item\":9, 'name':\"Baseball Cap\",\"category\":\"Caps\",\"Price\":109},\n",
    "    10:{\"item\":10, 'name':\"Beanie Cap\",\"category\":\"Caps\",\"Price\":110}\n",
    "}"
   ]
  },
  {
   "cell_type": "code",
   "execution_count": 5,
   "metadata": {},
   "outputs": [],
   "source": [
    "#Initiate current number of items in catalog \n",
    "catalogcounter = 10"
   ]
  },
  {
   "cell_type": "code",
   "execution_count": 6,
   "metadata": {},
   "outputs": [],
   "source": [
    "#Start counter for number of users to create new sessionids \n",
    "counter = 10005 "
   ]
  },
  {
   "cell_type": "markdown",
   "metadata": {},
   "source": [
    "### Welcome message function"
   ]
  },
  {
   "cell_type": "code",
   "execution_count": 7,
   "metadata": {},
   "outputs": [],
   "source": [
    "#Welcome message function \n",
    "def startshopping(): \n",
    "    print('--------------------------------')\n",
    "    print(\"Welcome to Chandni's Marketplace\")\n",
    "    print('--------------------------------')"
   ]
  },
  {
   "cell_type": "markdown",
   "metadata": {},
   "source": [
    "### Define user functionalities "
   ]
  },
  {
   "cell_type": "markdown",
   "metadata": {},
   "source": [
    "what if they try to add an item that doesn't exist? need message for that. "
   ]
  },
  {
   "cell_type": "code",
   "execution_count": 8,
   "metadata": {},
   "outputs": [],
   "source": [
    "#User: Add to cart\n",
    "def addToCart(user,productid,itemquant):   \n",
    "    try:\n",
    "        catalog[productid]  \n",
    "        print(\"Items have been added. Here is your updated cart:\")\n",
    "        user_access[user][\"cart\"].extend([catalog.get(productid)]*itemquant)\n",
    "        print(user_access[user][\"cart\"])\n",
    "    except KeyError: \n",
    "        print(\"Product doesn't exist in catalog. Try again.\")"
   ]
  },
  {
   "cell_type": "code",
   "execution_count": 9,
   "metadata": {},
   "outputs": [],
   "source": [
    "#User: Delete from cart \n",
    "def deleteFromCart(user,productid,itemquant):   \n",
    "    if not user_access[user][\"cart\"]:\n",
    "        print(\"Your cart is empty, there is nothing to delete.\")\n",
    "    elif catalog[productid] not in user_access[user][\"cart\"]:\n",
    "        print(\"The item isn't in your cart. Here is what you have in your cart:\")\n",
    "        print(user_access[user][\"cart\"])\n",
    "    else: \n",
    "        print(\"Items have been removed. Here is your updated cart:\")\n",
    "        while itemquant > 0: \n",
    "            user_access[user][\"cart\"].remove(catalog[productid])\n",
    "            itemquant -= 1\n",
    "        print(user_access[user][\"cart\"])"
   ]
  },
  {
   "cell_type": "code",
   "execution_count": 10,
   "metadata": {},
   "outputs": [],
   "source": [
    "#User: Checkout and pay\n",
    "def checkout():\n",
    "    cart_items = user_access[user][\"cart\"]\n",
    "    if not cart_items:\n",
    "        print(\"Your cart is empty, please add items to your cart to checkout.\")\n",
    "\n",
    "    for item in cart_items: \n",
    "        print(item)      \n",
    "\n",
    "    finalcart = input(\"Is this your final cart? Yes/No\")\n",
    "\n",
    "    if finalcart in (\"Yes\",\"yes\"): \n",
    "        total_price = sum(item[\"Price\"] for item in cart_items)    \n",
    "        print(\"Your total is\",total_price)\n",
    "        print('''These are your payment options: \n",
    "                1. Paypal\n",
    "                2. Net banking\n",
    "                3. UPI \n",
    "                ''')\n",
    "        paymenttype = int(input(\"How do you want to pay?\"))\n",
    "        if paymenttype in (1,2):\n",
    "            print(\"Your order is successfully place. Thank you for shopping with us!\")\n",
    "        elif paymenttype == 3: \n",
    "            print(\"You will be shortly redirected to the portal for Unified Payment Interface to make your payment. Thank you for your business.\")\n",
    "        else: \n",
    "            print(\"Not an option, please chose from the menu.\")\n",
    "    else: \n",
    "        print(\"Please continue to shop\")"
   ]
  },
  {
   "cell_type": "markdown",
   "metadata": {},
   "source": [
    "### Define Admin functionalities "
   ]
  },
  {
   "cell_type": "code",
   "execution_count": 11,
   "metadata": {},
   "outputs": [],
   "source": [
    "#ADMIN: Add new products and new category of product to the catalog \n",
    "def adminAddProd(catalog, newProdName,newProdCat,newProdPrice):  \n",
    "    matching_items = [item_id for item_id, item_details in catalog.items() if item_details['name'] == newProdName and item_details['category'] == newProdCat]\n",
    "    if matching_items: \n",
    "        print(\"Product already exists. Try again.\") \n",
    "    else: \n",
    "        global catalogcounter\n",
    "        catalogcounter +=1\n",
    "        print(\"Product has been added. Here is the updated catalog:\")\n",
    "        next_item_no = catalogcounter\n",
    "        new_item = {\"item\":next_item_no,\"name\":newProdName,\"category\":newProdCat,\"Price\":newProdPrice}    \n",
    "        catalog[next_item_no] = new_item\n",
    "        print(catalog)\n",
    "        return(catalog)"
   ]
  },
  {
   "cell_type": "code",
   "execution_count": 12,
   "metadata": {},
   "outputs": [],
   "source": [
    "#ADMIN: modify an existing product in the catalog\n",
    "def adminModifyProd(catalog, modifyProdNo,modifyWhatPart,newProdName=None,newProdCat=None,newProdPrice=None):\n",
    "    if modifyWhatPart == 1: \n",
    "        try: \n",
    "            del catalog[modifyProdNo]\n",
    "            print(\"Product has been deleted. Here's the updated catalog.\")\n",
    "        except KeyError: \n",
    "            print(\"Item doesn't exist in catalog. No changes made.\")\n",
    "\n",
    "    elif modifyWhatPart == 2: \n",
    "        catalog[modifyProdNo]['name'] = newProdName\n",
    "    elif modifyWhatPart == 3:\n",
    "        catalog[modifyProdNo]['category'] = newProdCat\n",
    "    elif modifyWhatPart == 4:    \n",
    "        catalog[modifyProdNo]['Price'] = newProdPrice\n",
    "    else: \n",
    "        print(\"Not an option. Please choose from the menu. \")\n",
    "    return(catalog)"
   ]
  },
  {
   "cell_type": "code",
   "execution_count": 13,
   "metadata": {},
   "outputs": [],
   "source": [
    "#ADMIN: Delete a category of product from the catalog\n",
    "def adminDeleteCategory(catalog, deleteCatCatalog):\n",
    "    items_to_remove = [item_id for item_id, item_details in catalog.items() if item_details['category'] == deleteCatCatalog]\n",
    "    for item_id in items_to_remove: \n",
    "        catalog.pop(item_id)\n",
    "    print(\"Updated catalog:\")\n",
    "    print(catalog)"
   ]
  },
  {
   "cell_type": "markdown",
   "metadata": {},
   "source": [
    "### Define user menu items "
   ]
  },
  {
   "cell_type": "code",
   "execution_count": 14,
   "metadata": {},
   "outputs": [],
   "source": [
    "#User login function to confirm access and present rights\n",
    "def user_login():\n",
    "    user = input('Enter User Name')\n",
    "    password = input('Enter password')\n",
    "    global counter \n",
    "    counter += 1\n",
    "    \n",
    "    global sessionid \n",
    "    sessionid = 0 \n",
    "\n",
    "    #Check if username and password is available in the user dict\n",
    "    if(user in user_access and password in user_access[user][\"password\"]):\n",
    "        print('login authenticated')\n",
    "        sessionid = user_access[user][\"sessionid\"]\n",
    "        return(sessionid)\n",
    "    elif(user not in user_access): \n",
    "        newLogin = input(\"Do you want to create a new user account? Yes or No\")\n",
    "        if newLogin in (\"Yes\",\"yes\"): \n",
    "            user_access[user] = {\"password\":password,\"sessionid\":counter,\"cart\":[]}\n",
    "            sessionid = user_access[user][\"sessionid\"]\n",
    "            print(\"Your new login has been created.\")\n",
    "            return(sessionid)\n",
    "    else: \n",
    "        print('incorrect username or login, exit the app and try again')\n",
    "    return(sessionid)"
   ]
  },
  {
   "cell_type": "markdown",
   "metadata": {},
   "source": [
    "### Define ADMIN menu items"
   ]
  },
  {
   "cell_type": "code",
   "execution_count": 15,
   "metadata": {},
   "outputs": [],
   "source": [
    "#Admin login function to confirm access and present rights\n",
    "def admin_login():\n",
    "    admin = input('Enter your Admin name')\n",
    "    password = input('Enter password')\n",
    "\n",
    "    #Check if username and password is available in the user dict\n",
    "    if(admin in admin_access and password in admin_access[admin][\"password\"]):\n",
    "        print('Admin login authenticated')\n",
    "        sessionid = admin_access[admin][\"sessionid\"]\n",
    "    else: \n",
    "        print('Incorrect admin name or login, try again')\n",
    "        sessionid = 0\n",
    "    return(sessionid)\n",
    "\n"
   ]
  },
  {
   "cell_type": "code",
   "execution_count": 16,
   "metadata": {},
   "outputs": [],
   "source": [
    "#Function to determine role \n",
    "def UserAccessType(): \n",
    "    login_type = input('Are you a user or admin?')\n",
    "    if login_type == 'user': \n",
    "        sessionid = user_login()\n",
    "    elif login_type == 'admin': \n",
    "        sessionid = admin_login()\n",
    "    else: \n",
    "        print('additional login types not supported. Must select user or admin to continue')\n",
    "    return(login_type, sessionid)"
   ]
  },
  {
   "cell_type": "code",
   "execution_count": 17,
   "metadata": {},
   "outputs": [],
   "source": [
    "def main(): \n",
    "    #Run welcome message \n",
    "    startshopping()\n",
    "\n",
    "    global sessionid\n",
    "\n",
    "    info = UserAccessType()\n",
    "    accesstype = info[0]\n",
    "    sessionid = info[1]\n",
    "\n",
    "    if sessionid == 0:\n",
    "        \"Please restart the app and try again.\"\n",
    "    else: \n",
    "        if accesstype == \"user\": \n",
    "            #User functionality \n",
    "            while True: \n",
    "                print('''\n",
    "                        1. View shopping catalog\n",
    "                        2. Add item(s) to your cart \n",
    "                        3. Delete item(s) from your cart \n",
    "                        4. Checkout \n",
    "                        5. Exit app \n",
    "                    ''')\n",
    "\n",
    "                choice = int(input('insert your option from the menu'))\n",
    "\n",
    "                print(\"You chose option\",choice)\n",
    "\n",
    "                if choice == 1: \n",
    "                    print(\"Here is the shopping catalog:\",catalog)\n",
    "                elif choice ==2: \n",
    "                    productid = int(input(\"which item number would you like to add to the cart?\"))\n",
    "                    itemquant = int(input(\"how many of that item would you like to add?\"))\n",
    "                    addToCart(user,productid,itemquant)\n",
    "                    \n",
    "                elif choice == 3:     \n",
    "                    productid = int(input(\"which item number would you like to remove from the cart?\"))\n",
    "                    itemquant = int(input(\"how many of that item would you like to remove?\"))   \n",
    "                    deleteFromCart(user,productid,itemquant)   \n",
    "                    print(updatedcart)\n",
    "                elif choice == 4: \n",
    "                    checkout()\n",
    "                    print(\"Thank you. Good bye.\")\n",
    "                    break\n",
    "                elif choice ==5: \n",
    "                    print(\"Thank you. Good bye.\")\n",
    "                    break\n",
    "                else: \n",
    "                    print(\"Not a possible command. Choose 1,2,3 from the menu.\")  \n",
    "\n",
    "        elif accesstype ==\"admin\": \n",
    "            #admin functionality \n",
    "            while True: \n",
    "                print('''\n",
    "                        1. View shopping catalog \n",
    "                        2. Add new product to shopping catalog  \n",
    "                        3. Modify the shopping catalog \n",
    "                        4. Delete a category of items from the catalog \n",
    "                        5. Exit app\n",
    "                    ''')\n",
    "                choice = int(input('insert your option from the menu'))\n",
    "\n",
    "                print(\"You chose option\", choice)\n",
    "\n",
    "                if choice == 1: \n",
    "                    print(\"Here is the shopping catalog:\", catalog)\n",
    "                elif choice == 2:\n",
    "                     newProdName = input(\"What is the name of the new product?\")\n",
    "                     newProdCat = input(\"What is the category of the new product?\")\n",
    "                     newProdPrice = input(\"What is the price of the new product?\")\n",
    "                     adminAddProd(catalog, newProdName,newProdCat,newProdPrice)\n",
    "                elif choice == 3: \n",
    "                    print('''Choose from this menu:\n",
    "                            1. Delete a product from the catalog? \n",
    "                            2. Modify a product's name?  \n",
    "                            3. Modify a product's category?  \n",
    "                            4. Modify a product's price?\n",
    "                        ''')\n",
    "                    \n",
    "                    modifyWhatPart = int(input(\"From the menu, how do you want to modify the catalog?\"))\n",
    "                    modifyProdNo = int(input(\"Which product number do you want to modify?\"))\n",
    "                    \n",
    "                    if modifyWhatPart == 1: \n",
    "                        adminModifyProd(catalog,modifyProdNo,modifyWhatPart)\n",
    "                        print(catalog)\n",
    "                    elif modifyWhatPart == 2: \n",
    "                        newProdName = input(\"what is the product's new name?\")\n",
    "                        adminModifyProd(catalog,modifyProdNo,modifyWhatPart,newProdName=newProdName)\n",
    "                        print(\"product has been modified. Here is the updated catalog:\")\n",
    "                        print(catalog)\n",
    "                    elif modifyWhatPart == 3: \n",
    "                        newProdCat = input(\"What is the product's new category?\")\n",
    "                        adminModifyProd(catalog,modifyProdNo,modifyWhatPart,newProdCat=newProdCat)\n",
    "                        print(\"product has been modified. Here is the updated catalog:\")\n",
    "                        print(catalog)\n",
    "                    elif modifyWhatPart == 4: \n",
    "                        newProdPrice = int(input(\"What is the product's new price?\"))\n",
    "                        adminModifyProd(catalog,modifyProdNo,modifyWhatPart,newProdPrice=newProdPrice)\n",
    "                        print(\"product has been modified. Here is the updated catalog:\")\n",
    "                        print(catalog)\n",
    "                    else: \n",
    "                        print(\"Not an option. Please choose from the menu again.\")\n",
    "                elif choice == 4: \n",
    "                    deleteCatCatalog = input(\"Which category do you want to delete? Spelling must match perfectly.\")\n",
    "                    adminDeleteCategory(catalog,deleteCatCatalog)\n",
    "                    print(\"category has been deleted. Here is the updated catalog:\")\n",
    "                    print(catalog)\n",
    "                elif choice == 5: \n",
    "                    print(\"Thanks! Good bye.\")\n",
    "                    break\n",
    "                else:\n",
    "                    print(\"Not supported type. Exit and try again.\")\n",
    "    \n",
    "\n",
    "  \n",
    "    #Define user functionality "
   ]
  },
  {
   "cell_type": "code",
   "execution_count": 18,
   "metadata": {},
   "outputs": [
    {
     "name": "stdout",
     "output_type": "stream",
     "text": [
      "--------------------------------\n",
      "Welcome to Chandni's Marketplace\n",
      "--------------------------------\n",
      "Your new login has been created.\n",
      "\n",
      "                        1. View shopping catalog\n",
      "                        2. Add item(s) to your cart \n",
      "                        3. Delete item(s) from your cart \n",
      "                        4. Checkout \n",
      "                        5. Exit app \n",
      "                    \n",
      "You chose option 5\n",
      "Thank you. Good bye.\n"
     ]
    }
   ],
   "source": [
    "main()"
   ]
  }
 ],
 "metadata": {
  "kernelspec": {
   "display_name": "Python 3",
   "language": "python",
   "name": "python3"
  },
  "language_info": {
   "codemirror_mode": {
    "name": "ipython",
    "version": 3
   },
   "file_extension": ".py",
   "mimetype": "text/x-python",
   "name": "python",
   "nbconvert_exporter": "python",
   "pygments_lexer": "ipython3",
   "version": "3.12.1"
  }
 },
 "nbformat": 4,
 "nbformat_minor": 2
}
