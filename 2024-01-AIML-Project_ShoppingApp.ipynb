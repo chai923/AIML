{
 "cells": [
  {
   "cell_type": "markdown",
   "metadata": {},
   "source": [
    "# Project: shopping app "
   ]
  },
  {
   "cell_type": "markdown",
   "metadata": {},
   "source": [
    "# Welcome Message\n",
    "A welcome message should initially be displayed in the e-commerce application, such as \"Welcome to the Demo Marketplace.\" "
   ]
  },
  {
   "cell_type": "code",
   "execution_count": null,
   "metadata": {},
   "outputs": [],
   "source": [
    "def startshopping(): \n",
    "    print('--------------------------------')\n",
    "    print(\"Welcome to Chandni's Marketplace\")\n",
    "    print('--------------------------------')"
   ]
  },
  {
   "cell_type": "markdown",
   "metadata": {},
   "source": [
    "Testing welcome message"
   ]
  },
  {
   "cell_type": "code",
   "execution_count": null,
   "metadata": {},
   "outputs": [],
   "source": [
    "startshopping()"
   ]
  },
  {
   "cell_type": "markdown",
   "metadata": {},
   "source": [
    "# User and Admin Credentials\n",
    "User login and admin login should be created once the code for the welcome message has been written. "
   ]
  },
  {
   "cell_type": "code",
   "execution_count": null,
   "metadata": {},
   "outputs": [],
   "source": [
    "#user acccess dictionary \n",
    "user_access = {\n",
    "    \"user1\": {\"password\":\"pass1\" ,'sessionid':10001,\"cart\":[]},\n",
    "    \"user2\": {\"password\":\"pass2\" ,'sessionid':10002,\"cart\":[]},\n",
    "    \"user3\": {\"password\":\"pass3\",'sessionid':10003,\"cart\":[]},\n",
    "    \"user4\": {\"password\":\"pass4\",'sessionid':10004,\"cart\":[]},\n",
    "    \"user5\": {\"password\":\"pass5\",'sessionid':10005,\"cart\":[]}}\n",
    "\n",
    "#admin access dictionary\n",
    "admin_access = {\n",
    "    \"admin1\": {\"password\":\"passA\" ,'sessionid':101},\n",
    "    \"admin2\": {\"password\":\"passB\" ,'sessionid':102},\n",
    "    \"admin3\": {\"password\":\"passC\",'sessionid':103}}"
   ]
  },
  {
   "cell_type": "markdown",
   "metadata": {},
   "source": [
    "For the creation of demo login and admin login, demo databases for those should be created for the user and admin verification, and session id creation.\n",
    "\n",
    "After databases are created, create admin and user logins.\n",
    "\n",
    "Additionally, the admin can only log in using their credentials, and if the admin attempts to log in using another set of credentials, an error notice must appear."
   ]
  },
  {
   "cell_type": "code",
   "execution_count": null,
   "metadata": {},
   "outputs": [],
   "source": [
    "counter = 10005 \n",
    "def user_login():\n",
    "    user = input('Enter User Name')\n",
    "    password = input('Enter password')\n",
    "    global counter \n",
    "    counter += 1\n",
    "    #Check if username and password is available in the user dict\n",
    "    if(user in user_access and password in user_access[user][\"password\"]):\n",
    "        print('login authenticated')\n",
    "    elif(user not in user_access): \n",
    "        newLogin = input(\"Do you want to create a new user account? Yes or No\")\n",
    "        if newLogin == \"Yes\": \n",
    "            user_access[user] = {\"password\":password,\"sessionid\":counter}\n",
    "            print(\"Your new login has been created\")\n",
    "    else: \n",
    "        print('incorrect username or login, try again')\n",
    "    \n",
    "\n",
    "def admin_login():\n",
    "    admin = input('Enter your Admin name')\n",
    "    password = input('Enter password')\n",
    "    \n",
    "    #Check if username and password is available in the user dict\n",
    "    if(admin in admin_access and password in admin_access[admin][\"password\"]):\n",
    "        print('Admin login authenticated')\n",
    "    else: \n",
    "        print('Incorrect admin name or login, try again')\n"
   ]
  },
  {
   "cell_type": "markdown",
   "metadata": {},
   "source": [
    "# Sample Product Catalog\n",
    "It is necessary to construct a sample product catalog with three to four product categories, such as Boots, Coats, Jackets, and Caps. The product id, name, category id, and price should all be present for each item in the dummy database of the catalog. Both users and administrators can view the catalog.\n"
   ]
  },
  {
   "cell_type": "code",
   "execution_count": null,
   "metadata": {},
   "outputs": [],
   "source": [
    "#Build a catalog using a dictionary \n",
    "#nested dictionary \n",
    "catalog = {\n",
    "    1: {\"item\":1, 'name':\"Black Tall Boots\",\"category\":\"Boots\",\"Price\":301},\n",
    "    2: {\"item\":2, 'name':\"Black Short Boots\",\"category\":\"Boots\",\"Price\":202},\n",
    "    3: {\"item\":3, 'name':\"Brown Short Boots\",\"category\":\"Boots\",\"Price\":103},\n",
    "    4: {\"item\":4, 'name':\"Yellow Long Coat\",\"category\":\"Coats\",\"Price\":104},\n",
    "    5: {\"item\":5, 'name':\"Green Mini Coat\",\"category\":\"Coats\",\"Price\":105},\n",
    "    6: {\"item\":6, 'name':\"Black Coat\",\"category\":\"Coats\",\"Price\":106},\n",
    "    7: {\"item\":7, 'name':\"Ski Jacket\",\"category\":\"Jackets\",\"Price\":107},\n",
    "    8: {\"item\":8, 'name':\"Shirt Jacket\",\"category\":\"Jackets\",\"Price\":108},\n",
    "    9: {\"item\":9, 'name':\"Baseball Cap\",\"category\":\"Caps\",\"Price\":109},\n",
    "    10:{\"item\":10, 'name':\"Beanie Cap\",\"category\":\"Caps\",\"Price\":110}\n",
    "}\n",
    "\n"
   ]
  },
  {
   "cell_type": "markdown",
   "metadata": {},
   "source": [
    "# User Login Rights "
   ]
  },
  {
   "cell_type": "code",
   "execution_count": null,
   "metadata": {},
   "outputs": [],
   "source": [
    "#Mechanism for user type admin vs user \n",
    "def UserAccessType(): \n",
    "    login_type = input('Are you a user or admin?')\n",
    "    if login_type == 'user': \n",
    "        user_login()\n",
    "    elif login_type == 'admin': \n",
    "        admin_login()\n",
    "    else: \n",
    "        print('additional login types not supported. Must select user or admin to continue')\n",
    "\n",
    "#UserAccessType()"
   ]
  },
  {
   "cell_type": "markdown",
   "metadata": {},
   "source": [
    "# User Functions and Functionality "
   ]
  },
  {
   "cell_type": "code",
   "execution_count": null,
   "metadata": {},
   "outputs": [],
   "source": [
    "#Add to cart\n",
    "def addToCart(user,productid,itemquant):   \n",
    "    print(\"Items have been added. Here is your updated cart:\")\n",
    "    user_access[user][\"cart\"].extend([catalog.get(productid)]*itemquant)\n",
    "    print(user_access[user][\"cart\"])\n"
   ]
  },
  {
   "cell_type": "code",
   "execution_count": null,
   "metadata": {},
   "outputs": [],
   "source": [
    "#User inputs\n",
    "user = input(\"what is your cart session id?\")\n",
    "productid = int(input(\"which item would you like to add to the cart? 1-10\"))\n",
    "itemquant = int(input(\"how many of that item would you like to add?\"))\n",
    "addToCart(user,productid,itemquant)"
   ]
  },
  {
   "cell_type": "code",
   "execution_count": null,
   "metadata": {},
   "outputs": [],
   "source": [
    "#Delete from cart\n",
    "def deleteFromCart(user,productid,itemquant):   \n",
    "    if not user_access[user][\"cart\"]:\n",
    "        print(\"Your cart is empty, there is nothing to delete.\")\n",
    "    elif catalog[productid] not in user_access[user][\"cart\"]:\n",
    "        print(\"The item isn't in your cart. Here is what you have in your cart:\")\n",
    "        print(user_access[user][\"cart\"])\n",
    "    else: \n",
    "        print(\"Items have been removed. Here is your updated cart:\")\n",
    "        while itemquant > 0: \n",
    "            user_access[user][\"cart\"].remove(catalog[productid])\n",
    "            itemquant -= 1\n",
    "        print(user_access[user][\"cart\"])\n",
    "    \n",
    "    #return(session_cart, cart)"
   ]
  },
  {
   "cell_type": "code",
   "execution_count": null,
   "metadata": {},
   "outputs": [],
   "source": [
    "#User inputs\n",
    "user = input(\"what is your username?\")\n",
    "productid = int(input(\"which item would you like to delete from the cart? 1-10\"))\n",
    "itemquant = int(input(\"how many of that item would you like to remove?\"))\n",
    "deleteFromCart(user,productid,itemquant)\n"
   ]
  },
  {
   "cell_type": "code",
   "execution_count": null,
   "metadata": {},
   "outputs": [],
   "source": [
    "#Checkout and pay\n",
    "def checkout():\n",
    "    user = input(\"What is your user name?\")\n",
    "    cart_items = user_access[user][\"cart\"]\n",
    "    if not cart_items:\n",
    "        print(\"Your cart is empty, please add items to your cart to checkout.\")\n",
    "        return\n",
    "    \n",
    "    for item in cart_items: \n",
    "        print(item)      \n",
    "    \n",
    "    finalcart = input(\"Is this your final cart? Yes/No\")\n",
    "    \n",
    "    if finalcart in (\"Yes\",\"yes\"): \n",
    "        total_price = sum(item[\"Price\"] for item in cart_items)    \n",
    "        print(\"Your total is\",total_price)\n",
    "        print('''These are your payment options: \n",
    "             1. Paypal\n",
    "             2. Net banking\n",
    "             3. UPI \n",
    "             ''')\n",
    "        paymenttype = int(input(\"How do you want to pay?\"))\n",
    "        if paymenttype in (1,2):\n",
    "            print(\"Your order is successfully place. Thank you for shopping with us!\")\n",
    "        elif paymenttype == 3: \n",
    "            print(\"You will be shortly redirected to the portal for Unified Payment Interface to make your payment. Thank you for your business.\")\n",
    "        else: \n",
    "            print(\"Not an option, please chose from the menu.\")\n",
    "    else: \n",
    "        print(\"Please continue to shop\")\n",
    "\n",
    "checkout()"
   ]
  },
  {
   "cell_type": "code",
   "execution_count": null,
   "metadata": {},
   "outputs": [],
   "source": [
    "#User functionality \n",
    "while True: \n",
    "    print('''\n",
    "            1. View shopping catalog\n",
    "            2. Add item(s) to your cart \n",
    "            3. Delete item(s) from your cart \n",
    "            4. Checkout \n",
    "        ''')\n",
    "\n",
    "    choice = int(input('insert your option from the menu'))\n",
    "\n",
    "    print(\"You chose option\",choice)\n",
    "\n",
    "    if choice == 1: \n",
    "        print(\"Here is the shopping catalog:\",catalog)\n",
    "        return(True)\n",
    "    elif choice ==2: \n",
    "        yoursessid = input(\"what is your cart session id?\")\n",
    "        productid = int(input(\"which item would you like to add to the cart? 1-10\"))\n",
    "        itemquant = int(input(\"how many of that item would you like to add?\"))\n",
    "        updatedcart = addToCart(yoursessid,productid,itemquant)\n",
    "        print(updatedcart)\n",
    "        return(True)\n",
    "    elif choice == 3:     \n",
    "        yoursessid = input(\"what is your cart session id?\")\n",
    "        productid = int(input(\"which item would you like to remove from the cart? 1-10\"))\n",
    "        itemquant = int(input(\"how many of that item would you like to remove?\"))   \n",
    "        updatedcart = deleteFromCart(yoursessid,productid,itemquant)   \n",
    "        print(updatedcart)\n",
    "        return(True)\n",
    "    elif choice == 4: \n",
    "        checkout() \n",
    "    else: \n",
    "        print(\"Not a possible command. Choose 1,2,3 from the menu.\")"
   ]
  },
  {
   "cell_type": "markdown",
   "metadata": {},
   "source": [
    "# Admin Functions and Functionality"
   ]
  },
  {
   "cell_type": "code",
   "execution_count": null,
   "metadata": {},
   "outputs": [],
   "source": [
    "#Admin add new products to the catalog and new category of product to the catalog\n",
    "catalogcounter = 10\n",
    "def adminAddProd(catalog, newProdName,newProdCat,newProdPrice): \n",
    "    \n",
    "    matching_items = [item_id for item_id, item_details in catalog.items() if item_details['name'] == newProdName and item_details['category'] == newProdCat]\n",
    "    if matching_items: \n",
    "       print(\"Product already exists. Try again.\") \n",
    "    else: \n",
    "        global catalogcounter\n",
    "        catalogcounter +=1\n",
    "        print(\"Product has been added. Here is the updated catalog:\")\n",
    "        next_item_no = catalogcounter\n",
    "        new_item = {\"item\":next_item_no,\"name\":newProdName,\"category\":newProdCat,\"Price\":newProdPrice}    \n",
    "        catalog[next_item_no] = new_item\n",
    "        print(catalog)\n",
    "        return(catalog)\n"
   ]
  },
  {
   "cell_type": "code",
   "execution_count": null,
   "metadata": {},
   "outputs": [],
   "source": [
    "newProdName = input(\"What is the new product's name?\")\n",
    "newProdCat = input(\"What is the new product's category?\")\n",
    "newProdPrice = input(\"What is the new product's price?\")"
   ]
  },
  {
   "cell_type": "code",
   "execution_count": null,
   "metadata": {},
   "outputs": [],
   "source": [
    "#Admin can modify an existing product in the catalog\n",
    "def adminModifyProd(catalog, modifyProdNo,modifyWhatPart,newProdName=None,newProdCat=None,newProdPrice=None):\n",
    "    if modifyWhatPart == 1: \n",
    "        try: \n",
    "            del catalog[modifyProdNo]\n",
    "            print(\"Product has been deleted. Here's the updated catalog.\")\n",
    "        except KeyError: \n",
    "            print(\"Item doesn't exist in catalog. No changes made.\")\n",
    "\n",
    "    elif modifyWhatPart == 2: \n",
    "        catalog[modifyProdNo]['name'] = newProdName\n",
    "    elif modifyWhatPart == 3:\n",
    "        catalog[modifyProdNo]['category'] = newProdCat\n",
    "    elif modifyWhatPart == 4:    \n",
    "        catalog[modifyProdNo]['Price'] = newProdPrice\n",
    "    else: \n",
    "        print(\"Not an option. Please choose from the menu. \")\n",
    "    return(catalog)"
   ]
  },
  {
   "cell_type": "code",
   "execution_count": null,
   "metadata": {},
   "outputs": [],
   "source": [
    "print('''Choose from this menu:\n",
    "        1. Delete a product from the catalog? \n",
    "        2. Modify a product's name?  \n",
    "        3. Modify a product's category?  \n",
    "        4. Modify a product's price?\n",
    "      ''')\n",
    "\n",
    "modifyWhatPart = int(input(\"From the menu, how do you want to modify the catalog?\"))\n",
    "modifyProdNo = int(input(\"Which product number do you want to modify?\"))\n",
    "\n",
    "if modifyWhatPart == 1: \n",
    "    adminModifyProd(catalog,modifyProdNo,modifyWhatPart)\n",
    "    print(catalog)\n",
    "elif modifyWhatPart == 2: \n",
    "    newProdName = input(\"what is the product's new name?\")\n",
    "    adminModifyProd(catalog,modifyProdNo,modifyWhatPart,newProdName=newProdName)\n",
    "    print(\"product has been modified. Here is the updated catalog:\")\n",
    "    print(catalog)\n",
    "elif modifyWhatPart == 3: \n",
    "    newProdCat = input(\"What is the product's new category?\")\n",
    "    adminModifyProd(catalog,modifyProdNo,modifyWhatPart,newProdCat=newProdCat)\n",
    "    print(\"product has been modified. Here is the updated catalog:\")\n",
    "    print(catalog)\n",
    "elif modifyWhatPart == 4: \n",
    "    newProdPrice = int(input(\"What is the product's new price?\"))\n",
    "    adminModifyProd(catalog,modifyProdNo,modifyWhatPart,newProdPrice=newProdPrice)\n",
    "    print(\"product has been modified. Here is the updated catalog:\")\n",
    "    print(catalog)\n",
    "else: \n",
    "    print(\"Not an option. Please choose from the menu again.\")"
   ]
  },
  {
   "cell_type": "code",
   "execution_count": null,
   "metadata": {},
   "outputs": [],
   "source": [
    "#Admin can delete a category of product from the catalog\n",
    "def adminDeleteCategory(catalog, deleteCatCatalog):\n",
    "    items_to_remove = [item_id for item_id, item_details in catalog.items() if item_details['category'] == deleteCatCatalog]\n",
    "    for item_id in items_to_remove: \n",
    "        catalog.pop(item_id)\n",
    "    print(\"Updated catalog:\")\n",
    "    print(catalog)"
   ]
  },
  {
   "cell_type": "code",
   "execution_count": null,
   "metadata": {},
   "outputs": [],
   "source": [
    "deleteCatCatalog = \"Boots\"\n",
    "adminDeleteCategory(catalog,deleteCatCatalog)"
   ]
  },
  {
   "cell_type": "code",
   "execution_count": null,
   "metadata": {},
   "outputs": [],
   "source": [
    "#Admin functionality "
   ]
  },
  {
   "cell_type": "markdown",
   "metadata": {},
   "source": [
    "## All functions \n",
    "startshopping()                 #welcome message \n",
    "UserAccessType()                #are you a user or admin?\n",
    "    #user_login()                   #If user, give credentials to: \n",
    "                                            #View catalog\n",
    "        addToCart()                         #Add to cart \n",
    "        deleteFromCart()                    #Delete from cart \n",
    "        checkout()                          #Checkout \n",
    "        \n",
    "    #admin_login()                  #If admin, give credentials to: \n",
    "                                            #View catalog       \n",
    "        #addToCatalog()                     #add to catalog\n",
    "        #deleteFromCatalog()                #delete from catalog\n",
    "        #modifyCatalog()                    #modify catalog item \n",
    "        #createNewProductCategory()         #create a new product category\n",
    "        #deleteOldProductCategory()         #delete a previous product category \n"
   ]
  },
  {
   "cell_type": "markdown",
   "metadata": {},
   "source": [
    "## All dictionaries \n",
    "user_access: usernames and passwords for all users \n",
    "admin_access: usernames and passwords for all admins \n",
    "catalog: all the shopping materials\n",
    "cart: subset of items from catalog \n",
    "\n",
    "\n"
   ]
  },
  {
   "cell_type": "markdown",
   "metadata": {},
   "source": [
    "# Chandni Kazi's Shopping App"
   ]
  },
  {
   "cell_type": "markdown",
   "metadata": {},
   "source": [
    "### Define necessary dictionaries "
   ]
  },
  {
   "cell_type": "code",
   "execution_count": 814,
   "metadata": {},
   "outputs": [],
   "source": [
    "#Create user access dictionary \n",
    "user_access = {\n",
    "\"user1\": {\"password\":\"pass1\" ,'sessionid':10001,\"cart\":[]},\n",
    "\"user2\": {\"password\":\"pass2\" ,'sessionid':10002,\"cart\":[]},\n",
    "\"user3\": {\"password\":\"pass3\",'sessionid':10003,\"cart\":[]},\n",
    "\"user4\": {\"password\":\"pass4\",'sessionid':10004,\"cart\":[]},\n",
    "\"user5\": {\"password\":\"pass5\",'sessionid':10005,\"cart\":[]}\n",
    "}"
   ]
  },
  {
   "cell_type": "code",
   "execution_count": 815,
   "metadata": {},
   "outputs": [],
   "source": [
    "#Create admin access dictionary\n",
    "admin_access = {\n",
    "    \"admin1\": {\"password\":\"passA\" ,'sessionid':101},\n",
    "    \"admin2\": {\"password\":\"passB\" ,'sessionid':102},\n",
    "    \"admin3\": {\"password\":\"passC\",'sessionid':103}\n",
    "    }"
   ]
  },
  {
   "cell_type": "code",
   "execution_count": 816,
   "metadata": {},
   "outputs": [],
   "source": [
    "#Build a shopping catalog dictionary \n",
    "catalog = {\n",
    "    1: {\"item\":1, 'name':\"Black Tall Boots\",\"category\":\"Boots\",\"Price\":301},\n",
    "    2: {\"item\":2, 'name':\"Black Short Boots\",\"category\":\"Boots\",\"Price\":202},\n",
    "    3: {\"item\":3, 'name':\"Brown Short Boots\",\"category\":\"Boots\",\"Price\":103},\n",
    "    4: {\"item\":4, 'name':\"Yellow Long Coat\",\"category\":\"Coats\",\"Price\":104},\n",
    "    5: {\"item\":5, 'name':\"Green Mini Coat\",\"category\":\"Coats\",\"Price\":105},\n",
    "    6: {\"item\":6, 'name':\"Black Coat\",\"category\":\"Coats\",\"Price\":106},\n",
    "    7: {\"item\":7, 'name':\"Ski Jacket\",\"category\":\"Jackets\",\"Price\":107},\n",
    "    8: {\"item\":8, 'name':\"Shirt Jacket\",\"category\":\"Jackets\",\"Price\":108},\n",
    "    9: {\"item\":9, 'name':\"Baseball Cap\",\"category\":\"Caps\",\"Price\":109},\n",
    "    10:{\"item\":10, 'name':\"Beanie Cap\",\"category\":\"Caps\",\"Price\":110}\n",
    "}"
   ]
  },
  {
   "cell_type": "code",
   "execution_count": 817,
   "metadata": {},
   "outputs": [],
   "source": [
    "#Initiate current number of items in catalog \n",
    "catalogcounter = 10"
   ]
  },
  {
   "cell_type": "code",
   "execution_count": 818,
   "metadata": {},
   "outputs": [],
   "source": [
    "#Start counter for number of users to create new sessionids \n",
    "counter = 10005 "
   ]
  },
  {
   "cell_type": "markdown",
   "metadata": {},
   "source": [
    "### Welcome message function"
   ]
  },
  {
   "cell_type": "code",
   "execution_count": 819,
   "metadata": {},
   "outputs": [],
   "source": [
    "#Welcome message function \n",
    "def startshopping(): \n",
    "    print('--------------------------------')\n",
    "    print(\"Welcome to Chandni's Marketplace\")\n",
    "    print('--------------------------------')"
   ]
  },
  {
   "cell_type": "markdown",
   "metadata": {},
   "source": [
    "### Define user functionalities "
   ]
  },
  {
   "cell_type": "markdown",
   "metadata": {},
   "source": [
    "what if they try to add an item that doesn't exist? need message for that. "
   ]
  },
  {
   "cell_type": "code",
   "execution_count": 820,
   "metadata": {},
   "outputs": [],
   "source": [
    "#User: Add to cart\n",
    "def addToCart(user,productid,itemquant):   \n",
    "    print(\"Items have been added. Here is your updated cart:\")\n",
    "    user_access[user][\"cart\"].extend([catalog.get(productid)]*itemquant)\n",
    "    print(user_access[user][\"cart\"])"
   ]
  },
  {
   "cell_type": "code",
   "execution_count": 821,
   "metadata": {},
   "outputs": [],
   "source": [
    "#User: Delete from cart \n",
    "def deleteFromCart(user,productid,itemquant):   \n",
    "    if not user_access[user][\"cart\"]:\n",
    "        print(\"Your cart is empty, there is nothing to delete.\")\n",
    "    elif catalog[productid] not in user_access[user][\"cart\"]:\n",
    "        print(\"The item isn't in your cart. Here is what you have in your cart:\")\n",
    "        print(user_access[user][\"cart\"])\n",
    "    else: \n",
    "        print(\"Items have been removed. Here is your updated cart:\")\n",
    "        while itemquant > 0: \n",
    "            user_access[user][\"cart\"].remove(catalog[productid])\n",
    "            itemquant -= 1\n",
    "        print(user_access[user][\"cart\"])"
   ]
  },
  {
   "cell_type": "code",
   "execution_count": 822,
   "metadata": {},
   "outputs": [],
   "source": [
    "#User: Checkout and pay\n",
    "def checkout():\n",
    "    cart_items = user_access[user][\"cart\"]\n",
    "    if not cart_items:\n",
    "        print(\"Your cart is empty, please add items to your cart to checkout.\")\n",
    "\n",
    "    for item in cart_items: \n",
    "        print(item)      \n",
    "\n",
    "    finalcart = input(\"Is this your final cart? Yes/No\")\n",
    "\n",
    "    if finalcart in (\"Yes\",\"yes\"): \n",
    "        total_price = sum(item[\"Price\"] for item in cart_items)    \n",
    "        print(\"Your total is\",total_price)\n",
    "        print('''These are your payment options: \n",
    "                1. Paypal\n",
    "                2. Net banking\n",
    "                3. UPI \n",
    "                ''')\n",
    "        paymenttype = int(input(\"How do you want to pay?\"))\n",
    "        if paymenttype in (1,2):\n",
    "            print(\"Your order is successfully place. Thank you for shopping with us!\")\n",
    "        elif paymenttype == 3: \n",
    "            print(\"You will be shortly redirected to the portal for Unified Payment Interface to make your payment. Thank you for your business.\")\n",
    "        else: \n",
    "            print(\"Not an option, please chose from the menu.\")\n",
    "    else: \n",
    "        print(\"Please continue to shop\")"
   ]
  },
  {
   "cell_type": "markdown",
   "metadata": {},
   "source": [
    "### Define Admin functionalities "
   ]
  },
  {
   "cell_type": "code",
   "execution_count": 823,
   "metadata": {},
   "outputs": [],
   "source": [
    "#ADMIN: Add new products and new category of product to the catalog \n",
    "def adminAddProd(catalog, newProdName,newProdCat,newProdPrice):  \n",
    "    matching_items = [item_id for item_id, item_details in catalog.items() if item_details['name'] == newProdName and item_details['category'] == newProdCat]\n",
    "    if matching_items: \n",
    "        print(\"Product already exists. Try again.\") \n",
    "    else: \n",
    "        global catalogcounter\n",
    "        catalogcounter +=1\n",
    "        print(\"Product has been added. Here is the updated catalog:\")\n",
    "        next_item_no = catalogcounter\n",
    "        new_item = {\"item\":next_item_no,\"name\":newProdName,\"category\":newProdCat,\"Price\":newProdPrice}    \n",
    "        catalog[next_item_no] = new_item\n",
    "        print(catalog)\n",
    "        return(catalog)"
   ]
  },
  {
   "cell_type": "code",
   "execution_count": 824,
   "metadata": {},
   "outputs": [],
   "source": [
    "#ADMIN: modify an existing product in the catalog\n",
    "def adminModifyProd(catalog, modifyProdNo,modifyWhatPart,newProdName=None,newProdCat=None,newProdPrice=None):\n",
    "    if modifyWhatPart == 1: \n",
    "        try: \n",
    "            del catalog[modifyProdNo]\n",
    "            print(\"Product has been deleted. Here's the updated catalog.\")\n",
    "        except KeyError: \n",
    "            print(\"Item doesn't exist in catalog. No changes made.\")\n",
    "\n",
    "    elif modifyWhatPart == 2: \n",
    "        catalog[modifyProdNo]['name'] = newProdName\n",
    "    elif modifyWhatPart == 3:\n",
    "        catalog[modifyProdNo]['category'] = newProdCat\n",
    "    elif modifyWhatPart == 4:    \n",
    "        catalog[modifyProdNo]['Price'] = newProdPrice\n",
    "    else: \n",
    "        print(\"Not an option. Please choose from the menu. \")\n",
    "    return(catalog)"
   ]
  },
  {
   "cell_type": "code",
   "execution_count": 825,
   "metadata": {},
   "outputs": [],
   "source": [
    "#ADMIN: Delete a category of product from the catalog\n",
    "def adminDeleteCategory(catalog, deleteCatCatalog):\n",
    "    items_to_remove = [item_id for item_id, item_details in catalog.items() if item_details['category'] == deleteCatCatalog]\n",
    "    for item_id in items_to_remove: \n",
    "        catalog.pop(item_id)\n",
    "    print(\"Updated catalog:\")\n",
    "    print(catalog)"
   ]
  },
  {
   "cell_type": "markdown",
   "metadata": {},
   "source": [
    "### Define user menu items "
   ]
  },
  {
   "cell_type": "code",
   "execution_count": 826,
   "metadata": {},
   "outputs": [],
   "source": [
    "#User login function to confirm access and present rights\n",
    "def user_login():\n",
    "    user = input('Enter User Name')\n",
    "    password = input('Enter password')\n",
    "    global counter \n",
    "    counter += 1\n",
    "    \n",
    "    global sessionid \n",
    "    sessionid = 0 \n",
    "\n",
    "    #Check if username and password is available in the user dict\n",
    "    if(user in user_access and password in user_access[user][\"password\"]):\n",
    "        print('login authenticated')\n",
    "        sessionid = user_access[user][\"sessionid\"]\n",
    "        return(sessionid)\n",
    "    elif(user not in user_access): \n",
    "        newLogin = input(\"Do you want to create a new user account? Yes or No\")\n",
    "        if newLogin in (\"Yes\",\"yes\"): \n",
    "            user_access[user] = {\"password\":password,\"sessionid\":counter,\"cart\":[]}\n",
    "            sessionid = user_access[user][\"sessionid\"]\n",
    "            print(\"Your new login has been created.\")\n",
    "            return(sessionid)\n",
    "    else: \n",
    "        print('incorrect username or login, exit the app and try again')\n",
    "    return(sessionid)"
   ]
  },
  {
   "cell_type": "markdown",
   "metadata": {},
   "source": [
    "### Define ADMIN menu items"
   ]
  },
  {
   "cell_type": "code",
   "execution_count": 827,
   "metadata": {},
   "outputs": [],
   "source": [
    "#Admin login function to confirm access and present rights\n",
    "def admin_login():\n",
    "    admin = input('Enter your Admin name')\n",
    "    password = input('Enter password')\n",
    "\n",
    "    #Check if username and password is available in the user dict\n",
    "    if(admin in admin_access and password in admin_access[admin][\"password\"]):\n",
    "        print('Admin login authenticated')\n",
    "        sessionid = admin_access[admin][\"sessionid\"]\n",
    "    else: \n",
    "        print('Incorrect admin name or login, try again')\n",
    "        sessionid = 0\n",
    "    return(sessionid)\n",
    "\n"
   ]
  },
  {
   "cell_type": "code",
   "execution_count": 828,
   "metadata": {},
   "outputs": [],
   "source": [
    "#Function to determine role \n",
    "def UserAccessType(): \n",
    "    login_type = input('Are you a user or admin?')\n",
    "    if login_type == 'user': \n",
    "        sessionid = user_login()\n",
    "    elif login_type == 'admin': \n",
    "        sessionid = admin_login()\n",
    "    else: \n",
    "        print('additional login types not supported. Must select user or admin to continue')\n",
    "    return(login_type, sessionid)"
   ]
  },
  {
   "cell_type": "code",
   "execution_count": 829,
   "metadata": {},
   "outputs": [],
   "source": [
    "def main(): \n",
    "    #Run welcome message \n",
    "    startshopping()\n",
    "\n",
    "    global sessionid\n",
    "\n",
    "    info = UserAccessType()\n",
    "    accesstype = info[0]\n",
    "    sessionid = info[1]\n",
    "\n",
    "    if sessionid == 0:\n",
    "        \"Please restart the app and try again.\"\n",
    "    else: \n",
    "        if accesstype == \"user\": \n",
    "            #User functionality \n",
    "            while True: \n",
    "                print('''\n",
    "                        1. View shopping catalog\n",
    "                        2. Add item(s) to your cart \n",
    "                        3. Delete item(s) from your cart \n",
    "                        4. Checkout \n",
    "                    ''')\n",
    "\n",
    "                choice = int(input('insert your option from the menu'))\n",
    "\n",
    "                print(\"You chose option\",choice)\n",
    "\n",
    "                if choice == 1: \n",
    "                    print(\"Here is the shopping catalog:\",catalog)\n",
    "                elif choice ==2: \n",
    "                    productid = int(input(\"which item number would you like to add to the cart?\"))\n",
    "                    itemquant = int(input(\"how many of that item would you like to add?\"))\n",
    "                    addToCart(user,productid,itemquant)\n",
    "                    \n",
    "                elif choice == 3:     \n",
    "                    productid = int(input(\"which item number would you like to remove from the cart?\"))\n",
    "                    itemquant = int(input(\"how many of that item would you like to remove?\"))   \n",
    "                    deleteFromCart(user,productid,itemquant)   \n",
    "                    print(updatedcart)\n",
    "                elif choice == 4: \n",
    "                    checkout()\n",
    "                    print(\"Thank you. Good bye\")\n",
    "                    break\n",
    "                else: \n",
    "                    print(\"Not a possible command. Choose 1,2,3 from the menu.\")  \n",
    "\n",
    "        elif accesstype ==\"admin\": \n",
    "            #admin functionality \n",
    "            while True: \n",
    "                print('''\n",
    "                        1. View shopping catalog \n",
    "                        2. Add new product to shopping catalog  \n",
    "                        3. Modify the shopping catalog \n",
    "                        4. Delete a category of items from the catalog \n",
    "                        5. Exit app\n",
    "                    ''')\n",
    "                choice = int(input('insert your option from the menu'))\n",
    "\n",
    "                print(\"You chose option\", choice)\n",
    "\n",
    "                if choice == 1: \n",
    "                    print(\"Here is the shopping catalog:\", catalog)\n",
    "                if choice == 2:\n",
    "                     newProdName = input(\"What is the name of the new product?\")\n",
    "                     newProdCat = input(\"What is the category of the new product?\")\n",
    "                     newProdPrice = input(\"What is the price of the new product?\")\n",
    "                     adminAddProd(catalog, newProdName,newProdCat,newProdPrice)\n",
    "                if choice == 3: \n",
    "                    print('''Choose from this menu:\n",
    "                            1. Delete a product from the catalog? \n",
    "                            2. Modify a product's name?  \n",
    "                            3. Modify a product's category?  \n",
    "                            4. Modify a product's price?\n",
    "                        ''')\n",
    "                    \n",
    "                    modifyWhatPart = int(input(\"From the menu, how do you want to modify the catalog?\"))\n",
    "                    modifyProdNo = int(input(\"Which product number do you want to modify?\"))\n",
    "                    \n",
    "                    if modifyWhatPart == 1: \n",
    "                        adminModifyProd(catalog,modifyProdNo,modifyWhatPart)\n",
    "                        print(catalog)\n",
    "                    elif modifyWhatPart == 2: \n",
    "                        newProdName = input(\"what is the product's new name?\")\n",
    "                        adminModifyProd(catalog,modifyProdNo,modifyWhatPart,newProdName=newProdName)\n",
    "                        print(\"product has been modified. Here is the updated catalog:\")\n",
    "                        print(catalog)\n",
    "                    elif modifyWhatPart == 3: \n",
    "                        newProdCat = input(\"What is the product's new category?\")\n",
    "                        adminModifyProd(catalog,modifyProdNo,modifyWhatPart,newProdCat=newProdCat)\n",
    "                        print(\"product has been modified. Here is the updated catalog:\")\n",
    "                        print(catalog)\n",
    "                    elif modifyWhatPart == 4: \n",
    "                        newProdPrice = int(input(\"What is the product's new price?\"))\n",
    "                        adminModifyProd(catalog,modifyProdNo,modifyWhatPart,newProdPrice=newProdPrice)\n",
    "                        print(\"product has been modified. Here is the updated catalog:\")\n",
    "                        print(catalog)\n",
    "                    else: \n",
    "                        print(\"Not an option. Please choose from the menu again.\")\n",
    "                if choice == 4: \n",
    "                    deleteCatCatalog = input(\"Which category do you want to delete? Spelling must match perfectly.\")\n",
    "                    adminDeleteCategory(catalog,deleteCatCatalog)\n",
    "                    print(\"category has been deleted. Here is the updated catalog:\")\n",
    "                    print(catalog)\n",
    "                if choice == 5: \n",
    "                    print(\"Thanks! Good bye.\")\n",
    "                    break\n",
    "                else:\n",
    "                    print(\"Not supported type. Exit and try again.\")\n",
    "    \n",
    "\n",
    "  \n",
    "    #Define user functionality "
   ]
  },
  {
   "cell_type": "code",
   "execution_count": null,
   "metadata": {},
   "outputs": [],
   "source": [
    "main()"
   ]
  }
 ],
 "metadata": {
  "kernelspec": {
   "display_name": "Python 3",
   "language": "python",
   "name": "python3"
  },
  "language_info": {
   "codemirror_mode": {
    "name": "ipython",
    "version": 3
   },
   "file_extension": ".py",
   "mimetype": "text/x-python",
   "name": "python",
   "nbconvert_exporter": "python",
   "pygments_lexer": "ipython3",
   "version": "3.12.1"
  }
 },
 "nbformat": 4,
 "nbformat_minor": 2
}
